{
 "cells": [
  {
   "cell_type": "code",
   "execution_count": null,
   "id": "f707592e-632c-403f-be77-225a605605a2",
   "metadata": {
    "scrolled": true
   },
   "outputs": [],
   "source": [
    "library(malbacR)\n",
    "library(pmartR)\n",
    "library(ggplot2)\n",
    "library(dplyr)\n",
    "library(tibble)\n",
    "library(tidyr)\n",
    "library(paletteer)"
   ]
  },
  {
   "cell_type": "code",
   "execution_count": null,
   "id": "d1a45562-d2b2-4ea3-85f0-312e9136499d",
   "metadata": {},
   "outputs": [],
   "source": [
    "data_exp <- read.csv('./0.1_缺失值数据矩阵.csv',encoding = 'GBK') %>% \n",
    "  # mutate(Molecule = paste('Var',1:n(),sep = '')) %>% \n",
    "  column_to_rownames('Metabolites') %>% \n",
    "  rownames_to_column('Molecule') %>% \n",
    "  ## 排除一个病人对应的两个代谢组数据，其CT有问题'X040215''X040958'\n",
    "  ## T001931999  这个患者，对应X040458（基线）和X041135（评效）两个血样，排除分析\n",
    "  select(-c('X040215','X040958','X040458','X041135'))\n",
    "dim(data_exp)\n",
    "data_exp$level %>% table()"
   ]
  },
  {
   "cell_type": "code",
   "execution_count": null,
   "id": "827fbc36-0da4-4a82-9990-4908b5801172",
   "metadata": {},
   "outputs": [],
   "source": [
    "data_exp %>% colnames()"
   ]
  },
  {
   "cell_type": "code",
   "execution_count": null,
   "id": "94b35c67-4ddd-406f-9031-f42b991121d9",
   "metadata": {},
   "outputs": [],
   "source": [
    "dim(data_exp)\n",
    "data_exp %>% head()"
   ]
  },
  {
   "cell_type": "code",
   "execution_count": null,
   "id": "914cb7f2-3af6-4392-bd47-024a4f75d87a",
   "metadata": {},
   "outputs": [],
   "source": [
    "# colnames(data_exp)\n",
    "e_data <- data_exp %>% \n",
    "  select(-names(.)[2:30])\n",
    "e_meta <- data_exp %>% \n",
    "  select(names(.)[1:30])"
   ]
  },
  {
   "cell_type": "code",
   "execution_count": null,
   "id": "d5ff0a61-feb3-42b9-b4cc-335b9ba4b449",
   "metadata": {},
   "outputs": [],
   "source": [
    "options(repr.matrix.max.cols = 15)\n",
    "e_data %>% head()\n",
    "e_meta %>% head()"
   ]
  },
  {
   "cell_type": "code",
   "execution_count": null,
   "id": "2343d221-6c4b-4b60-beae-8e1d5dd95622",
   "metadata": {},
   "outputs": [],
   "source": [
    "e_meta$Molecule %>% duplicated() %>% table()"
   ]
  },
  {
   "cell_type": "code",
   "execution_count": null,
   "id": "c0215291-05cf-4267-9d14-807669fa5d80",
   "metadata": {},
   "outputs": [],
   "source": [
    "data_meta_raw <- read.csv('./meta_all_raw_new.csv') %>% \n",
    "    mutate(across(matches(\"group1|group2\"), ~ case_when(\n",
    "    . == 0 ~ \"non-sarcopenia\",\n",
    "    . == 1 ~ \"sarcopenia\",\n",
    "    TRUE ~ as.character(.)\n",
    "  )))\n",
    "data_meta_raw %>% dim()\n",
    "data_meta_raw %>% head()"
   ]
  },
  {
   "cell_type": "code",
   "execution_count": null,
   "id": "5784ba35-1fe3-47ad-b5ae-376273728404",
   "metadata": {
    "scrolled": true
   },
   "outputs": [],
   "source": [
    "data_meta <- data_meta_raw %>% \n",
    "    select(c('ID','group_lv1','time_1','time_2','SMI_group1','SMI_group2','SFA_group1',\n",
    "             'SFA_group2','VFA_group1','VFA_group2','SMD_group1','SMD_group2')) %>% \n",
    "    mutate(across(everything(),.fns = as.character)) %>% \n",
    "    pivot_longer(\n",
    "        cols = c('time_1','time_2'),\n",
    "        names_to = 'group_lv2',\n",
    "        values_to = 'Sample') %>% \n",
    "    mutate(\n",
    "        Sample = paste('X',Sample,sep = ''),\n",
    "        group_lv1 = ifelse(group_lv1 == '1',yes = 'Development Cohort',no = 'Validation Cohort')\n",
    "    )\n",
    "dim(data_meta)\n",
    "data_meta %>% head()"
   ]
  },
  {
   "cell_type": "code",
   "execution_count": null,
   "id": "9d56deb4-ea34-45fd-afc4-e173fa78d720",
   "metadata": {},
   "outputs": [],
   "source": [
    "sample_expdata <- e_data %>% colnames() %>% .[-1]\n",
    "sample_expdata[!(sample_expdata %in% (data_meta$Sample %>% unique()))]"
   ]
  },
  {
   "cell_type": "code",
   "execution_count": null,
   "id": "2535cb42-f7c0-4fae-9040-c64a1cb06b33",
   "metadata": {},
   "outputs": [],
   "source": [
    "library(stringr)"
   ]
  },
  {
   "cell_type": "code",
   "execution_count": null,
   "id": "a82645f8-3f34-4354-9568-b30470bd5778",
   "metadata": {},
   "outputs": [],
   "source": [
    "data_meta <- data_meta %>% \n",
    "    mutate(\n",
    "        Sample = ifelse(\n",
    "            test = Sample %in% sample_expdata,\n",
    "            yes = Sample,\n",
    "            no = paste('X','0',Sample %>% str_remove('X'),sep = '')\n",
    "        )\n",
    "    )"
   ]
  },
  {
   "cell_type": "code",
   "execution_count": null,
   "id": "087a01cb-2b61-4279-ae10-0212644c7f91",
   "metadata": {},
   "outputs": [],
   "source": [
    "sample_expdata %>% .[!grepl('QC',.)] %>% length()\n",
    "data_meta$Sample %>% unique() %>% length()"
   ]
  },
  {
   "cell_type": "code",
   "execution_count": null,
   "id": "118113f7-5fcb-4470-8b4c-55bafdbc4251",
   "metadata": {},
   "outputs": [],
   "source": [
    "data_meta$Sample[!((data_meta$Sample %>% unique()) %in% sample_expdata)]"
   ]
  },
  {
   "cell_type": "code",
   "execution_count": null,
   "id": "8c42492c-b78d-43e3-8e41-216f967d7cf0",
   "metadata": {},
   "outputs": [],
   "source": [
    "sample_expdata[!(sample_expdata %in% (data_meta$Sample %>% unique()))] %>% .[!grepl('QC',.)]"
   ]
  },
  {
   "cell_type": "code",
   "execution_count": null,
   "id": "e766020f-4eac-4434-8c73-f79ab0cf8a14",
   "metadata": {},
   "outputs": [],
   "source": [
    "data_meta <- data_meta %>% \n",
    "  filter(!(Sample %in% c('X040215','X040958','X040458','X041135'))) %>% \n",
    "  filter(Sample %in% sample_expdata)\n",
    "data_meta %>% dim()\n",
    "data_meta %>% head()"
   ]
  },
  {
   "cell_type": "code",
   "execution_count": null,
   "id": "5fdcd7f9-09ec-44f0-abaf-97a670d4bebb",
   "metadata": {},
   "outputs": [],
   "source": [
    "data_meta %>% filter(group_lv1 == 'Development Cohort')  %>% pull(group_lv2) %>% unique() %>% length()"
   ]
  },
  {
   "cell_type": "code",
   "execution_count": null,
   "id": "19335caf-fd8d-404b-ab05-2f202496e526",
   "metadata": {},
   "outputs": [],
   "source": [
    "data_meta$Sample %>% unique() %>% length()\n",
    "data_meta %>% head()"
   ]
  },
  {
   "cell_type": "markdown",
   "id": "988ba513-8904-4746-8a98-5f1cc5ae8f40",
   "metadata": {},
   "source": [
    "#### baseline data绘图"
   ]
  },
  {
   "cell_type": "code",
   "execution_count": null,
   "id": "a93fd670-7e74-48cc-82f5-51d185952465",
   "metadata": {
    "scrolled": true
   },
   "outputs": [],
   "source": [
    "data_plot_baseline <- data_meta %>% \n",
    "    filter(group_lv2 == 'time_1') %>% \n",
    "    select(c('ID','group_lv1','Sample','SMI_group1','SFA_group1','VFA_group1','SMD_group1')) %>% \n",
    "    pivot_longer(\n",
    "        cols = c('SMI_group1','SFA_group1','VFA_group1','SMD_group1'),\n",
    "        names_to = 'group_lv2',\n",
    "        values_to = 'group_lv3') %>% \n",
    "    filter(group_lv3 != '#N/A') %>% \n",
    "    group_by(group_lv1,group_lv2,group_lv3) %>% \n",
    "    summarise(\n",
    "        Counts = n(),\n",
    "        .groups = 'drop'\n",
    "    ) %>% \n",
    "    mutate(\n",
    "        group_lv1 = factor(group_lv1,levels = c('Development Cohort','Validation Cohort')),\n",
    "        group_lv2 = factor(group_lv2,levels = c('SMI_group1','SFA_group1','VFA_group1','SMD_group1')),\n",
    "        group_lv3 = factor(group_lv3,levels = c(\n",
    "             'non-sarcopenia','sarcopenia'\n",
    "        )),\n",
    "        group_lv4 = 'baseline'\n",
    "    )\n",
    "data_plot_baseline %>% head()"
   ]
  },
  {
   "cell_type": "code",
   "execution_count": null,
   "id": "1df24a07-8a41-4764-920b-fef35ba6a045",
   "metadata": {},
   "outputs": [],
   "source": [
    "data_plot_baseline$group_lv1 %>% unique()"
   ]
  },
  {
   "cell_type": "code",
   "execution_count": null,
   "id": "7486cafe-b57c-4e7b-92d7-97837eb28f53",
   "metadata": {},
   "outputs": [],
   "source": [
    "options(repr.plot.width = 14,repr.plot.height = 12)\n",
    "ggplot(data_plot_baseline, aes(x = group_lv3, y = Counts,fill = group_lv3,label = Counts)) +\n",
    "    geom_bar(stat = \"identity\",position = position_dodge2(width = 0.8),alpha = 0.8) +\n",
    "    geom_text(aes(y = Counts - 2),size = 10,angle = 0,color = 'white',position = position_dodge(width = 0.9)) +\n",
    "    facet_wrap(group_lv1~group_lv2,ncol = 4,scales = 'free',strip.position = 'left') +\n",
    "    scale_fill_manual(values = c('#F8766D','#00BFC4')) +#paletteer_d(\"ggsci::nrc_npg\")[c(1,2)]\n",
    "    scale_y_continuous(expand = c(0,0.5)) +\n",
    "    labs(x = \"\", y = \"\") + \n",
    "    theme_classic() +\n",
    "    theme(\n",
    "        plot.margin = margin(l = 100),\n",
    "        axis.text = element_text(size = 20),\n",
    "        axis.text.x = element_blank(),\n",
    "        axis.title = element_blank(),\n",
    "        legend.position = 'top',\n",
    "        legend.title = element_blank(),\n",
    "        legend.text = element_text(margin = margin(t= 5,b = 5,r = 30),size = 20),\n",
    "        legend.key.width = unit(2, \"cm\"),\n",
    "        strip.placement = 'outside',\n",
    "        panel.spacing.y = unit(2, \"lines\"),\n",
    "        strip.background = element_blank(),\n",
    "        strip.text = element_text(size = 20)\n",
    "    )"
   ]
  },
  {
   "cell_type": "markdown",
   "id": "f1685f99-0ff2-4d59-85fb-785d2ca13a12",
   "metadata": {},
   "source": [
    "#### Evaluation data"
   ]
  },
  {
   "cell_type": "code",
   "execution_count": null,
   "id": "5711bb37-b25c-4059-9679-df4bdf76cd08",
   "metadata": {
    "scrolled": true
   },
   "outputs": [],
   "source": [
    "data_plot_evaluation <- data_meta %>% \n",
    "    filter(group_lv2 == 'time_2') %>% \n",
    "    select(c('ID','group_lv1','Sample','SMI_group2','SFA_group2','VFA_group2','SMD_group2')) \n",
    "data_plot_evaluation$SMI_group2 %>% unique()\n",
    "data_plot_evaluation$SFA_group2 %>% unique()\n",
    "data_plot_evaluation$VFA_group2 %>% unique()\n",
    "data_plot_evaluation$SMD_group2 %>% unique()"
   ]
  },
  {
   "cell_type": "code",
   "execution_count": null,
   "id": "86384a91-85e9-4700-a8bb-6f18a74b7d02",
   "metadata": {},
   "outputs": [],
   "source": [
    "data_plot_evaluation <- data_meta %>% \n",
    "    filter(group_lv2 == 'time_2') %>% \n",
    "    select(c('ID','group_lv1','Sample','SMI_group2','SFA_group2','VFA_group2','SMD_group2')) %>% \n",
    "    pivot_longer(\n",
    "        cols = c('SMI_group2','SFA_group2','VFA_group2','SMD_group2'),\n",
    "        names_to = 'group_lv2',\n",
    "        values_to = 'group_lv3') %>% \n",
    "    filter(group_lv3 != '#N/A') %>% \n",
    "    group_by(group_lv1,group_lv2,group_lv3) %>% \n",
    "    summarise(\n",
    "        Counts = n(),\n",
    "        .groups = 'drop'\n",
    "    ) %>% \n",
    "    mutate(\n",
    "        group_lv1 = factor(group_lv1,levels = c('Development Cohort','Validation Cohort')),\n",
    "        group_lv2 = factor(group_lv2,levels = c('SMI_group2','SFA_group2','VFA_group2','SMD_group2')),\n",
    "        group_lv3 = factor(group_lv3,levels = c(\n",
    "             'non-sarcopenia','sarcopenia'\n",
    "        )),\n",
    "        group_lv4 = 'evaluation'\n",
    "    )\n",
    "data_plot_evaluation %>% head()"
   ]
  },
  {
   "cell_type": "code",
   "execution_count": null,
   "id": "15a0bf95-0d6a-4903-8bac-1810f16aad10",
   "metadata": {},
   "outputs": [],
   "source": [
    "options(repr.plot.width = 14,repr.plot.height = 12)\n",
    "ggplot(data_plot_evaluation, aes(x = group_lv3, y = Counts,fill = group_lv3,label = Counts)) +\n",
    "    geom_bar(stat = \"identity\",position = position_dodge2(width = 0.8),alpha = 0.8) +\n",
    "    geom_text(aes(y = Counts - 2),size = 10,angle = 0,color = 'white',position = position_dodge(width = 0.9)) +\n",
    "    facet_wrap(group_lv1~group_lv2,ncol = 4,scales = 'free',strip.position = 'left') +\n",
    "    scale_fill_manual(values = c('#A94322','#2B5C8A')) +\n",
    "    scale_y_continuous(expand = c(0,0.5)) +\n",
    "    labs(x = \"\", y = \"\") + \n",
    "    theme_classic() +\n",
    "    theme(\n",
    "        plot.margin = margin(l = 100),\n",
    "        axis.text = element_text(size = 20),\n",
    "        axis.text.x = element_blank(),\n",
    "        axis.title = element_blank(),\n",
    "        legend.position = 'top',\n",
    "        legend.title = element_blank(),\n",
    "        legend.text = element_text(margin = margin(t= 5,b = 5,r = 30),size = 20),\n",
    "        legend.key.width = unit(2, \"cm\"),\n",
    "        strip.placement = 'outside',\n",
    "        panel.spacing.y = unit(2, \"lines\"),\n",
    "        strip.background = element_blank(),\n",
    "        strip.text = element_text(size = 20)\n",
    "    )"
   ]
  },
  {
   "cell_type": "code",
   "execution_count": null,
   "id": "5906d9d0-95da-404a-97f6-26ca53adb84a",
   "metadata": {
    "scrolled": true
   },
   "outputs": [],
   "source": [
    "data_plot <- data_meta %>% \n",
    "    pivot_longer(\n",
    "    cols = c('SMI_group1','SMI_group2','SFA_group1','SFA_group2',\n",
    "             'VFA_group1','VFA_group2','SMD_group1','SMD_group2'),\n",
    "    names_to = 'group_lv3',\n",
    "    values_to = 'group_lv4') %>% \n",
    "    filter(group_lv4 != '#N/A') %>% \n",
    "    group_by(group_lv1,group_lv2,group_lv3,group_lv4) %>% \n",
    "    summarise(\n",
    "        Counts = n(),\n",
    "        .groups = 'drop'\n",
    "    )  %>% \n",
    "    mutate(\n",
    "        group_lv1 = factor(group_lv1,levels = c('Development Cohort','Validation Cohort')),\n",
    "        group_lv2 = factor(group_lv2,levels = c('time_1','time_2')),\n",
    "        group_lv3 = factor(group_lv3,levels = c(\n",
    "            'SMI_group1','SFA_group1','VFA_group1','SMD_group1',\n",
    "             'SMI_group2','SFA_group2','VFA_group2','SMD_group2'\n",
    "        ))\n",
    "    ) %>% \n",
    "    arrange(group_lv1,group_lv2,group_lv3,group_lv4)\n",
    "    # select(c('group_lv1','group_lv2','group_lv3','group_lv3_label','Count')) %>% \n",
    "    # rename()\n",
    "data_plot %>% dim()\n",
    "data_plot"
   ]
  },
  {
   "cell_type": "code",
   "execution_count": null,
   "id": "9f547902-a080-4356-a7e1-642493a74cd2",
   "metadata": {},
   "outputs": [],
   "source": [
    "data_plot$group_lv3 %>% unique()"
   ]
  },
  {
   "cell_type": "code",
   "execution_count": null,
   "id": "59bfa9be-a0c5-4cde-9639-158110afbd03",
   "metadata": {
    "scrolled": true
   },
   "outputs": [],
   "source": [
    "options(repr.plot.width = 12,repr.plot.height = 8)\n",
    "ggplot(data_plot, aes(x = group_lv2, y = Counts,fill = group_lv3_label,label = Counts)) + \n",
    "  geom_bar(stat = \"identity\",position = position_dodge2(width = 0.8),alpha = 0.8) +\n",
    "  geom_text(aes(y = Counts + 4),size = 6,angle = 0,position = position_dodge(width = 0.9)) +\n",
    "  facet_wrap(~group_lv1,ncol = 4,scales = 'free',strip.position = 'left') +\n",
    "  scale_fill_manual(values = c('#9E3D22','#2B5C8A')) +\n",
    "  labs(x = \"\", y = \"\") + \n",
    "  theme_classic() +\n",
    "  theme(\n",
    "    plot.margin = margin(l = 100),\n",
    "    axis.text = element_text(size = 20),\n",
    "    axis.text.x = element_text(angle = 25,hjust = 1,vjust = 1,size = 16),\n",
    "    axis.title = element_blank(),\n",
    "    legend.position = 'top',\n",
    "    legend.title = element_blank(),\n",
    "    legend.text = element_text(size = 16),\n",
    "    strip.placement = 'outside',\n",
    "    strip.background = element_blank(),\n",
    "    strip.text = element_text(size = 20)\n",
    "  )"
   ]
  },
  {
   "cell_type": "markdown",
   "id": "2f19b864-61f4-4967-84d2-20fcfff38f9f",
   "metadata": {},
   "source": [
    "# different Level ===="
   ]
  },
  {
   "cell_type": "code",
   "execution_count": null,
   "id": "66a60982-13d6-48f2-b154-b172048de7a4",
   "metadata": {},
   "outputs": [],
   "source": [
    "options(repr.plot.width = 10,repr.plot.height = 10)\n",
    "data_plot <- e_meta$level %>% \n",
    "  table() %>% \n",
    "  as.data.frame() %>% \n",
    "  rename_all(~c('Level','Counts'))\n",
    "ggplot(data_plot, aes(x = Level, y = Counts,fill = Level)) + \n",
    "  geom_bar(stat = \"identity\") +\n",
    "  geom_text(aes(y = Counts - 40,label = Counts),color = 'white',size = 10) +\n",
    "  # scale_fill_manual(values = c('#9E3D22','#2B5C8A')) +\n",
    "  scale_fill_manual(values = paletteer_d(\"ggsci::nrc_npg\")) +\n",
    "  labs(x = \"Level\", y = \"Metabolites Count\") + \n",
    "  theme_classic() +\n",
    "  theme(\n",
    "    axis.text = element_text(size = 20),\n",
    "    axis.title = element_text(size = 24),\n",
    "    axis.title.x = element_blank(),\n",
    "    legend.position = 'none'\n",
    "  )"
   ]
  }
 ],
 "metadata": {
  "kernelspec": {
   "display_name": "R 4.4",
   "language": "R",
   "name": "ir44"
  },
  "language_info": {
   "codemirror_mode": "r",
   "file_extension": ".r",
   "mimetype": "text/x-r-source",
   "name": "R",
   "pygments_lexer": "r",
   "version": "4.4.1"
  }
 },
 "nbformat": 4,
 "nbformat_minor": 5
}
