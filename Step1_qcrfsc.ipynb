{
 "cells": [
  {
   "cell_type": "code",
   "execution_count": null,
   "id": "1a4b8e3f-5075-4182-b5da-afae625088b9",
   "metadata": {},
   "outputs": [],
   "source": [
    "library(malbacR)\n",
    "library(pmartR)\n",
    "library(ggplot2)\n",
    "library(dplyr)"
   ]
  },
  {
   "cell_type": "code",
   "execution_count": null,
   "id": "7678dff1-74ca-4734-965c-9726952b4318",
   "metadata": {},
   "outputs": [],
   "source": [
    "data_raw <- readRDS('/mnt/data3/data_exp_0826/result/data_raw.rds')"
   ]
  },
  {
   "cell_type": "code",
   "execution_count": null,
   "id": "b72c45fc-4b35-42e8-a730-8990b0179c5d",
   "metadata": {},
   "outputs": [],
   "source": [
    "f_data <- data_raw$f_data %>% \n",
    "    arrange(sample_order)\n",
    "e_data <- data_raw$e_data %>% \n",
    "    select(c('Molecule',f_data$Sample))\n",
    "pmart_amide <- as.metabData(\n",
    "  e_data = e_data,\n",
    "  f_data = f_data,\n",
    "  e_meta = data_raw$e_meta,\n",
    "  edata_cname = 'Molecule',\n",
    "  emeta_cname = 'Molecule',\n",
    "  fdata_cname = 'Sample'\n",
    ")\n",
    "pmart_amide <- edata_replace(pmart_amide, x = 0, y = NA, threshold = NULL)\n",
    "pmart_amide <- edata_transform(pmart_amide,\"log2\")\n",
    "impObj <- imputation(omicsData = pmart_amide)\n",
    "amide_imp <- apply_imputation(imputeData = impObj, omicsData = pmart_amide)\n",
    "amide_imp_abund <- edata_transform(amide_imp,\"abundance\")\n",
    "amide_imp_abund <- group_designation(amide_imp_abund,main_effects = \"batch\")"
   ]
  },
  {
   "cell_type": "code",
   "execution_count": null,
   "id": "2f27c6ad-cc65-4186-97b7-a6a01e1e0557",
   "metadata": {
    "scrolled": true
   },
   "outputs": [],
   "source": [
    "pmart_amide$f_data"
   ]
  },
  {
   "cell_type": "code",
   "execution_count": null,
   "id": "b3a841e3-3a0f-4c3d-baf9-96855719af21",
   "metadata": {},
   "outputs": [],
   "source": [
    "amide_qcrfsc_abundance <- bc_qcrfsc(\n",
    "    omicsData = amide_imp_abund,\n",
    "    qc_cname = \"class\",\n",
    "    qc_val = \"QC\",\n",
    "    order_cname = \"sample_order\",\n",
    "    group_cname = \"batch\", \n",
    "    ntree = 500,\n",
    "    keep_qc = FALSE\n",
    ")"
   ]
  },
  {
   "cell_type": "code",
   "execution_count": null,
   "id": "a9c4d087-fa78-4d4b-961a-28499cdaac5d",
   "metadata": {
    "scrolled": true
   },
   "outputs": [],
   "source": [
    "amide_qcrfsc <- edata_transform(omicsData = amide_qcrfsc_abundance,data_scale = \"log2\")"
   ]
  },
  {
   "cell_type": "code",
   "execution_count": null,
   "id": "a374d180-7d05-473f-bbaa-8d0f761c4ed0",
   "metadata": {},
   "outputs": [],
   "source": [
    "saveRDS(amide_qcrfsc,'/mnt/data3/data_exp_0826/result/amide_qcrfsc.rds')"
   ]
  },
  {
   "cell_type": "code",
   "execution_count": null,
   "id": "fff84e6f-b78f-4f5b-a799-c7208df49d50",
   "metadata": {
    "scrolled": true
   },
   "outputs": [],
   "source": [
    "tmp <- amide_qcrfsc$f_data\n",
    "tmp[tmp$group_lv2=='QC',]"
   ]
  },
  {
   "cell_type": "code",
   "execution_count": null,
   "id": "8e037074-dae6-4812-be28-b2fa9360e45d",
   "metadata": {
    "scrolled": true
   },
   "outputs": [],
   "source": [
    "set.seed(12345678)\n",
    "data_plot <- dim_reduction(omicsData = amide_qcrfsc) %>% do.call(rbind,.) %>% t() %>% as.data.frame() %>% \n",
    "    mutate(\n",
    "        PC1 = PC1 %>% as.numeric(),\n",
    "        PC2 = PC2 %>% as.numeric()\n",
    "    ) %>% \n",
    "    rename(Sample = SampleID) %>% \n",
    "    left_join(amide_qcrfsc$f_data,by = 'Sample')\n",
    "data_plot[data_plot$PC2 < -2,]"
   ]
  },
  {
   "cell_type": "code",
   "execution_count": null,
   "id": "a33488dc-92d5-4fc5-996a-dcc29f162b84",
   "metadata": {},
   "outputs": [],
   "source": [
    "data_meta <- amide_qcrfsc$f_data\n",
    "data_meta[data_meta$Sample %in% (data_plot$SampleID[data_plot$PC2 < -2]),]"
   ]
  },
  {
   "cell_type": "code",
   "execution_count": null,
   "id": "78ba08b9-4f9c-4d8c-a01f-191fc4f2ecf5",
   "metadata": {
    "scrolled": true
   },
   "outputs": [],
   "source": [
    "?geom_text_repel"
   ]
  },
  {
   "cell_type": "code",
   "execution_count": null,
   "id": "0454e044-824a-4b2c-8394-9d97a4534e9a",
   "metadata": {},
   "outputs": [],
   "source": [
    "data_plot[data_plot$PC2 < -2,]"
   ]
  },
  {
   "cell_type": "code",
   "execution_count": null,
   "id": "12c79742-fdc2-4783-abf4-f95c8df22133",
   "metadata": {},
   "outputs": [],
   "source": [
    "library(paletteer)\n",
    "library(ggrepel)\n",
    "options(repr.plot.width = 14,repr.plot.height = 10)\n",
    "# plot(dim_reduction(omicsData = amide_qcrfsc),omicsData = amide_qcrfsc,color_by = \"group_lv1\")\n",
    "ggplot(data = data_plot,aes(x = PC1,y = PC2,color = group_lv1)) +\n",
    "    geom_point(size = 4) +\n",
    "    geom_text_repel(\n",
    "        data = data_plot[data_plot$PC2 < -2,],\n",
    "        mapping = aes(label = Sample),\n",
    "        box.padding = 0.5,\n",
    "        size=6, \n",
    "        segment.curvature = 0.5,\n",
    "        segment.size  = 1,\n",
    "        force = 100,\n",
    "        fontface = \"italic\",\n",
    "        seed = 42,\n",
    "        arrow = arrow(length = unit(0.01, \"npc\")),\n",
    "        max.overlaps = Inf\n",
    "    ) +\n",
    "    scale_color_manual(values = paletteer_d(\"ggsci::nrc_npg\")[c(5,6)]) +\n",
    "    guides(color = guide_legend(title = 'Cohort Type',override.aes = list(size = 4))) +\n",
    "    theme_classic() +\n",
    "    theme(\n",
    "        plot.margin = margin(l = 0),\n",
    "        axis.text = element_text(size = 20),\n",
    "        axis.text.x = element_blank(),\n",
    "        axis.title = element_blank(),\n",
    "        legend.position = 'right',\n",
    "        legend.title = element_text(,size = 20),\n",
    "        legend.text = element_text(margin = margin(t= 5,b = 5,r = 0,l = 0),size = 20),\n",
    "        legend.key.width = unit(2, \"cm\")\n",
    "    )"
   ]
  },
  {
   "cell_type": "code",
   "execution_count": null,
   "id": "56500fbd-b69f-4001-900e-914caa7d16c5",
   "metadata": {},
   "outputs": [],
   "source": [
    "plot(dim_reduction(omicsData = amide_qcrfsc),omicsData = amide_qcrfsc,color_by = \"group_lv2\")"
   ]
  },
  {
   "cell_type": "code",
   "execution_count": null,
   "id": "3f85f87d-b470-4cc6-8db0-72237637e3f3",
   "metadata": {},
   "outputs": [],
   "source": [
    "plot(dim_reduction(omicsData = amide_qcrfsc),omicsData = amide_qcrfsc,color_by = \"SMI_group1\")"
   ]
  },
  {
   "cell_type": "code",
   "execution_count": null,
   "id": "b2784eea-83f4-4b1f-beee-c00e89acf7c2",
   "metadata": {},
   "outputs": [],
   "source": [
    "plot(dim_reduction(omicsData = amide_qcrfsc),omicsData = amide_qcrfsc,color_by = \"SMI_group2\")"
   ]
  }
 ],
 "metadata": {
  "kernelspec": {
   "display_name": "R 4.4",
   "language": "R",
   "name": "ir44"
  },
  "language_info": {
   "codemirror_mode": "r",
   "file_extension": ".r",
   "mimetype": "text/x-r-source",
   "name": "R",
   "pygments_lexer": "r",
   "version": "4.4.1"
  }
 },
 "nbformat": 4,
 "nbformat_minor": 5
}
