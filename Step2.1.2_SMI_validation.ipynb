{
 "cells": [
  {
   "cell_type": "code",
   "execution_count": null,
   "id": "d84fa348-8365-45ff-ac08-685b43775ff8",
   "metadata": {},
   "outputs": [],
   "source": [
    "library(ropls)\n",
    "library(ggsci)\n",
    "library(Cairo)\n",
    "library(tidyverse)\n",
    "library(malbacR)\n",
    "library(pmartR)\n",
    "library(ggplot2)\n",
    "library(dplyr)\n",
    "library(tibble)\n",
    "library(tidyr)\n",
    "library(paletteer)\n",
    "library(extrafont)"
   ]
  },
  {
   "cell_type": "markdown",
   "id": "e27454f9-97c9-4043-b7a8-06bc7c7b253e",
   "metadata": {},
   "source": [
    "#### 设置分组标准"
   ]
  },
  {
   "cell_type": "code",
   "execution_count": null,
   "id": "d2edf313-19cb-499a-888a-27ea78518467",
   "metadata": {},
   "outputs": [],
   "source": [
    "group_standard <- 'SMI_group2'\n",
    "save_file_prex <- 'wilcox_change_SMI_group2'\n",
    "group_cohort <- 'Validation Cohort'"
   ]
  },
  {
   "cell_type": "code",
   "execution_count": null,
   "id": "3c043bcf-3ea5-4502-9f77-7c82cacfa573",
   "metadata": {},
   "outputs": [],
   "source": [
    "path_save <- paste('/mnt/data3/data_exp_0826/result/Validation_Cohort_',save_file_prex,sep = '')\n",
    "path_save\n",
    "dir.create(path_save,showWarnings = FALSE)"
   ]
  },
  {
   "cell_type": "code",
   "execution_count": null,
   "id": "c34e6997-9e7e-46ac-b663-1dc1a91bb279",
   "metadata": {
    "scrolled": true
   },
   "outputs": [],
   "source": [
    "data_raw <- readRDS('/mnt/data3/data_exp_0826/result/amide_qcrfsc.rds')"
   ]
  },
  {
   "cell_type": "code",
   "execution_count": null,
   "id": "e77c2532-d49a-4816-834b-4fda0327af82",
   "metadata": {
    "scrolled": true
   },
   "outputs": [],
   "source": [
    "options(repr.matrix.max.rows = 20,repr.matrix.max.cols = 20)\n",
    "data_raw$e_data"
   ]
  },
  {
   "cell_type": "code",
   "execution_count": null,
   "id": "d405580e-189c-48e0-a45e-d86f2ce1392a",
   "metadata": {},
   "outputs": [],
   "source": [
    "data_meta_raw <- read.csv('/mnt/data3/fengyuan/data_exp_0826/meta_all_raw_new.csv') %>% \n",
    "    mutate(across(matches(\"group1|group2\"), ~ case_when(\n",
    "    . == 0 ~ \"non-sarcopenia\",\n",
    "    . == 1 ~ \"sarcopenia\",\n",
    "    TRUE ~ as.character(.)\n",
    "  )))\n",
    "data_meta <- data_meta_raw %>% \n",
    "    select(c('ID','group_lv1','time_1','time_2','SMI_group1','SMI_group2','SFA_group1',\n",
    "             'SFA_group2','VFA_group1','VFA_group2','SMD_group1','SMD_group2')) %>% \n",
    "    mutate(across(everything(),.fns = as.character)) %>% \n",
    "    pivot_longer(\n",
    "        cols = c('time_1','time_2'),\n",
    "        names_to = 'group_lv2',\n",
    "        values_to = 'Sample') %>% \n",
    "    mutate(\n",
    "        Sample = paste('X',Sample,sep = ''),\n",
    "        group_lv1 = ifelse(group_lv1 == '1',yes = 'Development Cohort',no = 'Validation Cohort')\n",
    "    )"
   ]
  },
  {
   "cell_type": "code",
   "execution_count": null,
   "id": "ec35147e-8274-47d6-a775-a4c9ef5db902",
   "metadata": {},
   "outputs": [],
   "source": [
    "sample_expdata <- data_raw$e_data %>% colnames() %>% .[-1]\n",
    "sample_expdata[!(sample_expdata %in% (data_meta$Sample %>% unique()))]\n",
    "sample_expdata[!(sample_expdata %in% (data_meta$Sample %>% unique()))] %>% length()"
   ]
  },
  {
   "cell_type": "code",
   "execution_count": null,
   "id": "b5a2985a-f9f7-440d-b440-a0f09ebd33e5",
   "metadata": {},
   "outputs": [],
   "source": [
    "data_meta <- data_meta %>% \n",
    "    mutate(\n",
    "        Sample = ifelse(\n",
    "            test = Sample %in% sample_expdata,\n",
    "            yes = Sample,\n",
    "            no = paste('X','0',Sample %>% str_remove('X'),sep = '')\n",
    "        )\n",
    "    )\n",
    "dim(data_meta)\n",
    "data_meta %>% head()"
   ]
  },
  {
   "cell_type": "code",
   "execution_count": null,
   "id": "cc04f6fa-2144-4f6f-a12b-5768934ccec4",
   "metadata": {},
   "outputs": [],
   "source": [
    "data_meta$Sample[!(data_meta$Sample %in% data_raw$f_data$Sample)] %>% length()\n",
    "data_meta$Sample[!(data_meta$Sample %in% data_raw$f_data$Sample)]"
   ]
  },
  {
   "cell_type": "code",
   "execution_count": null,
   "id": "32920405-f80f-4a8c-b7db-7b657d213de4",
   "metadata": {
    "scrolled": true
   },
   "outputs": [],
   "source": [
    "options(repr.matrix.max.rows = 12)\n",
    "f_data_all <- data_raw$f_data\n",
    "f_data_all"
   ]
  },
  {
   "cell_type": "code",
   "execution_count": null,
   "id": "21154dbd-ff21-4580-bb35-c1589d93aa2b",
   "metadata": {},
   "outputs": [],
   "source": [
    "f_data_time1 <- f_data_all %>% \n",
    "    filter(group_lv1 == group_cohort,group_lv2 == 'time_1') %>%\n",
    "    left_join(data_meta,by = 'Sample') %>% \n",
    "    filter(get(group_standard) != '#N/A') %>% \n",
    "    arrange(ID)\n",
    "f_data_time1 %>% dim()"
   ]
  },
  {
   "cell_type": "code",
   "execution_count": null,
   "id": "f1b826a2-2870-434e-828d-5f2b24511df8",
   "metadata": {},
   "outputs": [],
   "source": [
    "f_data_time2 <- f_data_all %>% \n",
    "    filter(group_lv1 == group_cohort,group_lv2 == 'time_2') %>%\n",
    "    left_join(data_meta,by = 'Sample') %>% \n",
    "    filter(get(group_standard) != '#N/A') %>% \n",
    "    arrange(ID)\n",
    "f_data_time2 %>% dim()"
   ]
  },
  {
   "cell_type": "code",
   "execution_count": null,
   "id": "7d429875-e03c-4c19-b7b6-5c5c7b93d7ec",
   "metadata": {
    "scrolled": true
   },
   "outputs": [],
   "source": [
    "data_e_time1 <- data_raw$e_data %>% \n",
    "  column_to_rownames('Molecule') %>% \n",
    "  t() %>% as.data.frame() %>% \n",
    "  rownames_to_column('Sample') %>% \n",
    "  left_join(f_data_time1 %>% select(c('Sample','ID'))) %>% \n",
    "  filter(!is.na(ID)) %>% \n",
    "  select(-c('Sample')) %>%\n",
    "  arrange(ID) %>% \n",
    "  column_to_rownames('ID')\n",
    "data_e_time1 %>% dim()\n",
    "data_e_time1 %>% head()"
   ]
  },
  {
   "cell_type": "code",
   "execution_count": null,
   "id": "33a6783c-86da-4f73-945e-c6d0123f9f6a",
   "metadata": {
    "scrolled": true
   },
   "outputs": [],
   "source": [
    "data_e_time2 <- data_raw$e_data %>% \n",
    "  column_to_rownames('Molecule') %>% \n",
    "  t() %>% as.data.frame() %>% \n",
    "  rownames_to_column('Sample') %>% \n",
    "  left_join(f_data_time2 %>% select(c('Sample','ID'))) %>% \n",
    "  filter(!is.na(ID)) %>% \n",
    "  select(-c('Sample')) %>%\n",
    "  arrange(ID) %>% \n",
    "  column_to_rownames('ID')\n",
    "data_e_time2 %>% dim()\n",
    "data_e_time2 %>% head()"
   ]
  },
  {
   "cell_type": "code",
   "execution_count": null,
   "id": "fbcd1134-52d8-4191-8fb6-10bf7f3d103d",
   "metadata": {
    "scrolled": true
   },
   "outputs": [],
   "source": [
    "dataMatrix_use <- data_e_time2 - data_e_time1\n",
    "dataMatrix_use <- dataMatrix_use %>% \n",
    "    t() %>% as.data.frame() %>% \n",
    "    rownames_to_column('Molecule')\n",
    "dataMatrix_use %>% head()"
   ]
  },
  {
   "cell_type": "code",
   "execution_count": null,
   "id": "bad888e6-74bc-488c-bb71-1bacd06a7ff8",
   "metadata": {},
   "outputs": [],
   "source": [
    "f_data_use <- f_data_all %>% \n",
    "    filter(group_lv1 == group_cohort,group_lv2 == 'time_2') %>%\n",
    "    left_join(data_meta,by = 'Sample') %>% \n",
    "    arrange(ID) %>%  \n",
    "    select(-Sample) %>% \n",
    "    filter(get(group_standard) != '#N/A') %>% \n",
    "    column_to_rownames('ID') %>% \n",
    "    rownames_to_column('Sample')\n",
    "f_data_use %>% dim()\n",
    "f_data_use %>% head()"
   ]
  },
  {
   "cell_type": "code",
   "execution_count": null,
   "id": "b1c54159-337a-43ef-82b7-31a8da3f01bd",
   "metadata": {},
   "outputs": [],
   "source": [
    "data_raw <- as.metabData(\n",
    "  e_data = dataMatrix_use,\n",
    "  f_data = f_data_use,\n",
    "  e_meta = data_raw$e_meta,\n",
    "  edata_cname = 'Molecule',\n",
    "  emeta_cname = 'Molecule',\n",
    "  fdata_cname = 'Sample'\n",
    ")"
   ]
  },
  {
   "cell_type": "code",
   "execution_count": null,
   "id": "8932251e-6b61-4243-8903-364c3d7957a1",
   "metadata": {},
   "outputs": [],
   "source": [
    "options(repr.matrix.max.rows = 20,repr.matrix.max.cols = 40)\n",
    "data_raw$e_data[data_raw$e_data$Molecule == 'Vicriviroc',]"
   ]
  },
  {
   "cell_type": "code",
   "execution_count": null,
   "id": "3ae9fbd6-9547-4f22-b0da-5e6002a4e720",
   "metadata": {},
   "outputs": [],
   "source": [
    "pmart_amide_norm <- data_raw"
   ]
  },
  {
   "cell_type": "code",
   "execution_count": null,
   "id": "d1409aa4-4a9e-4180-aca6-160d0cda5e63",
   "metadata": {},
   "outputs": [],
   "source": [
    "sampleMetadata <- pmart_amide_norm$f_data\n",
    "sampleMetadata %>% head()"
   ]
  },
  {
   "cell_type": "code",
   "execution_count": null,
   "id": "68c25583-c1ad-4e9e-979d-0df98ce0c0f7",
   "metadata": {},
   "outputs": [],
   "source": [
    "sampleMetadata$group_lv1 %>% unique()\n",
    "sampleMetadata$group_lv2 %>% unique()"
   ]
  },
  {
   "cell_type": "code",
   "execution_count": null,
   "id": "99f7ce68-18b4-42db-9c69-cc06d633d99f",
   "metadata": {
    "scrolled": true
   },
   "outputs": [],
   "source": [
    "sampleMetadata_use <- sampleMetadata %>%\n",
    "  filter(group_lv1 %in% c(group_cohort),group_lv2 == 'time_2')"
   ]
  },
  {
   "cell_type": "code",
   "execution_count": null,
   "id": "acd82ebd-b951-4306-b5e2-905a039e1f80",
   "metadata": {},
   "outputs": [],
   "source": [
    "sample_select <- sampleMetadata_use %>%\n",
    "  pull(Sample) %>% unique()\n",
    "sample_select %>% length()\n",
    "sample_select"
   ]
  },
  {
   "cell_type": "code",
   "execution_count": null,
   "id": "4622b6d6-3d39-4a42-ba7d-2dee74c3d2ea",
   "metadata": {
    "scrolled": true
   },
   "outputs": [],
   "source": [
    "dataMatrix_use <- pmart_amide_norm$e_data %>% \n",
    "  column_to_rownames('Molecule') %>% \n",
    "  t() %>% as.data.frame() %>% \n",
    "  rownames_to_column('Sample') %>% \n",
    "  filter(Sample %in% sample_select) %>% \n",
    "  column_to_rownames('Sample')\n",
    "dataMatrix_use %>% dim()\n",
    "dataMatrix_use %>% head()"
   ]
  },
  {
   "cell_type": "code",
   "execution_count": null,
   "id": "2ecdc806-e887-4725-8830-27417e2653b7",
   "metadata": {
    "scrolled": true
   },
   "outputs": [],
   "source": [
    "group_use <- sampleMetadata_use %>% \n",
    "  mutate(Sample = factor(Sample,levels = sample_select)) %>% \n",
    "  arrange(Sample) %>% \n",
    "  pull(all_of(group_standard))\n",
    "group_use %>% table()"
   ]
  },
  {
   "cell_type": "code",
   "execution_count": null,
   "id": "74eabf4c-d7dc-4906-9cb1-7f15b0f117af",
   "metadata": {},
   "outputs": [],
   "source": [
    "group_use"
   ]
  },
  {
   "cell_type": "code",
   "execution_count": null,
   "id": "a980a386-85e9-46fd-baee-b9dc359245c9",
   "metadata": {},
   "outputs": [],
   "source": [
    "file_path <- paste(path_save,'pmart_amide_norm.rds',sep = '/')\n",
    "file_path\n",
    "pmart_amide_norm <- as.metabData(\n",
    "  e_data = dataMatrix_use %>% t() %>% as.data.frame() %>% rownames_to_column('Molecule'),\n",
    "  f_data = sampleMetadata_use,\n",
    "  e_meta = data_raw$e_meta,\n",
    "  edata_cname = 'Molecule',\n",
    "  emeta_cname = 'Molecule',\n",
    "  fdata_cname = 'Sample'\n",
    ")\n",
    "saveRDS(pmart_amide_norm,file_path)\n",
    "file_path <- paste(path_save,'sampleMetadata_use.csv',sep = '/')\n",
    "write.csv(sampleMetadata_use,file_path)\n",
    "file_path"
   ]
  },
  {
   "cell_type": "code",
   "execution_count": null,
   "id": "21307e9f-cca7-48d7-8650-1aa97821fa61",
   "metadata": {
    "scrolled": true
   },
   "outputs": [],
   "source": [
    "variableMetadata_use <- pmart_amide_norm$e_meta\n",
    "variableMetadata_use"
   ]
  },
  {
   "cell_type": "code",
   "execution_count": null,
   "id": "6bd0627e-0a8c-4166-b2fd-11a90ebfc77a",
   "metadata": {
    "scrolled": true
   },
   "outputs": [],
   "source": [
    "# head(dataMatrix)\n",
    "options(repr.matrix.max.cols = 20,repr.matrix.max.rows = 10)\n",
    "dataMatrix_use"
   ]
  },
  {
   "cell_type": "code",
   "execution_count": null,
   "id": "9505eb08-aa09-4544-9928-e97a9284bdf1",
   "metadata": {
    "scrolled": true
   },
   "outputs": [],
   "source": [
    "options(repr.plot.width = 20,repr.plot.height = 20)\n",
    "pca = opls(dataMatrix_use)"
   ]
  },
  {
   "cell_type": "code",
   "execution_count": null,
   "id": "09a85b54-4656-4a36-9f8b-ea909b5809da",
   "metadata": {
    "scrolled": true
   },
   "outputs": [],
   "source": [
    "pca@scoreMN %>% head()"
   ]
  },
  {
   "cell_type": "code",
   "execution_count": null,
   "id": "ed9d9d36-6939-4df1-a8a1-7b5d9a8a44ed",
   "metadata": {},
   "outputs": [],
   "source": [
    "# PCA analysis\n",
    "options(repr.plot.width = 15,repr.plot.height = 15)\n",
    "plot(\n",
    "    pca, \n",
    "    typeVc = \"x-score\",\n",
    "    parAsColFcVn = group_use,\n",
    "    parEllipsesL = TRUE\n",
    ")"
   ]
  },
  {
   "cell_type": "markdown",
   "id": "09b080c9-ce5d-450c-90fb-c1f3b56037c2",
   "metadata": {},
   "source": [
    "### PLSDA analysis"
   ]
  },
  {
   "cell_type": "code",
   "execution_count": null,
   "id": "91851c89-c6c4-4517-a39a-35a6e5e7743e",
   "metadata": {},
   "outputs": [],
   "source": [
    "dataMatrix_use %>% max()\n",
    "dataMatrix_use %>% min()\n",
    "group_use"
   ]
  },
  {
   "cell_type": "code",
   "execution_count": null,
   "id": "a5f05e52-1150-4582-a711-f79a3e444bc6",
   "metadata": {
    "scrolled": true
   },
   "outputs": [],
   "source": [
    "options(repr.plot.width = 20,repr.plot.height = 20)\n",
    "results_plsda <- list()\n",
    "for (i in 1:10) {\n",
    "  results_plsda[[i]] <- opls(dataMatrix_use, group_use, predI = i, orthoI = 0)\n",
    "  print(paste(\"orthoI =\", i))\n",
    "  print(results_plsda[[i]]@summaryDF)\n",
    "}\n",
    "\n",
    "best_model <- results_plsda[[which.max(sapply(results_plsda, function(x) x@summaryDF$`Q2(cum)`))]]\n"
   ]
  },
  {
   "cell_type": "code",
   "execution_count": null,
   "id": "62040772-9996-4820-b1a0-74cc4acf71b6",
   "metadata": {
    "scrolled": true
   },
   "outputs": [],
   "source": [
    "lapply(1:10,function(i){results_plsda[[i]]@summaryDF})"
   ]
  },
  {
   "cell_type": "code",
   "execution_count": null,
   "id": "5117b555-ad05-4b12-b109-764045a27227",
   "metadata": {
    "scrolled": true
   },
   "outputs": [],
   "source": [
    "plsda = opls(dataMatrix_use,group_use,predI = 10,orthoI = 0)\n",
    "# plsda = opls(dataMatrix_use,group_use,predI = NA,orthoI = 0)"
   ]
  },
  {
   "cell_type": "code",
   "execution_count": null,
   "id": "a87018c2-b4d7-45b3-a217-fcfec234995d",
   "metadata": {},
   "outputs": [],
   "source": [
    "plsda@summaryDF"
   ]
  },
  {
   "cell_type": "code",
   "execution_count": null,
   "id": "c041841d-5dc4-4428-8871-1ff1b5168072",
   "metadata": {},
   "outputs": [],
   "source": [
    "group_use"
   ]
  },
  {
   "cell_type": "code",
   "execution_count": null,
   "id": "2db7bf1d-83ae-4f7d-b3d0-8d8b155223f2",
   "metadata": {
    "scrolled": true
   },
   "outputs": [],
   "source": [
    "# sample scores plot\n",
    "sample.score = plsda@scoreMN %>% \n",
    "  as.data.frame() %>%\n",
    "  mutate(group_use = group_use)\n",
    "sample.score %>% head()"
   ]
  },
  {
   "cell_type": "code",
   "execution_count": null,
   "id": "4a53281b-6a0f-4b98-840f-678e1837dccd",
   "metadata": {},
   "outputs": [],
   "source": [
    "library(vegan)\n",
    "set.seed(12345678)\n",
    "result <- adonis2(dataMatrix_use ~ group_use, permutations = 1000, method = \"euclidean\")\n",
    "print(result)"
   ]
  },
  {
   "cell_type": "code",
   "execution_count": null,
   "id": "067f10b5-5cb0-40af-9acd-e105466aec6b",
   "metadata": {},
   "outputs": [],
   "source": [
    "result$`Pr(>F)`[1] %>% round(digits = 3)"
   ]
  },
  {
   "cell_type": "code",
   "execution_count": null,
   "id": "aa420fef-7dc6-4038-b81a-c6a29ff15d3a",
   "metadata": {},
   "outputs": [],
   "source": [
    "explained_variance <- plsda@modelDF\n",
    "# 提取PC1和PC2的累计解释方差\n",
    "pc1_var <- explained_variance[1, \"R2X\"] * 100  \n",
    "pc2_var <- explained_variance[2, \"R2X\"] * 100 \n",
    "options(repr.plot.height = 10,repr.plot.width = 12)\n",
    "ggplot(sample.score, aes(p1, p2, color = group_use)) +\n",
    "  geom_hline(yintercept = 0, linetype = 'dashed', linewidth = 0.5) +\n",
    "  geom_vline(xintercept = 0, linetype = 'dashed', linewidth = 0.5) +\n",
    "  geom_point(size = 8) +\n",
    "  annotate(geom = 'text', x = -min(sample.score$p1)*0.08, y = 45, label = paste('Permutation test: P = ', result$`Pr(>F)`[1] %>% round(digits = 4),sep = ''), size = 12,hjust = 0.5, vjust = 0) +\n",
    "  annotate(\"point\", x = -10, y = -10, color = \"white\") +\n",
    "  stat_ellipse(level = 0.95, linetype = 'solid', \n",
    "               linewidth = 1, show.legend = FALSE) +\n",
    "  scale_color_manual(values = c('#A94322','#2B5C8A')) +\n",
    "  labs(x = paste0('P1 (', round(pc1_var, 1), '%)'), \n",
    "       y = paste0('P2 (', round(pc2_var, 1), '%)')) +\n",
    "  guides(color = guide_legend(override.aes = list(size = 7))) +\n",
    "  theme_bw() +\n",
    "  theme(\n",
    "    legend.position = c(0.22,0.88),\n",
    "    legend.text = element_text(color = 'black',size = 40, face = 'plain'),#, family = 'Arial'\n",
    "    legend.title = element_blank(),\n",
    "    legend.background = element_rect(fill = NA),\n",
    "    panel.background = element_blank(),\n",
    "    panel.grid = element_blank(),\n",
    "    panel.border = element_rect(fill = NA,linewidth = 1),\n",
    "    axis.text = element_text(color = 'black',size = 35, face = 'plain'),# family = 'Arial',\n",
    "    axis.title = element_text(color = 'black',size = 35, face = 'plain'),# family = 'Arial',\n",
    "    axis.ticks = element_line(color = 'black'),\n",
    "    axis.line = element_line(linewidth = 0.8)\n",
    "  )"
   ]
  },
  {
   "cell_type": "code",
   "execution_count": null,
   "id": "45fe9d4c-5932-42df-8a74-568cb36625ab",
   "metadata": {},
   "outputs": [],
   "source": [
    "# VIP scores plot\n",
    "vip.score_plsda = as.data.frame(plsda@vipVn)\n",
    "colnames(vip.score_plsda) = 'vip'\n",
    "vip.score_plsda$metabolites = rownames(vip.score_plsda)\n",
    "vip.score_plsda = vip.score_plsda[order(-vip.score_plsda$vip),]\n",
    "vip.score_plsda$metabolites = factor(vip.score_plsda$metabolites,\n",
    "                               levels = vip.score_plsda$metabolites)\n",
    " \n",
    "loading.score_plsda = plsda@loadingMN %>% as.data.frame()\n",
    "loading.score_plsda$metabolites = rownames(loading.score_plsda)\n",
    " \n",
    "all.score_plsda = merge(vip.score_plsda, loading.score_plsda, by = 'metabolites') %>% \n",
    "    arrange(desc(vip))\n",
    " \n",
    "all.score_plsda$cat = paste('A',1:nrow(all.score_plsda), sep = '')\n",
    "all.score_plsda %>% head()"
   ]
  },
  {
   "cell_type": "code",
   "execution_count": null,
   "id": "8cc22e45-ea51-4b86-bfc2-004487b70bba",
   "metadata": {},
   "outputs": [],
   "source": [
    "library(stringi)\n",
    "data_plot <- all.score_plsda %>% \n",
    "    filter(vip >= 1) %>% \n",
    "    arrange(desc(vip)) %>% \n",
    "    dplyr::slice(1:25) %>% \n",
    "    mutate(metabolites = iconv(metabolites,from = 'GBK',to = 'UTF-8')) %>%\n",
    "    mutate(\n",
    "        metabolites = metabolites %>% str_wrap(width = 50,whitespace_only = FALSE)\n",
    "    ) %>% \n",
    "    mutate(metabolites = factor(metabolites,levels = metabolites %>% rev()))\n",
    "data_plot %>% dim()\n",
    "data_plot %>% head()"
   ]
  },
  {
   "cell_type": "code",
   "execution_count": null,
   "id": "9b4f2b28-999f-4926-9964-1ea24ff98add",
   "metadata": {},
   "outputs": [],
   "source": [
    "options(repr.plot.width = 12,repr.plot.height = 15)\n",
    "ggplot(data_plot, aes(metabolites, vip)) +\n",
    "  geom_segment(aes(x = metabolites, xend = metabolites,\n",
    "                   y = 0, yend = vip)) +\n",
    "  geom_point(shape = 21, size = 5, color = '#008000' ,fill = '#008000') +\n",
    "  annotate(geom = 'point',x = 1,y = 2.5, color = 'white') +\n",
    "  geom_hline(yintercept = 1, linetype = 'dashed') +\n",
    "  scale_y_continuous(expand = c(0,0),limits = c(0,3.5)) +\n",
    "  labs(x = '', y = 'VIP value') +\n",
    "  coord_flip() +\n",
    "  theme_bw() +\n",
    "  theme(legend.position = 'none',\n",
    "        legend.text = element_text(color = 'black',size = 12, family = 'Arial', face = 'plain'),\n",
    "        panel.background = element_blank(),\n",
    "        panel.grid = element_blank(),\n",
    "        axis.text = element_text(color = 'black',size = 24, family = 'Arial', face = 'plain'),\n",
    "        axis.text.x = element_text(angle = 0,hjust = 1),\n",
    "        axis.title = element_text(color = 'black',size = 20, family = 'Arial', face = 'plain'),\n",
    "        axis.ticks = element_line(color = 'black'),\n",
    "        axis.ticks.x = element_blank())"
   ]
  },
  {
   "cell_type": "markdown",
   "id": "3251bd68-f501-489a-903d-4640b343b475",
   "metadata": {},
   "source": [
    "#### oplsda"
   ]
  },
  {
   "cell_type": "code",
   "execution_count": null,
   "id": "f03a8f08-b6fd-48c6-a877-88c6351c5156",
   "metadata": {
    "scrolled": true
   },
   "outputs": [],
   "source": [
    "options(repr.plot.width = 20,repr.plot.height = 20)\n",
    "results <- list()\n",
    "for (i in 0:7) {\n",
    "  results[[i+1]] <- opls(dataMatrix_use, group_use, predI = 1, orthoI = i)\n",
    "  print(paste(\"orthoI =\", i))\n",
    "  print(results[[i+1]]@summaryDF)\n",
    "}\n",
    "\n",
    "best_model <- results[[which.max(sapply(results, function(x) x@summaryDF$`Q2(cum)`))]]\n"
   ]
  },
  {
   "cell_type": "code",
   "execution_count": null,
   "id": "bdfeda72-fb66-448c-8690-2b755314330d",
   "metadata": {
    "scrolled": true
   },
   "outputs": [],
   "source": [
    "lapply(1:7,function(i){results[[i]]@summaryDF})"
   ]
  },
  {
   "cell_type": "code",
   "execution_count": null,
   "id": "572d1fe5-6376-4de4-9fb0-2242ad807645",
   "metadata": {
    "scrolled": true
   },
   "outputs": [],
   "source": [
    "options(repr.plot.width = 20,repr.plot.height = 20)\n",
    "results <- list()\n",
    "for (i in 0:7) {\n",
    "  results[[i+1]] <- opls(dataMatrix_use, group_use, predI = 1, orthoI = i)\n",
    "  print(paste(\"orthoI =\", i))\n",
    "  print(results[[i+1]]@summaryDF)\n",
    "}\n",
    "\n",
    "best_model <- results[[which.max(sapply(results, function(x) x@summaryDF$`Q2(cum)`))]]\n"
   ]
  },
  {
   "cell_type": "code",
   "execution_count": null,
   "id": "c19795aa-b637-4eb7-9a43-0805ba6f8ffa",
   "metadata": {},
   "outputs": [],
   "source": [
    "results[[which.max(sapply(results, function(x) x@summaryDF$`Q2(cum)`))]]"
   ]
  },
  {
   "cell_type": "code",
   "execution_count": null,
   "id": "1fe3c4f3-75b4-40a3-9666-d37c39974a22",
   "metadata": {
    "scrolled": true
   },
   "outputs": [],
   "source": [
    "group_use"
   ]
  },
  {
   "cell_type": "code",
   "execution_count": null,
   "id": "41464d5b-bba9-45c3-824c-a1befa2a523f",
   "metadata": {
    "scrolled": true
   },
   "outputs": [],
   "source": [
    "# OPLS-DA analysis\n",
    "options(repr.plot.width = 15,repr.plot.height = 15)\n",
    "dataMatrix_use %>% max()\n",
    "dataMatrix_use %>% min()\n",
    "oplsda = opls(dataMatrix_use, group_use, predI = 1, orthoI = 1)#,permI = 200"
   ]
  },
  {
   "cell_type": "code",
   "execution_count": null,
   "id": "78b67c32-78fc-4332-8a44-4755c15c837e",
   "metadata": {},
   "outputs": [],
   "source": [
    "group_use %>% table()"
   ]
  },
  {
   "cell_type": "code",
   "execution_count": null,
   "id": "f2ebaf2c-574d-4d46-b37c-235ca7843432",
   "metadata": {},
   "outputs": [],
   "source": [
    "oplsda@pcaVarVn"
   ]
  },
  {
   "cell_type": "code",
   "execution_count": null,
   "id": "1c15823b-1ee1-45ba-9f3c-f2d666a1aa29",
   "metadata": {},
   "outputs": [],
   "source": [
    "plot(oplsda, typeVc = \"permutation\")"
   ]
  },
  {
   "cell_type": "code",
   "execution_count": null,
   "id": "1904b6c5-4588-4c59-853e-4e64f2ced7d1",
   "metadata": {},
   "outputs": [],
   "source": [
    "# sample scores plot\n",
    "sample.score = oplsda@scoreMN %>% \n",
    "  as.data.frame() %>%\n",
    "  mutate(group_use = group_use,\n",
    "         o1 = oplsda@orthoScoreMN[,1])"
   ]
  },
  {
   "cell_type": "code",
   "execution_count": null,
   "id": "b25669d1-b17b-460b-8b2b-7d7b1360f73c",
   "metadata": {},
   "outputs": [],
   "source": [
    "sample.score"
   ]
  },
  {
   "cell_type": "markdown",
   "id": "05f61867-b907-4a38-9ff1-6239c0f3614c",
   "metadata": {},
   "source": [
    "#### 计算显著性"
   ]
  },
  {
   "cell_type": "code",
   "execution_count": null,
   "id": "32e171cc-5936-497e-b6a2-b66b3bc63c37",
   "metadata": {},
   "outputs": [],
   "source": [
    "library(vegan)\n",
    "set.seed(12345678)\n",
    "result <- adonis2(dataMatrix_use ~ group_use, permutations = 1000, method = \"euclidean\")\n",
    "print(result)"
   ]
  },
  {
   "cell_type": "code",
   "execution_count": null,
   "id": "db6545fb-2333-4911-9e38-a1b8efb5adaa",
   "metadata": {},
   "outputs": [],
   "source": [
    "result$`Pr(>F)`[1] %>% round(digits = 3)"
   ]
  },
  {
   "cell_type": "code",
   "execution_count": null,
   "id": "386f1bae-fe15-438a-be80-db8d194757ca",
   "metadata": {},
   "outputs": [],
   "source": [
    "set.seed(12345)\n",
    "pca_res <- prcomp(dataMatrix_use, scale. = TRUE)\n",
    "adonis2(pca_res$x ~ group_use, permutations = 999, method = \"euclidean\")"
   ]
  },
  {
   "cell_type": "code",
   "execution_count": null,
   "id": "c766bd7f-de15-4339-a5a9-67e9086fa524",
   "metadata": {},
   "outputs": [],
   "source": [
    "explained_variance <- oplsda@modelDF\n",
    "pc1_var <- explained_variance[1, \"R2X\"] * 100  \n",
    "pc2_var <- explained_variance[2, \"R2X\"] * 100 \n",
    "options(repr.plot.height = 10,repr.plot.width = 12)\n",
    "ggplot(sample.score, aes(p1, o1, color = group_use)) +\n",
    "  geom_hline(yintercept = 0, linetype = 'dashed', size = 0.5) +\n",
    "  geom_vline(xintercept = 0, linetype = 'dashed', size = 0.5) +\n",
    "  geom_point(size = 5) +\n",
    "  annotate(geom = 'text', x = -min(sample.score$p1)*0.14, y = 48, label = paste('Permutation test: P = ', result$`Pr(>F)`[1] %>% round(digits = 4),sep = ''), size = 12,hjust = 0.5, vjust = 0) +\n",
    "  annotate(\"point\", x = -10, y = -10, color = \"white\") +\n",
    "  stat_ellipse(level = 0.95, linetype = 'solid', \n",
    "               linewidth = 1, show.legend = FALSE) +\n",
    "  scale_color_manual(values = c('#A94322','#2B5C8A')) +\n",
    "  labs(x = paste0('P1 (', round(pc1_var, 1), '%)'), \n",
    "       y = paste0('to1 (', round(pc2_var, 1), '%)')) +\n",
    "  guides(color = guide_legend(override.aes = list(size = 5))) +\n",
    "  theme_bw() +\n",
    "  theme(\n",
    "    legend.position = c(0.22,0.88),\n",
    "    legend.text = element_text(color = 'black',size = 40, face = 'plain'),#, family = 'Arial'\n",
    "    legend.title = element_blank(),\n",
    "    legend.background = element_rect(fill = NA),\n",
    "    panel.background = element_blank(),\n",
    "    panel.grid = element_blank(),\n",
    "    panel.border = element_rect(fill = NA,linewidth = 1),\n",
    "    axis.text = element_text(color = 'black',size = 35, face = 'plain'),#, family = 'Arial'\n",
    "    axis.title = element_text(color = 'black',size = 35, face = 'plain'),#, family = 'Arial'\n",
    "    axis.ticks = element_line(color = 'black'),\n",
    "    axis.line = element_line(linewidth = 0.8)\n",
    "  )"
   ]
  },
  {
   "cell_type": "code",
   "execution_count": null,
   "id": "5c4dee1b-2bea-410e-8eea-3f9955f9c124",
   "metadata": {},
   "outputs": [],
   "source": [
    "# VIP scores plot\n",
    "vip.score = as.data.frame(oplsda@vipVn)\n",
    "colnames(vip.score) = 'vip'\n",
    "vip.score$metabolites = rownames(vip.score)\n",
    "vip.score = vip.score[order(-vip.score$vip),]\n",
    "vip.score$metabolites = factor(vip.score$metabolites,\n",
    "                               levels = vip.score$metabolites)\n",
    "vip.score %>% head()"
   ]
  },
  {
   "cell_type": "code",
   "execution_count": null,
   "id": "fb83b314-e6f9-4f74-9b02-934449e44a60",
   "metadata": {},
   "outputs": [],
   "source": [
    "pvaVn <- apply(dataMatrix_use, 2,\n",
    "               function(feaVn) cor.test(group_use %>% as.factor() %>% as.numeric(), feaVn)[[\"p.value\"]])\n",
    "\n",
    "vipVn <- getVipVn(opls(dataMatrix_use, group_use,\n",
    "                       predI = 1, orthoI = 1,\n",
    "                       fig.pdfC = \"none\"))\n",
    "vipVn %>% head()"
   ]
  },
  {
   "cell_type": "code",
   "execution_count": null,
   "id": "9867a41c-c70f-4ee1-be4c-80e0f6a16dcc",
   "metadata": {},
   "outputs": [],
   "source": [
    "options(repr.plot.width = 10,repr.plot.height = 10)\n",
    "quantVn <- qnorm(1 - pvaVn / 2)\n",
    "rmsQuantN <- sqrt(mean(quantVn^2))\n",
    "opar <- par(font = 2, font.axis = 2, font.lab = 2,\n",
    "            las = 1,\n",
    "            mar = c(5.1, 4.6, 4.1, 2.1),\n",
    "            lwd = 2, pch = 16)\n",
    "\n",
    "# 逻辑条件筛选\n",
    "highlight <- pvaVn < 0.05 & vipVn > 1\n",
    "highlight_count <- sum(highlight)  # 统计满足条件的点的数量\n",
    "\n",
    "# 绘制散点图\n",
    "plot(pvaVn, vipVn,\n",
    "     col = ifelse(highlight, \"blue\", \"red\"),  # 满足条件的点标注为蓝色，否则为红色\n",
    "     pch = 10,\n",
    "     xlab = \"p-value\", ylab = \"VIP\", xaxs = \"i\", yaxs = \"i\")\n",
    "box(lwd = 2)\n",
    "# 绘制曲线\n",
    "curve(qnorm(1 - x / 2) / rmsQuantN, 0, 1, add = TRUE, col = \"red\", lwd = 3)\n",
    "# 绘制横纵轴的蓝色标记线\n",
    "abline(h = 1, col = \"blue\")\n",
    "abline(v = 0.05, col = \"blue\")\n",
    "# 在左上角标注满足条件的点的数量\n",
    "text(x = 0.05, y = max(vipVn)-0.5, labels = paste(\"Count:\", highlight_count,'(total:',length(vipVn),')'), pos = 4, col = \"blue\", cex = 1.2)\n"
   ]
  },
  {
   "cell_type": "code",
   "execution_count": null,
   "id": "0d383c87-2243-4ab2-a16c-3a3eb6e69472",
   "metadata": {
    "scrolled": true
   },
   "outputs": [],
   "source": [
    "# pvaVn <- apply(dataMatrix_use, 2,\n",
    "#                function(feaVn) cor.test(group_use %>% as.factor() %>% as.numeric(), feaVn)[[\"p.value\"]])\n",
    "# p.adj = p.adjust(pvaVn, method = 'BH')\n",
    "e_meta <- pmart_amide_norm$e_meta %>% as.data.frame() %>% \n",
    "    dplyr::rename(metabolites = Molecule)\n",
    "loading.score = oplsda@loadingMN %>% as.data.frame()\n",
    "loading.score$metabolites = rownames(loading.score)\n",
    "all.score  <-  merge(vip.score, loading.score, by = 'metabolites') %>% \n",
    "    # mutate(pvalue = pvaVn,p.adj = p.adj) %>% \n",
    "    left_join(e_meta ,by = 'metabolites')\n",
    "all.score$cat = paste('A',1:nrow(all.score), sep = '')\n",
    "all.score %>% dim()\n",
    "all.score %>% head()"
   ]
  },
  {
   "cell_type": "code",
   "execution_count": null,
   "id": "7e86ed5a-5723-4c1c-a6dd-1503f8d2c472",
   "metadata": {
    "scrolled": true
   },
   "outputs": [],
   "source": [
    "library(stringi)\n",
    "data_plot <- all.score %>% \n",
    "    filter(vip >= 1) %>% \n",
    "    arrange(desc(vip)) %>% \n",
    "    dplyr::slice(1:12,14:21) %>% \n",
    "    mutate(metabolites = iconv(metabolites,from = 'GBK',to = 'UTF-8')) %>%\n",
    "    mutate(\n",
    "        metabolites = metabolites %>% str_wrap(width = 50,whitespace_only = FALSE)\n",
    "    ) %>% \n",
    "    mutate(metabolites = factor(metabolites,levels = metabolites %>% rev()))\n",
    "data_plot %>% dim()\n",
    "data_plot$level  %>% table()\n",
    "data_plot %>% head()"
   ]
  },
  {
   "cell_type": "code",
   "execution_count": null,
   "id": "29946dcc-6410-456c-870c-3e6e3da6a029",
   "metadata": {},
   "outputs": [],
   "source": [
    "options(repr.plot.width = 12,repr.plot.height = 15)\n",
    "ggplot(data_plot, aes(metabolites, vip)) +\n",
    "  geom_segment(aes(x = metabolites, xend = metabolites,\n",
    "                   y = 0, yend = vip)) +\n",
    "  geom_point(shape = 21, size = 5, color = '#008000' ,fill = '#008000') +\n",
    "  annotate(geom = 'point',x = 1,y = 2.5, color = 'white') +\n",
    "  geom_hline(yintercept = 1, linetype = 'dashed') +\n",
    "  scale_y_continuous(expand = c(0,0),limits = c(0,5)) +\n",
    "  labs(x = '', y = 'VIP value') +\n",
    "  coord_flip() +\n",
    "  theme_bw() +\n",
    "  theme(legend.position = 'none',\n",
    "        legend.text = element_text(color = 'black',size = 12, family = 'Arial', face = 'plain'),\n",
    "        panel.background = element_blank(),\n",
    "        panel.grid = element_blank(),\n",
    "        axis.text = element_text(color = 'black',size = 24, family = 'Arial', face = 'plain'),\n",
    "        axis.text.x = element_text(angle = 0,hjust = 1),\n",
    "        axis.title = element_text(color = 'black',size = 20, family = 'Arial', face = 'plain'),\n",
    "        axis.ticks = element_line(color = 'black'),\n",
    "        axis.ticks.x = element_blank())"
   ]
  },
  {
   "cell_type": "code",
   "execution_count": null,
   "id": "d287f574-938c-4472-984d-422c7e84a844",
   "metadata": {
    "scrolled": true
   },
   "outputs": [],
   "source": [
    "# volcano plot\n",
    "df = dataMatrix_use %>% as.data.frame()\n",
    "df$group_use = group_use\n",
    "df = df[order(df$group_use),]\n",
    "df = df %>% select(-c('group_use'))\n",
    "df"
   ]
  },
  {
   "cell_type": "code",
   "execution_count": null,
   "id": "2058e20c-dd7c-4401-8f96-189c0010480a",
   "metadata": {
    "scrolled": true
   },
   "outputs": [],
   "source": [
    "sample_select_m <- sampleMetadata_use$Sample[sampleMetadata_use[[group_standard]] == 'sarcopenia']\n",
    "sample_select_m_rowid <- match(sample_select_m,rownames(df))\n",
    "sample_select_f <- sampleMetadata_use$Sample[sampleMetadata_use[[group_standard]] == 'non-sarcopenia']\n",
    "sample_select_f_rowid <- match(sample_select_f,rownames(df))\n",
    "sample_select_m_rowid;sample_select_f_rowid"
   ]
  },
  {
   "cell_type": "code",
   "execution_count": null,
   "id": "4d5b00f7-d115-4da0-aa9b-7eea6c2eb835",
   "metadata": {},
   "outputs": [],
   "source": [
    "M.mean = apply(df[sample_select_m_rowid,],2,FUN = mean)\n",
    "F.mean = apply(df[sample_select_f_rowid,],2,FUN = mean)\n",
    "FC = M.mean - F.mean\n",
    "log2FC = FC\n",
    "pvalue = apply(df, 2, function(x){wilcox.test(x[sample_select_m_rowid], x[sample_select_f_rowid])$p.value})\n",
    "p.adj = p.adjust(pvalue, method = 'BH')\n",
    "p.adj.log = -log10(p.adj)\n",
    "colcano.df = data.frame(FC,log2FC,pvalue,p.adj, p.adj.log)\n",
    "colcano.df$cat = ifelse(colcano.df$log2FC >= log2(1.2) & colcano.df$pvalue < 0.05,'Up',\n",
    "                        ifelse(colcano.df$log2FC <= log2(1/1.2) & colcano.df$pvalue < 0.05,'Down','NS'))\n",
    "colcano.df$cat %>% table()\n",
    "colcano.df %>% head()"
   ]
  },
  {
   "cell_type": "code",
   "execution_count": null,
   "id": "e874f664-55c9-41d8-ab38-1fe43f8049e2",
   "metadata": {
    "scrolled": true
   },
   "outputs": [],
   "source": [
    "data_plot <- colcano.df %>% \n",
    "    rownames_to_column('Molecule')\n",
    "data_plot"
   ]
  },
  {
   "cell_type": "code",
   "execution_count": null,
   "id": "cb3b4446-29ca-477c-9e18-1cdd6890d294",
   "metadata": {
    "scrolled": true
   },
   "outputs": [],
   "source": [
    "e_meta <- pmart_amide_norm$e_meta %>% as.data.frame() %>% \n",
    "    dplyr::rename(metabolites = Molecule)\n",
    "loading.score = oplsda@loadingMN %>% as.data.frame()\n",
    "loading.score$metabolites = rownames(loading.score)\n",
    "all.score  <-  merge(vip.score, loading.score, by = 'metabolites') %>% \n",
    "    # mutate(pvalue = pvaVn,p.adj = p.adj) %>% \n",
    "    left_join(e_meta ,by = 'metabolites')\n",
    "all.score$cat = paste('A',1:nrow(all.score), sep = '')\n",
    "all.score %>% dim()\n",
    "all.score %>% head()"
   ]
  },
  {
   "cell_type": "code",
   "execution_count": null,
   "id": "fc0f7243-396d-4e8d-ac21-7be64609ee44",
   "metadata": {},
   "outputs": [],
   "source": [
    "all.score_plsda  %>% select(c('metabolites','vip'))  %>% rename(vip_plsda = vip) %>% head()"
   ]
  },
  {
   "cell_type": "code",
   "execution_count": null,
   "id": "71d94463-5cd5-449e-8579-98467e2c5dee",
   "metadata": {},
   "outputs": [],
   "source": [
    "options(repr.matrix.max.cols = 40)\n",
    "df_res  <-  colcano.df %>% \n",
    "    rownames_to_column('metabolites') %>% \n",
    "    left_join(all.score %>% dplyr::select(-c('cat')),by = 'metabolites') %>% \n",
    "    left_join(all.score_plsda  %>% select(c('metabolites','vip'))  %>% rename(vip_plsda = vip),by = 'metabolites') %>% \n",
    "    dplyr::select(c('HMDB','metabolites','Super.Class','Class','Sub.Class','level',\n",
    "              'log2FC','pvalue','p.adj','vip','vip_plsda','p1','cat','Annotation','Reactome_id','Reactome_Description')) %>% \n",
    "    mutate(\n",
    "        cat_plsda = case_when(\n",
    "            vip_plsda > 1 & log2FC >= log2(1.2) & pvalue < 0.05 ~ 'Up',\n",
    "            vip_plsda > 1 & log2FC < log2(1/1.2) & pvalue < 0.05 ~ 'Down',\n",
    "            vip_plsda > 1 & pvalue > 0.05~ 'vip_sig but p_value_NS',\n",
    "            TRUE ~ 'NS'\n",
    "        ),\n",
    "        cat = factor(cat,levels = c('Up','Down','vip_sig but p_value_NS','NS'))\n",
    "    ) %>% \n",
    "    arrange(log2FC) %>% \n",
    "    mutate(\n",
    "        cat = case_when(\n",
    "            vip > 1 & log2FC >= log2(1.2) & pvalue < 0.05 ~ 'Up',\n",
    "            vip > 1 & log2FC < log2(1/1.2) & pvalue < 0.05 ~ 'Down',\n",
    "            vip > 1 & pvalue > 0.05~ 'vip_sig but p_value_NS',\n",
    "            TRUE ~ 'NS'\n",
    "        ),\n",
    "        cat = factor(cat,levels = c('Up','Down','vip_sig but p_value_NS','NS'))\n",
    "    ) %>% \n",
    "    arrange(cat,desc(log2FC)) %>% \n",
    "    as.data.frame()\n",
    "file_path <- paste(path_save,'/df_res_baseline_sarcopenia vs non-sarcopenia.csv',sep = '')\n",
    "cat(file_path)\n",
    "write.csv(df_res,file_path)\n",
    "df_res$cat %>% table()\n",
    "df_res %>% head()"
   ]
  },
  {
   "cell_type": "code",
   "execution_count": null,
   "id": "03077d66-4f8c-418b-8d75-f3068de47583",
   "metadata": {},
   "outputs": [],
   "source": [
    "options(repr.matrix.max.cols = 40)\n",
    "df_res  <-  colcano.df %>% \n",
    "    rownames_to_column('metabolites') %>% \n",
    "    left_join(all.score %>% select(-c('cat')),by = 'metabolites') %>% \n",
    "    left_join(all.score_plsda  %>% select(c('metabolites','vip'))  %>% rename(vip_plsda = vip),by = 'metabolites') %>% \n",
    "    mutate(\n",
    "        cat_plsda = case_when(\n",
    "            vip_plsda > 1 & log2FC >= log2(1.2) & pvalue < 0.05 ~ 'Up',\n",
    "            vip_plsda > 1 & log2FC < log2(1/1.2) & pvalue < 0.05 ~ 'Down',\n",
    "            vip_plsda > 1 & pvalue > 0.05~ 'vip_sig but p_value_NS',\n",
    "            TRUE ~ 'NS'\n",
    "        ),\n",
    "        cat = factor(cat,levels = c('Up','Down','vip_sig but p_value_NS','NS'))\n",
    "    ) %>% \n",
    "    arrange(log2FC) %>% \n",
    "    mutate(\n",
    "        cat = case_when(\n",
    "            vip > 1 & log2FC >= log2(1.2) & pvalue < 0.05 ~ 'Up',\n",
    "            vip > 1 & log2FC < log2(1/1.2) & pvalue < 0.05 ~ 'Down',\n",
    "            vip > 1 & pvalue > 0.05~ 'vip_sig but p_value_NS',\n",
    "            TRUE ~ 'NS'\n",
    "        ),\n",
    "        cat = factor(cat,levels = c('Up','Down','vip_sig but p_value_NS','NS'))\n",
    "    ) %>% \n",
    "    arrange(cat,desc(log2FC)) %>% \n",
    "    as.data.frame()\n",
    "file_path <- paste(path_save,'/df_res_baseline_sarcopenia vs non-sarcopenia_raw.csv',sep = '')\n",
    "cat(file_path)\n",
    "write.csv(df_res,file_path)"
   ]
  },
  {
   "cell_type": "code",
   "execution_count": null,
   "id": "09fa9c65-4b29-46a3-98f5-d5df47805f03",
   "metadata": {},
   "outputs": [],
   "source": [
    "metabolites_select <- c(\n",
    "    \"L-Tryptophan\",\"Quinolin-2-ol\",\"L-Citrulline\",\"sn-Glycero-3-phosphocholine\",\"N-hydroxy-L-tryptophan\",\"N-(2,4-Dinitrophenyl)ethylenediamine\",'Phe-Gly-Leu','PC(9:0/9:0)',\n",
    "    # \"Hydrocortisone\",\"3a,11b,21-Trihydroxy-20-oxo-5b-pregnan-18-al\",\"11b,17a,21-Trihydroxypreg-nenolone\",\"L-Glutamine\",\"L-Proline\"\n",
    "    \"Pregnenolone\",\"Creatine\",\"L-Citrulline\",\"sn-Glycero-3-phosphocholine\",\"Malonic acid\",\"Malonic acid\",\"L-Tryptophan\"\n",
    ") %>% unique()\n",
    "metabolites_select %>% length()\n",
    "metabolites_select[!(metabolites_select %in% df_res$metabolites)]\n",
    "metabolites_select"
   ]
  },
  {
   "cell_type": "code",
   "execution_count": null,
   "id": "1d6cef2d-2bab-432c-9336-1122fbd3c263",
   "metadata": {},
   "outputs": [],
   "source": [
    "df_res %>% head()"
   ]
  },
  {
   "cell_type": "code",
   "execution_count": null,
   "id": "bf3dbce5-858a-419f-ae8e-ef21b0917c0e",
   "metadata": {},
   "outputs": [],
   "source": [
    "data_plot <- df_res %>% \n",
    "    rename(Molecule = metabolites) %>% \n",
    "    mutate(\n",
    "        cat = case_when(\n",
    "            vip > 1 & log2FC >= log2(1.2) & pvalue < 0.05 ~ 'Up',\n",
    "            vip > 1 & log2FC < log2(1/1.2) & pvalue < 0.05 ~ 'Down',\n",
    "            TRUE ~ 'NS'\n",
    "        ),\n",
    "        cat = factor(cat,levels = c('Down','NS','Up'))\n",
    "    )"
   ]
  },
  {
   "cell_type": "code",
   "execution_count": null,
   "id": "3cb5b08e-daf3-49d9-a2e8-b6719a2907db",
   "metadata": {},
   "outputs": [],
   "source": [
    "options(repr.matrix.max.rows = 20)"
   ]
  },
  {
   "cell_type": "code",
   "execution_count": null,
   "id": "8ea17d93-4db5-4d2a-a3ca-4b66297e3625",
   "metadata": {
    "scrolled": true
   },
   "outputs": [],
   "source": [
    "data_plot_label <- data_plot %>% filter(cat %in% c('Up','Down')) %>% \n",
    "    arrange(desc(log2FC)) %>% \n",
    "    filter(Molecule %in% metabolites_select)\n",
    "data_plot_label"
   ]
  },
  {
   "cell_type": "code",
   "execution_count": null,
   "id": "a913470a-d414-4644-9bfb-cd1586f33edb",
   "metadata": {},
   "outputs": [],
   "source": [
    "# tmp <- data_plot %>% left_join(pmart_amide_norm$e_meta,by = 'Molecule')\n",
    "label_text_down <- data_plot %>% filter(cat == 'Down') %>% group_by(level) %>% summarise(Counts = n()) %>% mutate(res = paste(level,Counts,sep = ': ')) %>% pull(res) %>% paste(collapse = ';')\n",
    "# tmp <- data_plot %>% left_join(pmart_amide_norm$e_meta,by = 'Molecule')\n",
    "label_text_up <- data_plot %>% filter(cat == 'Up') %>% group_by(level) %>% summarise(Counts = n()) %>% mutate(res = paste(level,Counts,sep = ': ')) %>% pull(res) %>% paste(collapse = ';')\n",
    "label_text_down;label_text_up"
   ]
  },
  {
   "cell_type": "code",
   "execution_count": null,
   "id": "781adb32-042d-496e-904b-b5bd30504650",
   "metadata": {},
   "outputs": [],
   "source": [
    "library(ggrepel)\n",
    "options(repr.plot.width = 18,repr.plot.height = 15)\n",
    "ggplot(data_plot, aes(log2FC, -log10(pvalue),color = cat)) +\n",
    "    geom_point(size = 4,alpha = 0.6) +\n",
    "    geom_point(data = data_plot_label, mapping = aes(log2FC, -log10(pvalue),color = cat),size = 8) +\n",
    "    geom_text_repel(\n",
    "        data = data_plot_label,\n",
    "        mapping = aes(label = Molecule,color = cat),\n",
    "        box.padding = 0.5,\n",
    "        size=10, \n",
    "        segment.curvature = 0.5,\n",
    "        segment.size  = 1,\n",
    "        force = 80,\n",
    "        seed = 42,nudge_x = ifelse(data_plot_label$log2FC > 0, 2, -2),\n",
    "        arrow = arrow(length = unit(0.01, \"npc\")),\n",
    "        max.overlaps = Inf\n",
    "    ) +\n",
    "    annotate(\n",
    "        geom = 'text',x = -4,y = 4.5,\n",
    "        label = paste('Low expression in the SMI-Decrease group:\\n',label_text_down,sep = ''),\n",
    "        hjust = 0.1,size = 8) +\n",
    "    annotate(\n",
    "        geom = 'text',x = 1.2,y = 4.5,\n",
    "        label = paste('High expression in the SMI-Decrease group:\\n',label_text_up,sep = ''),\n",
    "        hjust = 0.1,size = 8) +\n",
    "    geom_vline(xintercept = log2(1.2)) +\n",
    "    geom_vline(xintercept = -log2(1.2)) +\n",
    "    geom_hline(yintercept = -log10(0.05)) +\n",
    "    scale_color_manual(values = c('#2B5C8A','#BABDBC','#A94322')) +\n",
    "    scale_x_continuous(limits = c(-4,4)) +\n",
    "    # scale_y_continuous(expand = c(0,0.1),limits = c(0,4.7)) +\n",
    "    labs(y = '-log10(p-value)') +\n",
    "    theme_bw() +\n",
    "    theme(\n",
    "    legend.position = 'none',\n",
    "    panel.background = element_blank(),\n",
    "    panel.grid = element_blank(),\n",
    "    panel.border = element_rect(fill = NA,linewidth = 1),\n",
    "    axis.text = element_text(color = 'black',size = 35, face = 'plain'),#, family = 'Arial'\n",
    "    axis.title = element_text(color = 'black',size = 35, face = 'plain'),#, family = 'Arial'\n",
    "    axis.ticks = element_line(color = 'black'),\n",
    "    axis.line = element_line(linewidth = 0.8)\n",
    "    )"
   ]
  }
 ],
 "metadata": {
  "kernelspec": {
   "display_name": "R 4.4",
   "language": "R",
   "name": "ir44"
  },
  "language_info": {
   "codemirror_mode": "r",
   "file_extension": ".r",
   "mimetype": "text/x-r-source",
   "name": "R",
   "pygments_lexer": "r",
   "version": "4.4.1"
  }
 },
 "nbformat": 4,
 "nbformat_minor": 5
}
