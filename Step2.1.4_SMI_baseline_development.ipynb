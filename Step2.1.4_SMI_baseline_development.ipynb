{
 "cells": [
  {
   "cell_type": "code",
   "execution_count": null,
   "id": "d84fa348-8365-45ff-ac08-685b43775ff8",
   "metadata": {},
   "outputs": [],
   "source": [
    "library(ropls)\n",
    "library(ggsci)\n",
    "library(Cairo)\n",
    "library(tidyverse)\n",
    "library(malbacR)\n",
    "library(pmartR)\n",
    "library(ggplot2)\n",
    "library(dplyr)\n",
    "library(tibble)\n",
    "library(tidyr)\n",
    "library(paletteer)\n",
    "library(extrafont)"
   ]
  },
  {
   "cell_type": "code",
   "execution_count": null,
   "id": "ce7bd116-17c5-440c-8273-2ec3c0aec1f1",
   "metadata": {},
   "outputs": [],
   "source": [
    "group_standard <- 'SMI_group1'\n",
    "save_file_prex <- 'wilcox_SMI_group1'\n",
    "path_save <- paste('/mnt/data3/fengyuan/data_exp_0826/result/Development_Cohort_',save_file_prex,sep = '')\n",
    "dir.create(path_save,showWarnings = FALSE)\n",
    "path_save"
   ]
  },
  {
   "cell_type": "code",
   "execution_count": null,
   "id": "c34e6997-9e7e-46ac-b663-1dc1a91bb279",
   "metadata": {
    "scrolled": true
   },
   "outputs": [],
   "source": [
    "data_raw <- readRDS('/mnt/data3/data_exp_0826/result/amide_qcrfsc.rds')"
   ]
  },
  {
   "cell_type": "code",
   "execution_count": null,
   "id": "e77c2532-d49a-4816-834b-4fda0327af82",
   "metadata": {
    "scrolled": true
   },
   "outputs": [],
   "source": [
    "options(repr.matrix.max.rows = 20,repr.matrix.max.cols = 20)\n",
    "data_raw$e_data"
   ]
  },
  {
   "cell_type": "code",
   "execution_count": null,
   "id": "8932251e-6b61-4243-8903-364c3d7957a1",
   "metadata": {},
   "outputs": [],
   "source": [
    "options(repr.matrix.max.rows = 20,repr.matrix.max.cols = 40)\n",
    "data_raw$e_data[data_raw$e_data$Molecule == 'Vicriviroc',]"
   ]
  },
  {
   "cell_type": "code",
   "execution_count": null,
   "id": "3ae9fbd6-9547-4f22-b0da-5e6002a4e720",
   "metadata": {},
   "outputs": [],
   "source": [
    "pmart_amide_norm <- data_raw"
   ]
  },
  {
   "cell_type": "code",
   "execution_count": null,
   "id": "d1409aa4-4a9e-4180-aca6-160d0cda5e63",
   "metadata": {},
   "outputs": [],
   "source": [
    "sampleMetadata <- pmart_amide_norm$f_data\n",
    "sampleMetadata %>% head()"
   ]
  },
  {
   "cell_type": "code",
   "execution_count": null,
   "id": "99f7ce68-18b4-42db-9c69-cc06d633d99f",
   "metadata": {
    "scrolled": true
   },
   "outputs": [],
   "source": [
    "sampleMetadata_use <- sampleMetadata %>%\n",
    "  filter(group_lv1 %in% c('Development Cohort'),group_lv2 == 'time_1')"
   ]
  },
  {
   "cell_type": "code",
   "execution_count": null,
   "id": "acd82ebd-b951-4306-b5e2-905a039e1f80",
   "metadata": {},
   "outputs": [],
   "source": [
    "sample_select <- sampleMetadata_use %>%\n",
    "  pull(Sample) %>% unique()\n",
    "sample_select %>% length()\n",
    "sample_select"
   ]
  },
  {
   "cell_type": "code",
   "execution_count": null,
   "id": "4622b6d6-3d39-4a42-ba7d-2dee74c3d2ea",
   "metadata": {
    "scrolled": true
   },
   "outputs": [],
   "source": [
    "dataMatrix_use <- pmart_amide_norm$e_data %>% \n",
    "  column_to_rownames('Molecule') %>% \n",
    "  t() %>% as.data.frame() %>% \n",
    "  rownames_to_column('Sample') %>% \n",
    "  filter(Sample %in% sample_select) %>% \n",
    "  column_to_rownames('Sample')\n",
    "dataMatrix_use %>% dim()\n",
    "dataMatrix_use %>% head()"
   ]
  },
  {
   "cell_type": "code",
   "execution_count": null,
   "id": "2ecdc806-e887-4725-8830-27417e2653b7",
   "metadata": {
    "scrolled": true
   },
   "outputs": [],
   "source": [
    "group_use <- sampleMetadata_use %>% \n",
    "  mutate(Sample = factor(Sample,levels = sample_select)) %>% \n",
    "  arrange(Sample) %>% \n",
    "  pull(all_of(group_standard))\n",
    "group_use %>% table()"
   ]
  },
  {
   "cell_type": "code",
   "execution_count": null,
   "id": "5a57c8df-de72-4f8d-ae69-cfb6e76471e0",
   "metadata": {},
   "outputs": [],
   "source": [
    "file_path <- paste(path_save,'pmart_amide_norm.rds',sep = '/')\n",
    "file_path\n",
    "saveRDS(pmart_amide_norm,file_path)\n",
    "file_path <- paste(path_save,'sampleMetadata_use.csv',sep = '/')\n",
    "write.csv(sampleMetadata_use,file_path)\n",
    "file_path"
   ]
  },
  {
   "cell_type": "code",
   "execution_count": null,
   "id": "21307e9f-cca7-48d7-8650-1aa97821fa61",
   "metadata": {
    "scrolled": true
   },
   "outputs": [],
   "source": [
    "variableMetadata_use <- pmart_amide_norm$e_meta\n",
    "variableMetadata_use"
   ]
  },
  {
   "cell_type": "code",
   "execution_count": null,
   "id": "9505eb08-aa09-4544-9928-e97a9284bdf1",
   "metadata": {
    "scrolled": true
   },
   "outputs": [],
   "source": [
    "options(repr.plot.width = 20,repr.plot.height = 20)\n",
    "pca = opls(dataMatrix_use)"
   ]
  },
  {
   "cell_type": "code",
   "execution_count": null,
   "id": "09a85b54-4656-4a36-9f8b-ea909b5809da",
   "metadata": {
    "scrolled": true
   },
   "outputs": [],
   "source": [
    "pca@scoreMN %>% head()"
   ]
  },
  {
   "cell_type": "code",
   "execution_count": null,
   "id": "ed9d9d36-6939-4df1-a8a1-7b5d9a8a44ed",
   "metadata": {},
   "outputs": [],
   "source": [
    "# PCA analysis\n",
    "options(repr.plot.width = 15,repr.plot.height = 15)\n",
    "plot(\n",
    "    pca, \n",
    "    typeVc = \"x-score\",\n",
    "    parAsColFcVn = group_use,\n",
    "    parEllipsesL = TRUE\n",
    ")"
   ]
  },
  {
   "cell_type": "markdown",
   "id": "09b080c9-ce5d-450c-90fb-c1f3b56037c2",
   "metadata": {},
   "source": [
    "### PLSDA analysis"
   ]
  },
  {
   "cell_type": "code",
   "execution_count": null,
   "id": "91851c89-c6c4-4517-a39a-35a6e5e7743e",
   "metadata": {},
   "outputs": [],
   "source": [
    "dataMatrix_use %>% max()\n",
    "dataMatrix_use %>% min()\n",
    "group_use"
   ]
  },
  {
   "cell_type": "code",
   "execution_count": null,
   "id": "a5f05e52-1150-4582-a711-f79a3e444bc6",
   "metadata": {
    "scrolled": true
   },
   "outputs": [],
   "source": [
    "options(repr.plot.width = 20,repr.plot.height = 20)\n",
    "results_plsda <- list()\n",
    "for (i in 1:10) {\n",
    "  results_plsda[[i]] <- opls(dataMatrix_use, group_use, predI = i, orthoI = 0)\n",
    "  print(paste(\"orthoI =\", i))\n",
    "  print(results_plsda[[i]]@summaryDF)\n",
    "}\n",
    "\n",
    "best_model <- results_plsda[[which.max(sapply(results_plsda, function(x) x@summaryDF$`Q2(cum)`))]]\n"
   ]
  },
  {
   "cell_type": "code",
   "execution_count": null,
   "id": "62040772-9996-4820-b1a0-74cc4acf71b6",
   "metadata": {
    "scrolled": true
   },
   "outputs": [],
   "source": [
    "lapply(1:10,function(i){results_plsda[[i]]@summaryDF})"
   ]
  },
  {
   "cell_type": "code",
   "execution_count": null,
   "id": "5117b555-ad05-4b12-b109-764045a27227",
   "metadata": {
    "scrolled": true
   },
   "outputs": [],
   "source": [
    "plsda = opls(dataMatrix_use,group_use,predI = 10,orthoI = 0)\n"
   ]
  },
  {
   "cell_type": "code",
   "execution_count": null,
   "id": "a87018c2-b4d7-45b3-a217-fcfec234995d",
   "metadata": {},
   "outputs": [],
   "source": [
    "plsda@summaryDF"
   ]
  },
  {
   "cell_type": "code",
   "execution_count": null,
   "id": "2db7bf1d-83ae-4f7d-b3d0-8d8b155223f2",
   "metadata": {
    "scrolled": true
   },
   "outputs": [],
   "source": [
    "# sample scores plot\n",
    "sample.score = plsda@scoreMN %>% \n",
    "  as.data.frame() %>%\n",
    "  mutate(group_use = group_use)\n",
    "sample.score %>% head()"
   ]
  },
  {
   "cell_type": "code",
   "execution_count": null,
   "id": "3582b14b-e3b7-4f0d-9c66-158860395ad8",
   "metadata": {},
   "outputs": [],
   "source": [
    "library(vegan)\n",
    "set.seed(12345678)\n",
    "result <- adonis2(dataMatrix_use ~ group_use, permutations = 1000, method = \"euclidean\")\n",
    "print(result)"
   ]
  },
  {
   "cell_type": "code",
   "execution_count": null,
   "id": "91035ed2-c147-4d06-85f0-432bf5358fae",
   "metadata": {},
   "outputs": [],
   "source": [
    "set.seed(12345)\n",
    "pca_res <- prcomp(dataMatrix_use, scale. = TRUE)\n",
    "result <- adonis2(pca_res$x ~ group_use, permutations = 999, method = \"euclidean\")"
   ]
  },
  {
   "cell_type": "code",
   "execution_count": null,
   "id": "aa420fef-7dc6-4038-b81a-c6a29ff15d3a",
   "metadata": {},
   "outputs": [],
   "source": [
    "explained_variance <- plsda@modelDF\n",
    "pc1_var <- explained_variance[1, \"R2X\"] * 100 \n",
    "pc2_var <- explained_variance[2, \"R2X\"] * 100 \n",
    "options(repr.plot.height = 10,repr.plot.width = 12)\n",
    "ggplot(sample.score, aes(p1, p2, color = group_use)) +\n",
    "  geom_hline(yintercept = 0, linetype = 'dashed', linewidth = 0.5) +\n",
    "  geom_vline(xintercept = 0, linetype = 'dashed', linewidth = 0.5) +\n",
    "  geom_point(size = 8) +\n",
    "  annotate(geom = 'text', x = min(sample.score$p1)*0.5, y = 41, label = paste('Permutation test: P = ', result$`Pr(>F)`[1] %>% round(digits = 4),sep = ''), size = 12,hjust = 0.5, vjust = 0) +\n",
    "  annotate(\"point\", x = -10, y = -10, color = \"white\") +\n",
    "  stat_ellipse(level = 0.95, linetype = 'solid', \n",
    "               linewidth = 0.5, show.legend = FALSE) +\n",
    "  scale_color_manual(values = c('#A94322','#2B5C8A')) +\n",
    "  labs(x = paste0('P1 (', round(pc1_var, 1), '%)'), \n",
    "       y = paste0('P2 (', round(pc2_var, 1), '%)')) +\n",
    "  guides(color = guide_legend(override.aes = list(size = 7))) +\n",
    "  theme_bw() +\n",
    "  theme(\n",
    "    legend.position = c(0.22,0.88),\n",
    "    legend.text = element_text(color = 'black',size = 40, face = 'plain'),\n",
    "    legend.title = element_blank(),\n",
    "    legend.background = element_rect(fill = NA),\n",
    "    panel.background = element_blank(),\n",
    "    panel.grid = element_blank(),\n",
    "    panel.border = element_rect(fill = NA,linewidth = 0.5),\n",
    "    axis.text = element_text(color = 'black',size = 35, face = 'plain'),\n",
    "    axis.title = element_text(color = 'black',size = 35, face = 'plain'),\n",
    "    axis.ticks = element_line(color = 'black'),\n",
    "    axis.line = element_blank()\n",
    "  )"
   ]
  },
  {
   "cell_type": "code",
   "execution_count": null,
   "id": "45fe9d4c-5932-42df-8a74-568cb36625ab",
   "metadata": {},
   "outputs": [],
   "source": [
    "# VIP scores plot\n",
    "vip.score = as.data.frame(plsda@vipVn)\n",
    "colnames(vip.score) = 'vip'\n",
    "vip.score$metabolites = rownames(vip.score)\n",
    "vip.score = vip.score[order(-vip.score$vip),]\n",
    "vip.score$metabolites = factor(vip.score$metabolites,\n",
    "                               levels = vip.score$metabolites)\n",
    " \n",
    "loading.score = plsda@loadingMN %>% as.data.frame()\n",
    "loading.score$metabolites = rownames(loading.score)\n",
    " \n",
    "all.score = merge(vip.score, loading.score, by = 'metabolites')\n",
    " \n",
    "all.score$cat = paste('A',1:nrow(all.score), sep = '')"
   ]
  },
  {
   "cell_type": "code",
   "execution_count": null,
   "id": "9b4f2b28-999f-4926-9964-1ea24ff98add",
   "metadata": {},
   "outputs": [],
   "source": [
    "options(repr.plot.width = 15,repr.plot.height = 6)\n",
    "ggplot(all.score[all.score$vip >= 1,], aes(cat, vip)) +\n",
    "  geom_segment(aes(x = cat, xend = cat,\n",
    "                   y = 0, yend = vip)) +\n",
    "  geom_point(shape = 21, size = 5, color = '#008000' ,fill = '#008000') +\n",
    "  annotate(geom = 'point',x=1,y=2.5, color = 'white') +\n",
    "  geom_hline(yintercept = 1, linetype = 'dashed') +\n",
    "  scale_y_continuous(expand = c(0,0)) +\n",
    "  labs(x = '', y = 'VIP value') +\n",
    "  theme_bw() +\n",
    "  theme(legend.position = 'none',\n",
    "        legend.text = element_text(color = 'black',size = 12, family = 'Arial', face = 'plain'),\n",
    "        panel.background = element_blank(),\n",
    "        panel.grid = element_blank(),\n",
    "        axis.text = element_text(color = 'black',size = 15, family = 'Arial', face = 'plain'),\n",
    "        axis.text.x = element_text(angle = 90),\n",
    "        axis.title = element_text(color = 'black',size = 15, family = 'Arial', face = 'plain'),\n",
    "        axis.ticks = element_line(color = 'black'),\n",
    "        axis.ticks.x = element_blank())"
   ]
  },
  {
   "cell_type": "markdown",
   "id": "3251bd68-f501-489a-903d-4640b343b475",
   "metadata": {},
   "source": [
    "#### oplsda"
   ]
  },
  {
   "cell_type": "code",
   "execution_count": null,
   "id": "572d1fe5-6376-4de4-9fb0-2242ad807645",
   "metadata": {
    "scrolled": true
   },
   "outputs": [],
   "source": [
    "options(repr.plot.width = 20,repr.plot.height = 20)\n",
    "results <- list()\n",
    "for (i in 0:7) {\n",
    "  results[[i+1]] <- opls(dataMatrix_use, group_use, predI = 1, orthoI = i)\n",
    "  print(paste(\"orthoI =\", i))\n",
    "  print(results[[i+1]]@summaryDF)\n",
    "}\n",
    "\n",
    "best_model <- results[[which.max(sapply(results, function(x) x@summaryDF$`Q2(cum)`))]]\n"
   ]
  },
  {
   "cell_type": "code",
   "execution_count": null,
   "id": "c19795aa-b637-4eb7-9a43-0805ba6f8ffa",
   "metadata": {},
   "outputs": [],
   "source": [
    "results[[which.max(sapply(results, function(x) x@summaryDF$`Q2(cum)`))]]"
   ]
  },
  {
   "cell_type": "code",
   "execution_count": null,
   "id": "1fe3c4f3-75b4-40a3-9666-d37c39974a22",
   "metadata": {
    "scrolled": true
   },
   "outputs": [],
   "source": [
    "group_use"
   ]
  },
  {
   "cell_type": "code",
   "execution_count": null,
   "id": "41464d5b-bba9-45c3-824c-a1befa2a523f",
   "metadata": {
    "scrolled": true
   },
   "outputs": [],
   "source": [
    "# OPLS-DA analysis\n",
    "options(repr.plot.width = 15,repr.plot.height = 15)\n",
    "dataMatrix_use %>% max()\n",
    "dataMatrix_use %>% min()\n",
    "oplsda = opls(dataMatrix_use, group_use, predI = 1, orthoI = 1)#,permI = 200"
   ]
  },
  {
   "cell_type": "code",
   "execution_count": null,
   "id": "78b67c32-78fc-4332-8a44-4755c15c837e",
   "metadata": {},
   "outputs": [],
   "source": [
    "group_use %>% table()"
   ]
  },
  {
   "cell_type": "code",
   "execution_count": null,
   "id": "f2ebaf2c-574d-4d46-b37c-235ca7843432",
   "metadata": {},
   "outputs": [],
   "source": [
    "oplsda@pcaVarVn"
   ]
  },
  {
   "cell_type": "code",
   "execution_count": null,
   "id": "1c15823b-1ee1-45ba-9f3c-f2d666a1aa29",
   "metadata": {},
   "outputs": [],
   "source": [
    "plot(oplsda, typeVc = \"permutation\")"
   ]
  },
  {
   "cell_type": "code",
   "execution_count": null,
   "id": "1904b6c5-4588-4c59-853e-4e64f2ced7d1",
   "metadata": {},
   "outputs": [],
   "source": [
    "# sample scores plot\n",
    "sample.score = oplsda@scoreMN %>% \n",
    "  as.data.frame() %>%\n",
    "  mutate(group_use = group_use,\n",
    "         o1 = oplsda@orthoScoreMN[,1])"
   ]
  },
  {
   "cell_type": "code",
   "execution_count": null,
   "id": "b25669d1-b17b-460b-8b2b-7d7b1360f73c",
   "metadata": {},
   "outputs": [],
   "source": [
    "sample.score"
   ]
  },
  {
   "cell_type": "code",
   "execution_count": null,
   "id": "256b1753-925a-4184-abdd-3b91a4a891be",
   "metadata": {},
   "outputs": [],
   "source": [
    "library(vegan)\n",
    "set.seed(12345678)\n",
    "result <- adonis2(dataMatrix_use ~ group_use, permutations = 1000, method = \"euclidean\")\n",
    "print(result)"
   ]
  },
  {
   "cell_type": "code",
   "execution_count": null,
   "id": "c766bd7f-de15-4339-a5a9-67e9086fa524",
   "metadata": {},
   "outputs": [],
   "source": [
    "explained_variance <- oplsda@modelDF\n",
    "# 提取PC1和PC2的累计解释方差\n",
    "pc1_var <- explained_variance[1, \"R2X\"] * 100  \n",
    "pc2_var <- explained_variance[2, \"R2X\"] * 100  \n",
    "options(repr.plot.height = 10,repr.plot.width = 12)\n",
    "ggplot(sample.score, aes(p1, o1, color = group_use)) +\n",
    "  geom_hline(yintercept = 0, linetype = 'dashed', size = 0.5) +\n",
    "  geom_vline(xintercept = 0, linetype = 'dashed', size = 0.5) +\n",
    "  geom_point(size = 5) +\n",
    "  annotate(geom = 'text', x = min(sample.score$p1)*0.5, y = 48, label = paste('Permutation test: P = ', result$`Pr(>F)`[1] %>% round(digits = 4),sep = ''), size = 12,hjust = 0.5, vjust = 0) +\n",
    "  annotate(\"point\", x = -10, y = -10, color = \"white\") +\n",
    "  stat_ellipse(level = 0.95, linetype = 'solid', \n",
    "               linewidth = 1, show.legend = FALSE) +\n",
    "  scale_color_manual(values = c('#A94322','#2B5C8A')) +\n",
    "  labs(x = paste0('P1 (', round(pc1_var, 1), '%)'), \n",
    "       y = paste0('to1 (', round(pc2_var, 1), '%)')) +\n",
    "  guides(color = guide_legend(override.aes = list(size = 5))) +\n",
    "  theme_bw() +\n",
    "  theme(\n",
    "    legend.position = c(0.22,0.88),\n",
    "    legend.text = element_text(color = 'black',size = 40, family = 'Arial', face = 'plain'),\n",
    "    legend.title = element_blank(),\n",
    "    legend.background = element_rect(fill = NA),\n",
    "    panel.background = element_blank(),\n",
    "    panel.grid = element_blank(),\n",
    "    panel.border = element_rect(fill = NA,linewidth = 1),\n",
    "    axis.text = element_text(color = 'black',size = 35, family = 'Arial', face = 'plain'),\n",
    "    axis.title = element_text(color = 'black',size = 35, family = 'Arial', face = 'plain'),\n",
    "    axis.ticks = element_line(color = 'black'),\n",
    "    axis.line = element_line(linewidth = 0.8)\n",
    "  )"
   ]
  },
  {
   "cell_type": "code",
   "execution_count": null,
   "id": "5c4dee1b-2bea-410e-8eea-3f9955f9c124",
   "metadata": {},
   "outputs": [],
   "source": [
    "# VIP scores plot\n",
    "vip.score = as.data.frame(oplsda@vipVn)\n",
    "colnames(vip.score) = 'vip'\n",
    "vip.score$metabolites = rownames(vip.score)\n",
    "vip.score = vip.score[order(-vip.score$vip),]\n",
    "vip.score$metabolites = factor(vip.score$metabolites,\n",
    "                               levels = vip.score$metabolites)\n",
    "vip.score %>% head()"
   ]
  },
  {
   "cell_type": "code",
   "execution_count": null,
   "id": "fb83b314-e6f9-4f74-9b02-934449e44a60",
   "metadata": {},
   "outputs": [],
   "source": [
    "pvaVn <- apply(dataMatrix_use, 2,\n",
    "               function(feaVn) cor.test(group_use %>% as.factor() %>% as.numeric(), feaVn)[[\"p.value\"]])\n",
    "\n",
    "vipVn <- getVipVn(opls(dataMatrix_use, group_use,\n",
    "                       predI = 1, orthoI = 1,\n",
    "                       fig.pdfC = \"none\"))\n",
    "vipVn %>% head()"
   ]
  },
  {
   "cell_type": "code",
   "execution_count": null,
   "id": "0d383c87-2243-4ab2-a16c-3a3eb6e69472",
   "metadata": {
    "scrolled": true
   },
   "outputs": [],
   "source": [
    "# pvaVn <- apply(dataMatrix_use, 2,\n",
    "#                function(feaVn) cor.test(group_use %>% as.factor() %>% as.numeric(), feaVn)[[\"p.value\"]])\n",
    "# p.adj = p.adjust(pvaVn, method = 'BH')\n",
    "e_meta <- pmart_amide_norm$e_meta %>% as.data.frame() %>% \n",
    "    dplyr::rename(metabolites = Molecule)\n",
    "loading.score = oplsda@loadingMN %>% as.data.frame()\n",
    "loading.score$metabolites = rownames(loading.score)\n",
    "all.score  <-  merge(vip.score, loading.score, by = 'metabolites') %>% \n",
    "    # mutate(pvalue = pvaVn,p.adj = p.adj) %>% \n",
    "    left_join(e_meta ,by = 'metabolites')\n",
    "all.score$cat = paste('A',1:nrow(all.score), sep = '')\n",
    "all.score %>% dim()\n",
    "all.score %>% head()"
   ]
  },
  {
   "cell_type": "code",
   "execution_count": null,
   "id": "7e86ed5a-5723-4c1c-a6dd-1503f8d2c472",
   "metadata": {
    "scrolled": true
   },
   "outputs": [],
   "source": [
    "library(stringi)\n",
    "data_plot <- all.score %>% \n",
    "    filter(vip >= 1) %>% \n",
    "    arrange(desc(vip)) %>% \n",
    "    dplyr::slice(1:12,14:21) %>% \n",
    "    mutate(metabolites = stri_enc_toutf8(metabolites)) %>%\n",
    "    mutate(\n",
    "        metabolites = metabolites %>% str_wrap(width = 50,whitespace_only = FALSE)\n",
    "    ) %>% \n",
    "    mutate(metabolites = factor(metabolites,levels = metabolites %>% rev()))\n",
    "data_plot %>% dim()\n",
    "data_plot$level  %>% table()\n",
    "data_plot %>% head()"
   ]
  },
  {
   "cell_type": "code",
   "execution_count": null,
   "id": "29946dcc-6410-456c-870c-3e6e3da6a029",
   "metadata": {},
   "outputs": [],
   "source": [
    "options(repr.plot.width = 14,repr.plot.height = 15)\n",
    "ggplot(data_plot, aes(metabolites, vip)) +\n",
    "  geom_segment(aes(x = metabolites, xend = metabolites,\n",
    "                   y = 0, yend = vip)) +\n",
    "  geom_point(shape = 21, size = 5, color = '#008000' ,fill = '#008000') +\n",
    "  annotate(geom = 'point',x = 1,y = 2.5, color = 'white') +\n",
    "  geom_hline(yintercept = 1, linetype = 'dashed') +\n",
    "  scale_y_continuous(expand = c(0,0),limits = c(0,3.5)) +\n",
    "  labs(x = '', y = 'VIP value') +\n",
    "  coord_flip() +\n",
    "  theme_bw() +\n",
    "  theme(legend.position = 'none',\n",
    "        legend.text = element_text(color = 'black',size = 12, family = 'Arial', face = 'plain'),\n",
    "        panel.background = element_blank(),\n",
    "        panel.grid = element_blank(),\n",
    "        axis.text = element_text(color = 'black',size = 30, family = 'Arial', face = 'plain'),\n",
    "        axis.text.x = element_text(angle = 0,hjust = 1),\n",
    "        axis.title = element_text(color = 'black',size = 20, family = 'Arial', face = 'plain'),\n",
    "        axis.ticks = element_line(color = 'black'),\n",
    "        axis.ticks.x = element_blank())"
   ]
  },
  {
   "cell_type": "code",
   "execution_count": null,
   "id": "8a5b5ed5-aec7-4f6e-8606-5a0e280138b6",
   "metadata": {},
   "outputs": [],
   "source": [
    "dataMatrix_use %>% colnames() %>% length"
   ]
  },
  {
   "cell_type": "code",
   "execution_count": null,
   "id": "d287f574-938c-4472-984d-422c7e84a844",
   "metadata": {
    "scrolled": true
   },
   "outputs": [],
   "source": [
    "# volcano plot\n",
    "df = dataMatrix_use %>% as.data.frame()\n",
    "df$group_use = group_use\n",
    "df = df[order(df$group_use),]\n",
    "df = df %>% select(-c('group_use'))\n",
    "df"
   ]
  },
  {
   "cell_type": "code",
   "execution_count": null,
   "id": "2058e20c-dd7c-4401-8f96-189c0010480a",
   "metadata": {
    "scrolled": true
   },
   "outputs": [],
   "source": [
    "sample_select_m <- sampleMetadata_use$Sample[sampleMetadata_use[[group_standard]] == 'sarcopenia']\n",
    "sample_select_m_rowid <- match(sample_select_m,rownames(df))\n",
    "sample_select_f <- sampleMetadata_use$Sample[sampleMetadata_use[[group_standard]] == 'non-sarcopenia']\n",
    "sample_select_f_rowid <- match(sample_select_f,rownames(df))\n",
    "sample_select_m_rowid;sample_select_f_rowid"
   ]
  },
  {
   "cell_type": "code",
   "execution_count": null,
   "id": "4d5b00f7-d115-4da0-aa9b-7eea6c2eb835",
   "metadata": {},
   "outputs": [],
   "source": [
    "M.mean = apply(df[sample_select_m_rowid,],2,FUN = mean)\n",
    "F.mean = apply(df[sample_select_f_rowid,],2,FUN = mean)\n",
    "FC = M.mean - F.mean\n",
    "log2FC = FC\n",
    "pvalue = apply(df, 2, function(x)\n",
    " {wilcox.test(x[sample_select_m_rowid], x[sample_select_f_rowid])$p.value})\n",
    "\n",
    "p.adj = p.adjust(pvalue, method = 'BH')\n",
    "p.adj.log = -log10(p.adj)\n",
    "colcano.df = data.frame(FC,log2FC,pvalue,p.adj, p.adj.log)\n",
    "colcano.df$cat = ifelse(colcano.df$log2FC >= log2(1.2) & colcano.df$pvalue < 0.05,'Up',\n",
    "                        ifelse(colcano.df$log2FC <= log2(1/1.2) & colcano.df$pvalue < 0.05,'Down','NS'))\n",
    "colcano.df$cat %>% table()\n",
    "colcano.df %>% head()"
   ]
  },
  {
   "cell_type": "code",
   "execution_count": null,
   "id": "cb3b4446-29ca-477c-9e18-1cdd6890d294",
   "metadata": {
    "scrolled": true
   },
   "outputs": [],
   "source": [
    "e_meta <- pmart_amide_norm$e_meta %>% as.data.frame() %>% \n",
    "    dplyr::rename(metabolites = Molecule)\n",
    "loading.score = oplsda@loadingMN %>% as.data.frame()\n",
    "loading.score$metabolites = rownames(loading.score)\n",
    "all.score  <-  merge(vip.score, loading.score, by = 'metabolites') %>% \n",
    "    # mutate(pvalue = pvaVn,p.adj = p.adj) %>% \n",
    "    left_join(e_meta ,by = 'metabolites')\n",
    "all.score$cat = paste('A',1:nrow(all.score), sep = '')\n",
    "all.score %>% dim()\n",
    "all.score %>% head()"
   ]
  },
  {
   "cell_type": "code",
   "execution_count": null,
   "id": "71d94463-5cd5-449e-8579-98467e2c5dee",
   "metadata": {},
   "outputs": [],
   "source": [
    "options(repr.matrix.max.cols = 40)\n",
    "df_res  <-  colcano.df %>% \n",
    "    rownames_to_column('metabolites') %>% \n",
    "    left_join(all.score %>% dplyr::select(-c('cat')),by = 'metabolites') %>% \n",
    "    dplyr::select(c('HMDB','metabolites','Super.Class','Class','Sub.Class','level',\n",
    "              'log2FC','pvalue','p.adj','vip','p1','cat','Annotation','Reactome_id','Reactome_Description')) %>% \n",
    "    arrange(log2FC) %>% \n",
    "    mutate(\n",
    "        cat = case_when(\n",
    "            vip > 1 & log2FC >= log2(1.2) & pvalue < 0.05 ~ 'Up',\n",
    "            vip > 1 & log2FC < log2(1/1.2) & pvalue < 0.05 ~ 'Down',\n",
    "            vip > 1 & pvalue > 0.05~ 'vip_sig but p_value_NS',\n",
    "            TRUE ~ 'NS'\n",
    "        ),\n",
    "        cat = factor(cat,levels = c('Up','Down','vip_sig but p_value_NS','NS'))\n",
    "    ) %>% \n",
    "    arrange(cat,desc(log2FC)) %>% \n",
    "    as.data.frame()\n",
    "file_path <- paste(path_save,'/df_res_baseline_sarcopenia vs non-sarcopenia.csv',sep = '')\n",
    "cat(file_path)\n",
    "write.csv(df_res,file_path)\n",
    "df_res$cat %>% table()\n",
    "df_res %>% head()"
   ]
  },
  {
   "cell_type": "code",
   "execution_count": null,
   "id": "03077d66-4f8c-418b-8d75-f3068de47583",
   "metadata": {},
   "outputs": [],
   "source": [
    "options(repr.matrix.max.cols = 40)\n",
    "df_res  <-  colcano.df %>% \n",
    "    rownames_to_column('metabolites') %>% \n",
    "    left_join(all.score %>% select(-c('cat')),by = 'metabolites') %>% \n",
    "    arrange(log2FC) %>% \n",
    "    mutate(\n",
    "        cat = case_when(\n",
    "            vip > 1 & log2FC >= log2(1.2) & pvalue < 0.05 ~ 'Up',\n",
    "            vip > 1 & log2FC < log2(1/1.2) & pvalue < 0.05 ~ 'Down',\n",
    "            vip > 1 & pvalue > 0.05~ 'vip_sig but p_value_NS',\n",
    "            TRUE ~ 'NS'\n",
    "        ),\n",
    "        cat = factor(cat,levels = c('Up','Down','vip_sig but p_value_NS','NS'))\n",
    "    ) %>% \n",
    "    arrange(cat,desc(log2FC)) %>% \n",
    "    as.data.frame()\n",
    "file_path <- paste(path_save,'/df_res_baseline_sarcopenia vs non-sarcopenia_raw.csv',sep = '')\n",
    "cat(file_path)\n",
    "write.csv(df_res,file_path)"
   ]
  },
  {
   "cell_type": "markdown",
   "id": "7bf7d76f-0c85-4482-b298-8ec75071d2fe",
   "metadata": {},
   "source": [
    "### 绘制火山图"
   ]
  },
  {
   "cell_type": "code",
   "execution_count": null,
   "id": "3fe5f718-99a8-4499-8ed6-f77cc72c0975",
   "metadata": {},
   "outputs": [],
   "source": [
    "metabolites_select <- c(\n",
    "    \"L-Tryptophan\",\"Quinolin-2-ol\",\"L-Citrulline\",\"sn-Glycero-3-phosphocholine\",\"N-hydroxy-L-tryptophan\",\"N-(2,4-Dinitrophenyl)ethylenediamine\",'Phe-Gly-Leu','PC(9:0/9:0)'\n",
    ")"
   ]
  },
  {
   "cell_type": "code",
   "execution_count": null,
   "id": "c7adf6a3-ad2b-44d0-b2f3-1f96060130fc",
   "metadata": {},
   "outputs": [],
   "source": [
    "df_res %>% head()"
   ]
  },
  {
   "cell_type": "code",
   "execution_count": null,
   "id": "6306ca2f-b3cc-4fcd-8e1c-8fc9db838f78",
   "metadata": {},
   "outputs": [],
   "source": [
    "data_plot <- df_res %>% \n",
    "    rename(Molecule = metabolites) %>% \n",
    "    mutate(\n",
    "        cat = case_when(\n",
    "            vip > 1 & log2FC >= log2(1.2) & pvalue < 0.05 ~ 'Up',\n",
    "            vip > 1 & log2FC < log2(1/1.2) & pvalue < 0.05 ~ 'Down',\n",
    "            TRUE ~ 'NS'\n",
    "        ),\n",
    "        cat = factor(cat,levels = c('Down','NS','Up'))\n",
    "    )"
   ]
  },
  {
   "cell_type": "code",
   "execution_count": null,
   "id": "2536bd69-bf2e-4bba-a257-6dcf39a35258",
   "metadata": {
    "scrolled": true
   },
   "outputs": [],
   "source": [
    "metabolites_select <- data_plot %>% \n",
    "    filter(cat %in% c('Down','Up')) %>% \n",
    "    group_by(cat) %>% \n",
    "    arrange(log2FC) %>% \n",
    "    ungroup() %>% \n",
    "    slice(c(1:4,(n()-4):n())) %>% \n",
    "    pull(Molecule)\n",
    "metabolites_select"
   ]
  },
  {
   "cell_type": "code",
   "execution_count": null,
   "id": "c71a69e6-3b9a-4813-a5f1-aad8be2c103a",
   "metadata": {
    "scrolled": true
   },
   "outputs": [],
   "source": [
    "data_plot_label <- data_plot %>% filter(cat %in% c('Up','Down')) %>% \n",
    "    arrange(desc(log2FC)) %>% \n",
    "    filter(Molecule %in% metabolites_select)"
   ]
  },
  {
   "cell_type": "code",
   "execution_count": null,
   "id": "5052dc03-b242-4a02-bb4e-9ad228e61d78",
   "metadata": {},
   "outputs": [],
   "source": [
    "head(data_plot)"
   ]
  },
  {
   "cell_type": "code",
   "execution_count": null,
   "id": "77c02474-92f1-4ee4-bf3d-574e844b4e9d",
   "metadata": {},
   "outputs": [],
   "source": [
    "# tmp <- data_plot %>% left_join(pmart_amide_norm$e_meta,by = 'Molecule')\n",
    "label_text_down <- data_plot %>% filter(cat == 'Down') %>% group_by(level) %>% summarise(Counts = n()) %>% mutate(res = paste(level,Counts,sep = ': ')) %>% pull(res) %>% paste(collapse = ';')\n",
    "# tmp <- data_plot %>% left_join(pmart_amide_norm$e_meta,by = 'Molecule')\n",
    "label_text_up <- data_plot %>% filter(cat == 'Up') %>% group_by(level) %>% summarise(Counts = n()) %>% mutate(res = paste(level,Counts,sep = ': ')) %>% pull(res) %>% paste(collapse = ';')\n",
    "label_text_down;label_text_up"
   ]
  },
  {
   "cell_type": "code",
   "execution_count": null,
   "id": "3af0a9ce-94b5-464a-9db7-11ff25052a57",
   "metadata": {
    "scrolled": true
   },
   "outputs": [],
   "source": [
    "library(ggrepel)\n",
    "options(repr.plot.width = 18,repr.plot.height = 15)\n",
    "ggplot(data_plot, aes(log2FC, -log10(pvalue),color = cat)) +\n",
    "    geom_point(size = 4,alpha = 0.6) +\n",
    "    geom_point(data = data_plot_label, mapping = aes(log2FC, -log10(pvalue),color = cat),size = 8) +\n",
    "    geom_text_repel(\n",
    "        data = data_plot_label,\n",
    "        mapping = aes(label = Molecule,color = cat),\n",
    "        box.padding = 0.5,\n",
    "        size=10, \n",
    "        segment.curvature = 0.5,\n",
    "        segment.size  = 1,\n",
    "        force = 80,\n",
    "        fontface = \"italic\",\n",
    "        seed = 42,\n",
    "        arrow = arrow(length = unit(0.01, \"npc\")),\n",
    "        max.overlaps = Inf\n",
    "    ) +\n",
    "    annotate(\n",
    "        geom = 'text',x = -3,y = 4.5,\n",
    "        label = paste('Low expression in the SMI-Decrease group:\\n',label_text_down,sep = ''),\n",
    "        hjust = 0.1,size = 8) +\n",
    "    annotate(\n",
    "        geom = 'text',x = 1,y = 4.5,\n",
    "        label = paste('High expression in the SMI-Decrease group:\\n',label_text_up,sep = ''),\n",
    "        hjust = 0.1,size = 8) +\n",
    "    geom_vline(xintercept = log2(1.2)) +\n",
    "    geom_vline(xintercept = -log2(1.2)) +\n",
    "    geom_hline(yintercept = -log10(0.05)) +\n",
    "    scale_color_manual(values = c('#2B5C8A','#BABDBC','#A94322')) +\n",
    "    scale_x_continuous(limits = c(-3,3)) +\n",
    "    scale_y_continuous(expand = c(0,0.1),limits = c(0,4.7)) +\n",
    "    labs(y = '-log10(p-value)') +\n",
    "    theme_bw() +\n",
    "    theme(\n",
    "    legend.position = 'none',\n",
    "    panel.background = element_blank(),\n",
    "    panel.grid = element_blank(),\n",
    "    panel.border = element_rect(fill = NA,linewidth = 1),\n",
    "    axis.text = element_text(color = 'black',size = 35, family = 'Arial', face = 'plain'),\n",
    "    axis.title = element_text(color = 'black',size = 35, family = 'Arial', face = 'plain'),\n",
    "    axis.ticks = element_line(color = 'black'),\n",
    "    axis.line = element_line(linewidth = 0.8)\n",
    "    )"
   ]
  },
  {
   "cell_type": "code",
   "execution_count": null,
   "id": "1d2f7c4e-0ded-4c57-9203-7c42723f2b4b",
   "metadata": {},
   "outputs": [],
   "source": [
    "data_plot <- df_res %>% \n",
    "    rename(Molecule = metabolites) %>% \n",
    "    mutate(\n",
    "        cat = case_when(\n",
    "            vip > 1 & log2FC >= log2(1.2) & pvalue < 0.05 ~ 'Up',\n",
    "            vip > 1 & log2FC < log2(1/1.2) & pvalue < 0.05 ~ 'Down',\n",
    "            TRUE ~ 'NS'\n",
    "        ),\n",
    "        cat = factor(cat,levels = c('Down','NS','Up'))\n",
    "    ) %>% \n",
    "    arrange(log2FC) %>% \n",
    "    mutate(\n",
    "        Molecule = factor(Molecule,levels = Molecule),\n",
    "        rank_x = 1:n()\n",
    "    )\n",
    "data_plot %>% dim()\n",
    "data_plot %>% head()"
   ]
  },
  {
   "cell_type": "code",
   "execution_count": null,
   "id": "89615dae-d88f-4a9d-93c9-248b16604fa8",
   "metadata": {},
   "outputs": [],
   "source": [
    "options(repr.plot.width = 14,repr.plot.height = 15)\n",
    "metabolites_select <- data_plot %>% \n",
    "    filter(cat %in% c('Down')) %>% \n",
    "    group_by(cat) %>% \n",
    "    arrange(log2FC) %>% \n",
    "    ungroup() %>% \n",
    "    slice(1:8) %>% \n",
    "    pull(Molecule)\n",
    "data_text_down <- data.frame(\n",
    "    metabolites_select = metabolites_select,\n",
    "    x_loc = rep(600,length(metabolites_select)),\n",
    "    y_loc = 0.1 * (1:length(metabolites_select)) - 1.2\n",
    ")\n",
    "metabolites_select <- data_plot %>% \n",
    "    filter(cat %in% c('Up')) %>% \n",
    "    group_by(cat) %>% \n",
    "    arrange(log2FC) %>% \n",
    "    ungroup() %>% \n",
    "    slice(1:8) %>% \n",
    "    pull(Molecule)\n",
    "data_text_up <- data.frame(\n",
    "    metabolites_select = metabolites_select,\n",
    "    x_loc = rep(1200,length(metabolites_select)),\n",
    "    y_loc = 0.1 * (1:length(metabolites_select)) + 1\n",
    ")\n",
    "# data_text\n",
    "ggplot() +\n",
    "    geom_point(data = data_plot,aes(x = rank_x,y = log2FC,size = -log10(pvalue),color = cat)) +\n",
    "    geom_point(data = data_plot[data_plot$cat == 'Down',],aes(x = rank_x,y = log2FC,size = -log10(pvalue),color = cat)) +\n",
    "    geom_point(data = data_plot[data_plot$cat == 'Up',],aes(x = rank_x,y = log2FC,size = -log10(pvalue),color = cat)) +\n",
    "    geom_text(\n",
    "        data = data_text_down,\n",
    "        mapping = aes(x = x_loc, y = y_loc, label = metabolites_select),\n",
    "        size = 8,hjust =0,color = '#2B5C8A'\n",
    "    ) +\n",
    "    geom_text(\n",
    "        data = data_text_up,\n",
    "        mapping = aes(x = x_loc, y = y_loc, label = metabolites_select),\n",
    "        size = 8,hjust =0,color = '#A94322'\n",
    "    ) +\n",
    "    guides(color = guide_legend(title = 'Category',override.aes = list(size = 8)),size = guide_legend(title = '-Log10(P.value)')) +\n",
    "    scale_color_manual(values = c('#2B5C8A','#BABDBC','#A94322')) +\n",
    "    labs(x = 'Rank',y = 'Weekly log2 Fold Change') +\n",
    "    theme_classic() +\n",
    "    theme(\n",
    "        axis.text = element_text(size = 20),\n",
    "        axis.text.y = element_text(angle = 90,hjust = 0.5,vjust = 0.5),\n",
    "        axis.title = element_text(size = 24,hjust = 0.5,vjust = 1),\n",
    "        legend.position = c(0.2,0.95),legend.box = \"horizontal\",\n",
    "        legend.title = element_text(size = 24),\n",
    "        legend.text = element_text(size = 20)\n",
    "    )"
   ]
  }
 ],
 "metadata": {
  "kernelspec": {
   "display_name": "R 4.4",
   "language": "R",
   "name": "ir44"
  },
  "language_info": {
   "codemirror_mode": "r",
   "file_extension": ".r",
   "mimetype": "text/x-r-source",
   "name": "R",
   "pygments_lexer": "r",
   "version": "4.4.1"
  }
 },
 "nbformat": 4,
 "nbformat_minor": 5
}
