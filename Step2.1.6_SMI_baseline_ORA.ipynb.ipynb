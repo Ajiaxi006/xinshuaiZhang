{
 "cells": [
  {
   "cell_type": "markdown",
   "id": "42b54a87-7cf3-4888-8116-df20b4e7bab7",
   "metadata": {},
   "source": [
    "# Step2按照不同队列间进行比较"
   ]
  },
  {
   "cell_type": "code",
   "execution_count": null,
   "id": "7a0e3e6d-8387-4a0d-af6a-501f82c3644c",
   "metadata": {},
   "outputs": [],
   "source": [
    "library(ropls)\n",
    "library(ggsci)\n",
    "library(Cairo)\n",
    "library(tidyverse)\n",
    "library(malbacR)\n",
    "library(pmartR)\n",
    "library(ggplot2)\n",
    "library(dplyr)\n",
    "library(tibble)\n",
    "library(tidyr)\n",
    "library(paletteer)\n",
    "library(extrafont)\n",
    "library(ggpubr)\n",
    "library(eulerr)\n",
    "my36colors <-c(\n",
    "  \"#1f77b4\",\"#d62728\",\"#ff7f0e\",\"#2ca02c\",\"#9467bd\",\"#8c564b\",\n",
    "  \"#e377c2\",\"#7f7f7f\",\"#17becf\",\"#aec7e8\",\"#ffbb78\",\n",
    "  \"#98df8a\",\"#ff9896\",\"#c5b0d5\",\"#c49c94\",\"#f7b6d2\",\"#c7c7c7\",\n",
    "  \"#dbdb8d\",\"#9edae5\",\"#7698b3\",\"#d6616b\",\"#a55194\",\"#ce6dbd\",\n",
    "  \"#756bb1\",\"#8c6d31\",\"#b5cf6b\",\"#7b4173\",\"#cedb9c\",\"#6b6ecf\",\n",
    "  \"#9c9ede\",\"#bd9e39\",\"#d9d9d9\",\"#ad494a\",\"#8ca252\",\"#e7ba52\"\n",
    ") "
   ]
  },
  {
   "cell_type": "code",
   "execution_count": null,
   "id": "c6734b65-6131-4074-a2a4-5e4ae9be560d",
   "metadata": {},
   "outputs": [],
   "source": [
    "group_standard <- 'SMI'\n",
    "save_file_prex <- 'wilcox_SMI_group1'\n",
    "group_cohort <- 'Validation Cohort'"
   ]
  },
  {
   "cell_type": "code",
   "execution_count": null,
   "id": "c236b202-430a-444a-a4f0-46c02b6240c1",
   "metadata": {},
   "outputs": [],
   "source": [
    "path_save <- paste(\n",
    "    '/mnt/data3/data_exp_0826/result/pathway_wilcox_',group_standard,\n",
    "    '_group1/',sep = ''\n",
    ")\n",
    "dir.create(path_save,showWarnings = FALSE)\n",
    "path_save"
   ]
  },
  {
   "cell_type": "markdown",
   "id": "f20858d3-6fd7-4fbd-9ed2-2723506d636d",
   "metadata": {},
   "source": [
    "#### 发现队列中基线和验证队列基线计算到的差异代谢物"
   ]
  },
  {
   "cell_type": "code",
   "execution_count": null,
   "id": "ae0e1d04-df4a-4a63-a03d-1fafc2087c10",
   "metadata": {},
   "outputs": [],
   "source": [
    "file_path <- paste(\n",
    "    '/mnt/data3/data_exp_0826/result/Development_Cohort_wilcox_',group_standard,\n",
    "    '_group1/df_res_baseline_sarcopenia vs non-sarcopenia_raw.csv',sep = ''\n",
    ")\n",
    "data_smi_develop <- read.csv(\n",
    "    file_path,\n",
    "    row.names = 1) %>% \n",
    "    mutate(\n",
    "        cat = case_when(\n",
    "            vip > 1 & log2FC >= log2(1.2) & pvalue < 0.05 ~ 'Up',\n",
    "            vip > 1 & log2FC < log2(1/1.2) & pvalue < 0.05 ~ 'Down',\n",
    "            vip > 1 & pvalue > 0.05~ 'vip_sig but p_value_NS',\n",
    "            TRUE ~ 'NS'\n",
    "        ),\n",
    "        cat = factor(cat,levels = c('Up','Down','vip_sig but p_value_NS','NS'))\n",
    "    )\n",
    "data_smi_develop %>% head()"
   ]
  },
  {
   "cell_type": "code",
   "execution_count": null,
   "id": "ac9589e6-c8fd-4d0c-ae22-9bcc75454728",
   "metadata": {},
   "outputs": [],
   "source": [
    "file_path <- paste(\n",
    "    '/mnt/data3/data_exp_0826/result/Validation_Cohort_wilcox_',group_standard,\n",
    "    '_group1/df_res_baseline_sarcopenia vs non-sarcopenia_raw.csv',sep = ''\n",
    ")\n",
    "data_smi_validation <- read.csv(\n",
    "    file_path,\n",
    "    row.names = 1) %>% \n",
    "    mutate(\n",
    "        cat = case_when(\n",
    "            vip > 1 & log2FC >= log2(1.2) & pvalue < 0.05 ~ 'Up',\n",
    "            vip > 1 & log2FC < log2(1/1.2) & pvalue < 0.05 ~ 'Down',\n",
    "            vip > 1 & pvalue > 0.05~ 'vip_sig but p_value_NS',\n",
    "            TRUE ~ 'NS'\n",
    "        ),\n",
    "        cat = factor(cat,levels = c('Up','Down','vip_sig but p_value_NS','NS'))\n",
    "    )\n",
    "data_smi_validation %>% head()"
   ]
  },
  {
   "cell_type": "code",
   "execution_count": null,
   "id": "c5d4461d-08d2-4c8c-ad97-d5b579dbc249",
   "metadata": {},
   "outputs": [],
   "source": [
    "level_set <- data_smi_develop$level %>% unique()\n",
    "level_set"
   ]
  },
  {
   "cell_type": "markdown",
   "id": "7b78e474-fd93-486c-ac18-b47ed7697111",
   "metadata": {},
   "source": [
    "#### sarcopenia"
   ]
  },
  {
   "cell_type": "code",
   "execution_count": null,
   "id": "0abadd01-12fc-48e1-8686-d2f9ccac4eb6",
   "metadata": {},
   "outputs": [],
   "source": [
    "cat_use <- 'Up'\n",
    "data_smi_develop_sub <- data_smi_develop %>% \n",
    "    filter(cat == cat_use) %>% #,level == level_use\n",
    "    select(c('metabolites','log2FC','pvalue','vip')) %>% \n",
    "    rename_with(~ paste0(., \"_develop\"), -metabolites)\n",
    "data_smi_validation_sub <- data_smi_validation %>% \n",
    "    filter(cat == cat_use) %>% #,level == level_use\n",
    "    select(c('metabolites','level','log2FC','pvalue','cat','vip')) %>% \n",
    "    arrange(level,desc(abs(log2FC))) %>% \n",
    "    rename_with(~ paste0(., \"_validation\"), -c('metabolites','level','cat'))\n",
    "data_plot <- list(\n",
    "  `Developmental Cohort` = data_smi_develop_sub$metabolites %>% unique(),\n",
    "  `Validation Cohort` = data_smi_validation_sub$metabolites %>% unique()\n",
    ")"
   ]
  },
  {
   "cell_type": "code",
   "execution_count": null,
   "id": "dfc7435e-79cc-46de-9db0-a5abc800923a",
   "metadata": {},
   "outputs": [],
   "source": [
    "options(repr.plot.width = 15, repr.plot.height = 15)\n",
    "par(mar = c(5, 100, 4, 2))  # c(下, 左, 上, 右)，第二个值是左侧边距\n",
    "p_venn <- plot(\n",
    "  euler(data_plot,shape = \"ellipse\"),\n",
    "  quantities = list(\n",
    "    type = c(\"percent\", \"counts\"),\n",
    "    col = \"black\",\n",
    "    font = 2,\n",
    "    cex = 2\n",
    "  ),\n",
    "  # fills = list(fill = my3color),\n",
    "  labels = list(\n",
    "    labels = names(data_plot) %>% str_remove(' Cohort'),\n",
    "    col = \"black\",\n",
    "    font = 3,\n",
    "    cex = 3\n",
    "  ),\n",
    "  edges = list(col = my36colors, lwd = 5, lty = 1),\n",
    "  main = list(label=c(\n",
    "      paste(\"Highly Expressed in \",group_standard,'-sarcopenia[baseline]',sep = '')\n",
    "  ),cex=3),\n",
    "  legend = list(\n",
    "    labels = names(data_plot),\n",
    "    font = 1,\n",
    "    cex = 2,\n",
    "    side = \"right\",\n",
    "    # x = 10,\n",
    "    x = 150,     # 调整x位置\n",
    "    y = 3\n",
    "  )\n",
    ")\n",
    "p_venn"
   ]
  },
  {
   "cell_type": "code",
   "execution_count": null,
   "id": "39e23140-8ebe-4502-89d3-c1ebdd99d20b",
   "metadata": {},
   "outputs": [],
   "source": [
    "cat_use <- 'Up'\n",
    "data_smi_develop_sub <- data_smi_develop %>% \n",
    "    filter(cat == cat_use) %>% #,level == level_use\n",
    "    select(c('metabolites','log2FC','pvalue','vip')) %>% \n",
    "    rename_with(~ paste0(., \"_develop\"), -metabolites)\n",
    "data_smi_validation_sub <- data_smi_validation %>% \n",
    "    filter(cat == cat_use) %>% #,level == level_use\n",
    "    select(c('metabolites','level','log2FC','pvalue','cat','vip')) %>% \n",
    "    arrange(level,desc(abs(log2FC))) %>% \n",
    "    rename_with(~ paste0(., \"_validation\"), -c('metabolites','level','cat'))\n",
    "data_res_up <- data_smi_validation_sub %>% \n",
    "    left_join(data_smi_develop_sub,by = 'metabolites') %>% \n",
    "    filter(!is.na(log2FC_develop)) %>% \n",
    "    select(c('metabolites','level','cat','log2FC_validation','pvalue_validation','vip_validation','log2FC_develop','pvalue_develop','vip_develop'))\n",
    "data_res_up"
   ]
  },
  {
   "cell_type": "code",
   "execution_count": null,
   "id": "ae8fe971-15d8-467d-8bc2-edb55ef5abca",
   "metadata": {},
   "outputs": [],
   "source": [
    "data_res_up$metabolites"
   ]
  },
  {
   "cell_type": "markdown",
   "id": "81a070c2-752e-45e6-bc61-730750ba5a38",
   "metadata": {},
   "source": [
    "#### non-sarcopenia"
   ]
  },
  {
   "cell_type": "code",
   "execution_count": null,
   "id": "adfaab76-0a31-4665-a511-be42104cdeb2",
   "metadata": {},
   "outputs": [],
   "source": [
    "cat_use <- 'Down'\n",
    "data_smi_develop_sub <- data_smi_develop %>% \n",
    "    filter(cat == cat_use) %>% #,level == level_use\n",
    "    select(c('metabolites','log2FC','pvalue','vip')) %>% \n",
    "    rename_with(~ paste0(., \"_develop\"), -metabolites)\n",
    "data_smi_validation_sub <- data_smi_validation %>% \n",
    "    filter(cat == cat_use) %>% #,level == level_use\n",
    "    select(c('metabolites','level','log2FC','pvalue','cat','vip')) %>% \n",
    "    arrange(level,desc(abs(log2FC))) %>% \n",
    "    rename_with(~ paste0(., \"_validation\"), -c('metabolites','level','cat'))\n",
    "data_plot <- list(\n",
    "  `Developmental Cohort` = data_smi_develop_sub$metabolites %>% unique(),\n",
    "  `Validation Cohort` = data_smi_validation_sub$metabolites %>% unique()\n",
    ")"
   ]
  },
  {
   "cell_type": "code",
   "execution_count": null,
   "id": "4e52203a-c836-443f-9009-4a38a8708cca",
   "metadata": {},
   "outputs": [],
   "source": [
    "options(repr.plot.width = 15, repr.plot.height = 15)\n",
    "par(mar = c(5, 100, 4, 2))  # c(下, 左, 上, 右)，第二个值是左侧边距\n",
    "p_venn <- plot(\n",
    "  euler(data_plot,shape = \"ellipse\"),\n",
    "  quantities = list(\n",
    "    type = c(\"percent\", \"counts\"),\n",
    "    col = \"black\",\n",
    "    font = 2,\n",
    "    cex = 2\n",
    "  ),\n",
    "  # fills = list(fill = my3color),\n",
    "  labels = list(\n",
    "    labels = names(data_plot) %>% str_remove(' Cohort'),\n",
    "    col = \"black\",\n",
    "    font = 3,\n",
    "    cex = 3\n",
    "  ),\n",
    "  edges = list(col = my36colors, lwd = 5, lty = 1),\n",
    "  main = list(label=c(\n",
    "   paste(\"Highly Expressed in \",group_standard,'-non-sarcopenia[baseline]',sep = '')   \n",
    "  ),cex=3),\n",
    "  legend = list(\n",
    "    labels = names(data_plot),\n",
    "    font = 1,\n",
    "    cex = 2,\n",
    "    side = \"right\",\n",
    "    # x = 10,\n",
    "    x = 150,     # 调整x位置\n",
    "    y = 3\n",
    "  )\n",
    ")\n",
    "p_venn"
   ]
  },
  {
   "cell_type": "code",
   "execution_count": null,
   "id": "1244403f-2f90-4d0e-95b1-a74f93f671c9",
   "metadata": {},
   "outputs": [],
   "source": [
    "cat_use <- 'Down'\n",
    "data_smi_develop_sub <- data_smi_develop %>% \n",
    "    filter(cat == cat_use) %>% #,level == level_use\n",
    "    select(c('metabolites','log2FC','pvalue','vip')) %>% \n",
    "    rename_with(~ paste0(., \"_develop\"), -metabolites)\n",
    "data_smi_validation_sub <- data_smi_validation %>% \n",
    "    filter(cat == cat_use) %>% #,level == level_use\n",
    "    select(c('metabolites','level','log2FC','pvalue','cat','vip')) %>% \n",
    "    arrange(level,desc(abs(log2FC))) %>% \n",
    "    rename_with(~ paste0(., \"_validation\"), -c('metabolites','level','cat'))\n",
    "# data_smi_change_up %>% head()\n",
    "data_res_down <- data_smi_validation_sub %>% \n",
    "    left_join(data_smi_develop_sub,by = 'metabolites') %>% \n",
    "    filter(!is.na(log2FC_develop)) %>% \n",
    "    select(c('metabolites','level','cat','log2FC_validation','pvalue_validation','vip_validation','log2FC_develop','pvalue_develop','vip_develop'))\n",
    "data_res_down"
   ]
  },
  {
   "cell_type": "code",
   "execution_count": null,
   "id": "65e4e8c9-7f5e-40a5-8fbd-3d1a8a72288d",
   "metadata": {},
   "outputs": [],
   "source": [
    ".on.public.web = FALSE\n",
    "CalculateHyperScore_self <- function (mSetObj = NA) {\n",
    "    mSetObj <- MetaboAnalystR:::.get.mSet(mSetObj)\n",
    "    if (mSetObj$analSet$type == \"msetssp\") {\n",
    "        ora.vec <- mSetObj$dataSet$cmpd\n",
    "    }else {\n",
    "        nm.map <- GetFinalNameMap(mSetObj)\n",
    "        valid.inx <- !(is.na(nm.map$hmdb) | duplicated(nm.map$hmdb))\n",
    "        ora.vec <- nm.map$hmdb[valid.inx]\n",
    "    }\n",
    "    q.size <- length(ora.vec)\n",
    "    if (all(is.na(ora.vec)) || q.size == 0) {\n",
    "        AddErrMsg(\"No valid HMDB compound names found!\")\n",
    "        return(0)\n",
    "    }\n",
    "    if (!.on.public.web & grepl(\"kegg\", mSetObj$analSet$msetlibname)) {\n",
    "        if (!exists(\"my.hyperscore.kegg\")) {\n",
    "            .load.scripts.on.demand(\"util_api.Rc\")\n",
    "        }\n",
    "        mSetObj$api$oraVec <- ora.vec\n",
    "        if (mSetObj$api$filter) {\n",
    "            mSetObj$api$filterData <- mSetObj$dataSet$metabo.filter.kegg\n",
    "            toSend <- list(mSet = mSetObj, libNm = mSetObj$api$libname, \n",
    "                filter = mSetObj$api$filter, oraVec = mSetObj$api$oraVec, \n",
    "                filterData = mSetObj$api$filterData, excludeNum = mSetObj$api$excludeNum)\n",
    "        }else {\n",
    "            toSend <- list(mSet = mSetObj, libNm = mSetObj$api$libname, \n",
    "                filter = mSetObj$api$filter, oraVec = mSetObj$api$oraVec, \n",
    "                excludeNum = mSetObj$api$excludeNum)\n",
    "        }\n",
    "        saveRDS(toSend, \"tosend.rds\")\n",
    "        return(my.hyperscore.kegg())\n",
    "    }\n",
    "    current.mset <- current.msetlib$member\n",
    "    if (mSetObj$dataSet$use.metabo.filter && !is.null(mSetObj$dataSet$metabo.filter.hmdb)) {\n",
    "        current.mset <- lapply(current.mset, function(x) {\n",
    "            x[x %in% mSetObj$dataSet$metabo.filter.hmdb]\n",
    "        })\n",
    "        mSetObj$dataSet$filtered.mset <- current.mset\n",
    "    }\n",
    "    set.size <- length(current.mset)\n",
    "    if (set.size == 1) {\n",
    "        AddErrMsg(\"Cannot perform enrichment analysis on a single metabolite set!\")\n",
    "        return(0)\n",
    "    }\n",
    "    my.univ <- unique(unlist(current.mset, use.names = FALSE))\n",
    "    if (!is.null(mSetObj$dataSet$metabo.filter.hmdb)) {\n",
    "        my.univ <- unique(mSetObj$dataSet$metabo.filter.hmdb)\n",
    "    }\n",
    "    uniq.count <- length(my.univ)\n",
    "    ora.vec <- ora.vec[ora.vec %in% my.univ]\n",
    "    q.size <- length(ora.vec)\n",
    "    hits <- lapply(current.mset, function(x) {\n",
    "        x[x %in% ora.vec]\n",
    "    })\n",
    "    hit.num <- unlist(lapply(hits, function(x) length(x)), use.names = FALSE)\n",
    "    if (sum(hit.num > 0) == 0) {\n",
    "        AddErrMsg(\"No match was found to the selected metabolite set library!\")\n",
    "        return(0)\n",
    "    }\n",
    "    set.num <- unlist(lapply(current.mset, length), use.names = FALSE)\n",
    "    res.mat <- matrix(NA, nrow = set.size, ncol = 6)\n",
    "    rownames(res.mat) <- names(current.mset)\n",
    "    colnames(res.mat) <- c(\"total\", \"expected\", \"hits\", \"Raw p\", \n",
    "        \"Holm p\", \"FDR\")\n",
    "    for (i in 1:set.size) {\n",
    "        res.mat[i, 1] <- set.num[i]\n",
    "        res.mat[i, 2] <- q.size * (set.num[i]/uniq.count)\n",
    "        res.mat[i, 3] <- hit.num[i]\n",
    "        res.mat[i, 4] <- phyper(hit.num[i] - 1, set.num[i], uniq.count - \n",
    "            set.num[i], q.size, lower.tail = F)\n",
    "    }\n",
    "    res.mat[, 5] <- p.adjust(res.mat[, 4], \"holm\")\n",
    "    res.mat[, 6] <- p.adjust(res.mat[, 4], \"fdr\")\n",
    "    res.mat <- res.mat %>% as.data.frame() %>% filter(hits > 0) %>% arrange(desc(names(.)[4]))\n",
    "    # res.mat <- res.mat[hit.num > 0, ]\n",
    "    ord.inx <- order(res.mat[, 4])\n",
    "    mSetObj$analSet$ora.mat <- signif(res.mat[ord.inx, ], 3)\n",
    "    mSetObj$analSet$ora.hits <- hits\n",
    "    MetaboAnalystR:::fast.write.csv(mSetObj$analSet$ora.mat, file = \"msea_ora_result.csv\")\n",
    "    return(MetaboAnalystR:::.set.mSet(mSetObj))\n",
    "}\n",
    "func_metaboanalisys <- function (tmp.vec, pb_use = \"smpdb_pathway\", p_use = \"Raw p\") {\n",
    "    library(MetaboAnalystR)\n",
    "    mSet <- InitDataObjects(\"conc\", \"msetora\", FALSE)\n",
    "    mSet <- Setup.MapData(mSet, tmp.vec)\n",
    "    mSet <- CrossReferencing(mSet, \"name\")\n",
    "    mSet$name.map\n",
    "    mSet <- CreateMappingResultTable(mSet)\n",
    "    if (!grepl(\"kegg\", pb_use, ignore.case = TRUE)) {\n",
    "        mSet <- SetMetabolomeFilter(mSet, F)\n",
    "        data_res <- SetCurrentMsetLib(mSet, pb_use, 0)\n",
    "        data_res <- CalculateHyperScore_self(data_res)\n",
    "        mSetObj <- data_res\n",
    "        res_metabolites <- lapply(1:length(mSetObj$analSet$ora.hits),FUN = function(x){\n",
    "            if(length(mSetObj$analSet$ora.hits[[x]])>0){\n",
    "                metabolites_all <- mSetObj$analSet$ora.hits[[x]]\n",
    "                pathwayname <- mSetObj$analSet$ora.hits[x] %>% names()\n",
    "                tmp <- data.frame(\n",
    "                    pathwayname = pathwayname,\n",
    "                    metabolites_all = paste(metabolites_all,collapse = ';')\n",
    "                )\n",
    "                return(tmp)\n",
    "            }\n",
    "        }) %>% Filter(Negate(is.null), .) %>% \n",
    "            do.call(rbind,.)\n",
    "        folds <- mSetObj$analSet$ora.mat[, 3]/mSetObj$analSet$ora.mat[,2]\n",
    "        names(folds) <- MetaboAnalystR:::GetShortNames(rownames(mSetObj$analSet$ora.mat))\n",
    "        pvals <- mSetObj$analSet$ora.mat[, 4]\n",
    "        data_plot <- data.frame(pathway = folds %>% names() %>% \n",
    "            as.factor(), enrichment_ratio = folds %>% as.numeric(), \n",
    "            hits = mSetObj$analSet$ora.mat[, 3], pvalue = pvals) %>% \n",
    "            arrange(enrichment_ratio) %>% mutate(pathway = pathway %>% \n",
    "            factor(levels = pathway %>% unique()), pvalue = -log10(pvalue))\n",
    "        data_plot %>% head()\n",
    "        value_min <- data_plot[[ncol(data_plot)]] %>% min() %>% \n",
    "            {\n",
    "                . * 100\n",
    "            } %>% ceiling() %>% {\n",
    "            ./100\n",
    "        }\n",
    "        value_max <- data_plot[[ncol(data_plot)]] %>% max() %>% \n",
    "            {\n",
    "                . * 100\n",
    "            } %>% floor() %>% {\n",
    "            ./100\n",
    "        }\n",
    "        value_middle <- (value_min + (value_max - value_min)/2) %>% \n",
    "            round(., digits = 1)\n",
    "        plot_res <- ggplot(data = data_plot, aes(x = enrichment_ratio, \n",
    "            y = pathway, fill = .data[[names(data_plot)[ncol(data_plot)]]])) + \n",
    "            geom_bar(stat = \"identity\") + geom_text(aes(x = enrichment_ratio + \n",
    "            max(enrichment_ratio) * 0.05, label = hits), size = 10, \n",
    "            hjust = 1) + geom_text(data = data_plot[data_plot$pvalue > \n",
    "            (-log10(0.05)), ], aes(x = enrichment_ratio + max(enrichment_ratio) * \n",
    "            0.05, label = hits), color = \"red\", size = 10, hjust = 1) + \n",
    "            scale_x_continuous(expand = c(0.01, 0)) + scale_fill_gradient2(low = \"white\", \n",
    "            mid = \"#AAC0CF\", high = \"#2B5C8A\", breaks = c(value_min, \n",
    "                value_middle, value_max)) + labs(fill = \"-Log10(Pvalue)\") + \n",
    "            theme_classic() + theme(plot.margin = margin(l = 10), \n",
    "            axis.text = element_text(size = 20), axis.text.y = element_text(size = 30, \n",
    "                angle = 0, hjust = 1, vjust = 0.5), axis.title = element_text(size = 24, \n",
    "                hjust = 0.5, vjust = 1), axis.title.y = element_blank(), \n",
    "            legend.position = \"right\", legend.title = element_text(size = 24, \n",
    "                margin = margin(b = 20)), legend.text = element_text(size = 20), \n",
    "            )\n",
    "    }\n",
    "    else {\n",
    "        mSet <- InitDataObjects(\"conc\", \"msetora\", FALSE)\n",
    "        mSet <- Setup.MapData(mSet, tmp.vec)\n",
    "        mSet <- CrossReferencing(mSet, \"name\")\n",
    "        mSet <- CreateMappingResultTable(mSet)\n",
    "        mSet <- SetMetabolomeFilter(mSet, F)\n",
    "        nm.map <- GetFinalNameMap(mSet)\n",
    "        valid.inx <- !(is.na(nm.map$hmdb) | duplicated(nm.map$hmdb))\n",
    "        ora.vec <- nm.map$hmdb[valid.inx]\n",
    "        q.size <- length(ora.vec)\n",
    "        if (all(is.na(ora.vec)) || q.size == 0) {\n",
    "            AddErrMsg(\"No valid HMDB compound names found!\")\n",
    "            return(0)\n",
    "        }\n",
    "        list_kegg_all <- readRDS(\"/mnt/data/jupyter_code/代谢组学/全谱代谢组分析/list_kegg_all.rds\")\n",
    "        current.mset <- list_kegg_all\n",
    "        set.size <- length(current.mset)\n",
    "        if (set.size == 1) {\n",
    "            AddErrMsg(\"Cannot perform enrichment analysis on a single metabolite set!\")\n",
    "            return(0)\n",
    "        }\n",
    "        set.size <- length(current.mset)\n",
    "        if (set.size == 1) {\n",
    "            AddErrMsg(\"Cannot perform enrichment analysis on a single metabolite set!\")\n",
    "            return(0)\n",
    "        }\n",
    "        my.univ <- unique(unlist(current.mset, use.names = FALSE))\n",
    "        if (!is.null(mSet$dataSet$metabo.filter.hmdb)) {\n",
    "            my.univ <- unique(mSet$dataSet$metabo.filter.hmdb)\n",
    "        }\n",
    "        uniq.count <- length(my.univ)\n",
    "        ora.vec <- ora.vec[ora.vec %in% my.univ]\n",
    "        q.size <- length(ora.vec)\n",
    "        hits <- lapply(current.mset, function(x) {\n",
    "            x[x %in% ora.vec]\n",
    "        })\n",
    "        #比对的分子导出\n",
    "        res_metabolites <- lapply(1:length(hits),FUN = function(x){\n",
    "            if(length(hits[[x]])>0){\n",
    "                metabolites_all <- hits[[x]]\n",
    "                pathwayname <- hits[x] %>% names()\n",
    "                tmp <- data.frame(\n",
    "                    pathwayname = pathwayname,\n",
    "                    metabolites_all = paste(metabolites_all,collapse = ';')\n",
    "                )\n",
    "                return(tmp)\n",
    "            }\n",
    "        }) %>% Filter(Negate(is.null), .) %>% \n",
    "            do.call(rbind,.)\n",
    "        hit.num <- unlist(lapply(hits, function(x) length(x)), \n",
    "            use.names = FALSE)\n",
    "        if (sum(hit.num > 0) == 0) {\n",
    "            AddErrMsg(\"No match was found to the selected metabolite set library!\")\n",
    "            return(0)\n",
    "        }\n",
    "        set.num <- unlist(lapply(current.mset, length), use.names = FALSE)\n",
    "        res.mat <- matrix(NA, nrow = set.size, ncol = 6)\n",
    "        rownames(res.mat) <- names(current.mset)\n",
    "        colnames(res.mat) <- c(\"total\", \"expected\", \"hits\", \"Raw p\", \n",
    "            \"Holm p\", \"FDR\")\n",
    "        for (i in 1:set.size) {\n",
    "            res.mat[i, 1] <- set.num[i]\n",
    "            res.mat[i, 2] <- q.size * (set.num[i]/uniq.count)\n",
    "            res.mat[i, 3] <- hit.num[i]\n",
    "            res.mat[i, 4] <- phyper(hit.num[i] - 1, set.num[i], \n",
    "                uniq.count - set.num[i], q.size, lower.tail = F)\n",
    "        }\n",
    "        res.mat[, 5] <- p.adjust(res.mat[, 4], \"holm\")\n",
    "        res.mat[, 6] <- p.adjust(res.mat[, 4], \"fdr\")\n",
    "        res.mat <- res.mat %>% as.data.frame() %>% filter(hits > \n",
    "            0) %>% arrange(desc(names(.)[4]))\n",
    "        p_label <- ifelse(p_use == \"Raw p\", \"Pvalue\", \"P.adj\")\n",
    "        data_plot <- signif(res.mat, 3) %>% as.data.frame() %>% \n",
    "            mutate(enrichment_ratio = hits/expected) %>% rownames_to_column(\"pathway\") %>% \n",
    "            arrange(enrichment_ratio) %>% mutate(pathway = pathway %>% \n",
    "            str_remove_all(\" - Homo sapiens \\\\(human\\\\)\"), pathway = factor(pathway, \n",
    "            levels = pathway %>% unique()), `:=`(!!paste0(\"-log10(\", \n",
    "            p_label, \")\"), -log10(!!sym(p_use))))\n",
    "        value_min <- data_plot[[ncol(data_plot)]] %>% min() %>% \n",
    "            {\n",
    "                . * 100\n",
    "            } %>% ceiling() %>% {\n",
    "            ./100\n",
    "        }\n",
    "        value_max <- data_plot[[ncol(data_plot)]] %>% max() %>% \n",
    "            {\n",
    "                . * 100\n",
    "            } %>% floor() %>% {\n",
    "            ./100\n",
    "        }\n",
    "        value_middle <- (value_min + (value_max - value_min)/2) %>% \n",
    "            round(., digits = 1)\n",
    "        plot_res <- ggplot(data = data_plot, aes(x = enrichment_ratio, \n",
    "            y = pathway, fill = .data[[names(data_plot)[ncol(data_plot)]]])) + \n",
    "            geom_bar(stat = \"identity\") + geom_text(aes(x = enrichment_ratio + \n",
    "            max(enrichment_ratio) * 0.05, label = hits), size = 10, \n",
    "            hjust = 1) + geom_text(data = data_plot[data_plot[[names(data_plot)[ncol(data_plot)]]] > \n",
    "            (-log10(0.05)), ], aes(x = enrichment_ratio + max(enrichment_ratio) * \n",
    "            0.05, label = hits), color = \"red\", size = 10, hjust = 1) + \n",
    "            scale_x_continuous(expand = c(0.01, 0)) + scale_fill_gradient2(low = \"white\", \n",
    "            mid = \"#AAC0CF\", high = \"#2B5C8A\", breaks = c(value_min, \n",
    "                value_middle, value_max)) + labs(fill = \"-Log10(P.adj)\") + \n",
    "            theme_classic() + theme(plot.margin = margin(l = 10), \n",
    "            axis.text = element_text(size = 20), axis.text.y = element_text(size = 30, \n",
    "                angle = 0, hjust = 1, vjust = 0.5), axis.title = element_text(size = 24, \n",
    "                hjust = 0.5, vjust = 1), axis.title.y = element_blank(), \n",
    "            legend.position = \"right\", legend.title = element_text(size = 24, \n",
    "                margin = margin(b = 20)), legend.text = element_text(size = 20), \n",
    "            )\n",
    "    }\n",
    "    return(list(plot = plot_res, data = data_plot,pathway_metabolites = res_metabolites))\n",
    "}"
   ]
  },
  {
   "cell_type": "code",
   "execution_count": null,
   "id": "19f66950-d597-42cd-8e39-80dc64a4ae37",
   "metadata": {},
   "outputs": [],
   "source": [
    "file_path <- paste(\n",
    "    '/mnt/data3/data_exp_0826/result/Validation_Cohort_wilcox_',group_standard,\n",
    "    '_group1/df_res_baseline_sarcopenia vs non-sarcopenia_raw.csv',sep = ''\n",
    ")\n",
    "df_res_Validation  <- read.csv(file_path,row.names = 1) %>% \n",
    "    mutate(\n",
    "        cat = case_when(\n",
    "            vip > 1 & log2FC >= log2(1.2) & pvalue < 0.05 ~ 'Up',\n",
    "            vip > 1 & log2FC < log2(1/1.2) & pvalue < 0.05 ~ 'Down',\n",
    "            vip > 1 & pvalue > 0.05 ~ 'vip_sig but p_value_NS',\n",
    "            TRUE ~ 'NS'\n",
    "        ),\n",
    "        cat = factor(cat,levels = c('Up','Down','vip_sig but p_value_NS','NS'))\n",
    "    ) %>% \n",
    "    arrange(cat,desc(log2FC)) %>% \n",
    "    as.data.frame()\n",
    "file_path <- paste(\n",
    "    '/mnt/data3/data_exp_0826/result/Development_Cohort_wilcox_',group_standard,\n",
    "    '_group1/df_res_baseline_sarcopenia vs non-sarcopenia_raw.csv',sep = ''\n",
    ")\n",
    "df_res_developmental  <- read.csv(file_path,row.names = 1) %>% \n",
    "    mutate(\n",
    "        cat = case_when(\n",
    "            vip > 1 & log2FC >= log2(1.2) & pvalue < 0.05 ~ 'Up',\n",
    "            vip > 1 & log2FC < log2(1/1.2) & pvalue < 0.05 ~ 'Down',\n",
    "            vip > 1 & pvalue > 0.05 ~ 'vip_sig but p_value_NS',\n",
    "            TRUE ~ 'NS'\n",
    "        ),\n",
    "        cat = factor(cat,levels = c('Up','Down','vip_sig but p_value_NS','NS'))\n",
    "    ) %>% \n",
    "    arrange(cat,desc(log2FC)) %>% \n",
    "    as.data.frame()"
   ]
  },
  {
   "cell_type": "code",
   "execution_count": null,
   "id": "909d4177-8c2a-45f3-8a24-fc6cbf7a58b5",
   "metadata": {},
   "outputs": [],
   "source": [
    "up_validation <- df_res_Validation %>% \n",
    "    filter(cat == 'Up') %>% \n",
    "    pull(metabolites)\n",
    "up_validation %>% length()\n",
    "up_developmental <- df_res_developmental %>% \n",
    "    filter(cat == 'Up') %>% \n",
    "    pull(metabolites)\n",
    "up_developmental %>% length()"
   ]
  },
  {
   "cell_type": "code",
   "execution_count": null,
   "id": "1a7d6aac-0fae-43df-9ac7-441218f85735",
   "metadata": {},
   "outputs": [],
   "source": [
    "metabolites_select <- up_developmental"
   ]
  },
  {
   "cell_type": "code",
   "execution_count": null,
   "id": "89725a3d-7934-4357-9ab6-86881d3d8fd6",
   "metadata": {},
   "outputs": [],
   "source": [
    "pb_use = 'RaMP_pathway'\n",
    "res_data <- func_metaboanalisys(tmp.vec = metabolites_select,pb_use = pb_use)\n",
    "path_way <- res_data$data %>% \n",
    "    arrange(desc(enrichment_ratio))\n",
    "file_path <- paste(path_save,'sarcopenia_up_developmental_',pb_use,'.csv',sep = '')\n",
    "file_path\n",
    "write.csv(path_way,file_path)\n",
    "pathway_metabolites <- res_data$pathway_metabolites\n",
    "file_path <- paste(path_save,'sarcopenia_up_developmental_',pb_use,'_metabolites','.csv',sep = '')\n",
    "file_path\n",
    "write.csv(pathway_metabolites,file_path)\n",
    "options(repr.plot.width = 16, repr.plot.height = 10)#22\n",
    "res_data$plot"
   ]
  },
  {
   "cell_type": "code",
   "execution_count": null,
   "id": "bbcb9f1e-79e2-4677-99a8-ae6d43882f13",
   "metadata": {},
   "outputs": [],
   "source": [
    "res_data <- func_metaboanalisys(tmp.vec = metabolites_select,pb_use = 'smpdb_pathway')\n",
    "path_way <- res_data$data %>% \n",
    "    arrange(desc(enrichment_ratio))\n",
    "file_path <- paste(path_save,'developmental_','smpdb_pathway','.csv',sep = '')\n",
    "file_path\n",
    "write.csv(path_way,file_path)\n",
    "options(repr.plot.width = 16, repr.plot.height = 10)#22\n",
    "res_data$plot"
   ]
  },
  {
   "cell_type": "code",
   "execution_count": null,
   "id": "bdac99be-e670-4446-9f2d-6c9e5075550b",
   "metadata": {},
   "outputs": [],
   "source": [
    "res_data <- func_metaboanalisys(tmp.vec = metabolites_select,pb_use = 'predicted')\n",
    "options(repr.plot.width = 16, repr.plot.height = 8)#22\n",
    "res_data$plot"
   ]
  },
  {
   "cell_type": "code",
   "execution_count": null,
   "id": "69b76023-15cb-4853-a5bf-b0caada637d5",
   "metadata": {},
   "outputs": [],
   "source": [
    "path_way <- res_data$data %>% \n",
    "    arrange(desc(enrichment_ratio))\n",
    "file_path <- paste(path_save,'developmental_','predicted','.csv',sep = '')\n",
    "file_path\n",
    "write.csv(path_way,file_path)"
   ]
  },
  {
   "cell_type": "code",
   "execution_count": null,
   "id": "e7bc19f2-6da5-405c-bedb-4bfe0fa18060",
   "metadata": {},
   "outputs": [],
   "source": [
    "# res_data <- func_metaboanalisys(tmp.vec = metabolites_select,pb_use = 'blood')\n",
    "# options(repr.plot.width = 16, repr.plot.height = 18)#22\n",
    "# res_data$plot"
   ]
  },
  {
   "cell_type": "code",
   "execution_count": null,
   "id": "7f8b54b3-2e50-4f4d-8aeb-e630093d1f32",
   "metadata": {},
   "outputs": [],
   "source": [
    "# path_way <- res_data$data %>% \n",
    "#     arrange(desc(enrichment_ratio))\n",
    "# file_path <- paste(path_save,'developmental_','blood','.csv',sep = '')\n",
    "# file_path\n",
    "# write.csv(path_way,file_path)"
   ]
  },
  {
   "cell_type": "code",
   "execution_count": null,
   "id": "ed13d355-1470-46b2-a17f-bddc0f760500",
   "metadata": {},
   "outputs": [],
   "source": [
    "res_data <- func_metaboanalisys(tmp.vec = metabolites_select,pb_use = 'kegg')"
   ]
  },
  {
   "cell_type": "code",
   "execution_count": null,
   "id": "97902050-92e0-4b2d-b5eb-0381d349df1a",
   "metadata": {},
   "outputs": [],
   "source": [
    "options(repr.plot.width = 16, repr.plot.height = 10)#22\n",
    "res_data$plot"
   ]
  },
  {
   "cell_type": "code",
   "execution_count": null,
   "id": "6ea4b355-5353-495e-a4d1-01b94b1108bf",
   "metadata": {},
   "outputs": [],
   "source": [
    "path_way <- res_data$data %>% \n",
    "    arrange(desc(enrichment_ratio))\n",
    "file_path <- paste(path_save,'developmental_','kegg','.csv',sep = '')\n",
    "file_path\n",
    "write.csv(path_way,file_path)"
   ]
  },
  {
   "cell_type": "code",
   "execution_count": null,
   "id": "e926b36f-2686-42ac-b2da-c3eb12f8f8e8",
   "metadata": {},
   "outputs": [],
   "source": [
    "metabolites_select <- up_validation"
   ]
  },
  {
   "cell_type": "code",
   "execution_count": null,
   "id": "f2abbd42-80b4-4ada-ac3e-0672b6647c6a",
   "metadata": {
    "scrolled": true
   },
   "outputs": [],
   "source": [
    "pb_use = 'RaMP_pathway'\n",
    "res_data <- func_metaboanalisys(tmp.vec = metabolites_select,pb_use = pb_use)\n",
    "path_way <- res_data$data %>% \n",
    "    arrange(desc(enrichment_ratio))\n",
    "file_path <- paste(path_save,'sarcopenia_up_validation_',pb_use,'.csv',sep = '')\n",
    "file_path\n",
    "write.csv(path_way,file_path)\n",
    "pathway_metabolites <- res_data$pathway_metabolites\n",
    "file_path <- paste(path_save,'sarcopenia_up_validation_',pb_use,'_metabolites','.csv',sep = '')\n",
    "file_path\n",
    "write.csv(pathway_metabolites,file_path)\n",
    "options(repr.plot.width = 16, repr.plot.height = 10)#22\n",
    "res_data$plot"
   ]
  },
  {
   "cell_type": "code",
   "execution_count": null,
   "id": "c06dd00c-02a1-4dad-91cc-b96aa45a1e97",
   "metadata": {},
   "outputs": [],
   "source": [
    "res_data <- func_metaboanalisys(tmp.vec = metabolites_select,pb_use = 'smpdb_pathway')\n",
    "options(repr.plot.width = 16, repr.plot.height = 10)#22\n",
    "res_data$plot"
   ]
  },
  {
   "cell_type": "code",
   "execution_count": null,
   "id": "f51700be-6778-4eb6-ad00-ce94635e25e5",
   "metadata": {},
   "outputs": [],
   "source": [
    "path_way <- res_data$data %>% \n",
    "    arrange(desc(enrichment_ratio))\n",
    "file_path <- paste(path_save,'validation_','smpdb_pathway','.csv',sep = '')\n",
    "file_path\n",
    "write.csv(path_way,file_path)"
   ]
  },
  {
   "cell_type": "code",
   "execution_count": null,
   "id": "9e2e70e4-5a9e-4d71-a96f-a9fcd2e55e18",
   "metadata": {},
   "outputs": [],
   "source": [
    "res_data <- func_metaboanalisys(tmp.vec = metabolites_select,pb_use = 'predicted')\n",
    "options(repr.plot.width = 16, repr.plot.height = 18)#22\n",
    "res_data$plot"
   ]
  },
  {
   "cell_type": "code",
   "execution_count": null,
   "id": "4d5a4455-aadd-432a-a27b-e6626d6411b1",
   "metadata": {},
   "outputs": [],
   "source": [
    "path_way <- res_data$data %>% \n",
    "    arrange(desc(enrichment_ratio))\n",
    "file_path <- paste(path_save,'validation_','predicted','.csv',sep = '')\n",
    "file_path\n",
    "write.csv(path_way,file_path)"
   ]
  },
  {
   "cell_type": "code",
   "execution_count": null,
   "id": "11ae5ea0-9705-4c6e-87ba-45344b214fec",
   "metadata": {},
   "outputs": [],
   "source": [
    "res_data <- func_metaboanalisys(tmp.vec = metabolites_select,pb_use = 'blood')\n",
    "options(repr.plot.width = 16, repr.plot.height = 8)#22\n",
    "res_data$plot"
   ]
  },
  {
   "cell_type": "code",
   "execution_count": null,
   "id": "ffba45e1-45ef-4fb9-aee8-6d7e3cf40cb3",
   "metadata": {},
   "outputs": [],
   "source": [
    "path_way <- res_data$data %>% \n",
    "    arrange(desc(enrichment_ratio))\n",
    "file_path <- paste(path_save,'validation_','blood','.csv',sep = '')\n",
    "file_path\n",
    "write.csv(path_way,file_path)"
   ]
  },
  {
   "cell_type": "code",
   "execution_count": null,
   "id": "18d070e8-a94a-4531-b149-069e150e8c57",
   "metadata": {},
   "outputs": [],
   "source": [
    "res_data <- func_metaboanalisys(tmp.vec = metabolites_select,pb_use = 'kegg')"
   ]
  },
  {
   "cell_type": "code",
   "execution_count": null,
   "id": "0193423b-66f5-4c6f-a156-839fa9364a39",
   "metadata": {},
   "outputs": [],
   "source": [
    "options(repr.plot.width = 16, repr.plot.height = 10)#22\n",
    "res_data$plot"
   ]
  },
  {
   "cell_type": "code",
   "execution_count": null,
   "id": "337beb23-d63b-45ef-9777-eee05a87de4e",
   "metadata": {},
   "outputs": [],
   "source": [
    "path_way <- res_data$data %>% \n",
    "    arrange(desc(enrichment_ratio))\n",
    "file_path <- paste(path_save,'validation_','kegg','.csv',sep = '')\n",
    "file_path\n",
    "write.csv(path_way,file_path)"
   ]
  },
  {
   "cell_type": "code",
   "execution_count": null,
   "id": "c42d6601-c805-47f8-8f1a-b1acba9f6252",
   "metadata": {},
   "outputs": [],
   "source": [
    "up_validation <- df_res_Validation %>% \n",
    "    filter(cat == 'Down') %>% \n",
    "    pull(metabolites)\n",
    "up_validation %>% length()\n",
    "up_developmental <- df_res_developmental %>% \n",
    "    filter(cat == 'Down') %>% \n",
    "    pull(metabolites)\n",
    "up_developmental %>% length()"
   ]
  },
  {
   "cell_type": "code",
   "execution_count": null,
   "id": "543950c8-0221-47da-9537-690c114ea57a",
   "metadata": {},
   "outputs": [],
   "source": [
    "metabolites_select <- up_developmental %>% iconv(from = 'GBK',to = 'UTF-8')"
   ]
  },
  {
   "cell_type": "code",
   "execution_count": null,
   "id": "d8ed7dc9-387d-4f00-abc4-ccaf107827f0",
   "metadata": {},
   "outputs": [],
   "source": [
    "pb_use = 'RaMP_pathway'\n",
    "res_data <- func_metaboanalisys(tmp.vec = metabolites_select,pb_use = pb_use)\n",
    "path_way <- res_data$data %>% \n",
    "    arrange(desc(enrichment_ratio))\n",
    "file_path <- paste(path_save,'sarcopenia_down_developmental_',pb_use,'.csv',sep = '')\n",
    "file_path\n",
    "write.csv(path_way,file_path)\n",
    "pathway_metabolites <- res_data$pathway_metabolites\n",
    "file_path <- paste(path_save,'sarcopenia_down_developmental_',pb_use,'_metabolites','.csv',sep = '')\n",
    "file_path\n",
    "write.csv(pathway_metabolites,file_path)\n",
    "options(repr.plot.width = 16, repr.plot.height = 10)#22\n",
    "res_data$plot"
   ]
  },
  {
   "cell_type": "code",
   "execution_count": null,
   "id": "f01a7b99-fe5c-42c0-986e-988ccd77b763",
   "metadata": {},
   "outputs": [],
   "source": [
    "res_data <- func_metaboanalisys(tmp.vec = metabolites_select,pb_use = 'smpdb_pathway')\n",
    "path_way <- res_data$data %>% \n",
    "    arrange(desc(enrichment_ratio))\n",
    "file_path <- paste(path_save,'sarcopenia_down_developmental_','smpdb_pathway','.csv',sep = '')\n",
    "file_path\n",
    "write.csv(path_way,file_path)\n",
    "options(repr.plot.width = 16, repr.plot.height = 10)#22\n",
    "res_data$plot"
   ]
  },
  {
   "cell_type": "code",
   "execution_count": null,
   "id": "caa1207c-c64f-46dd-9b21-158af85b379a",
   "metadata": {
    "scrolled": true
   },
   "outputs": [],
   "source": [
    "res_data <- func_metaboanalisys(tmp.vec = metabolites_select,pb_use = 'blood')\n",
    "options(repr.plot.width = 16, repr.plot.height = 24)#22\n",
    "res_data$plot"
   ]
  },
  {
   "cell_type": "code",
   "execution_count": null,
   "id": "34432b92-d59a-4193-8aa4-f0d3c81fe4da",
   "metadata": {},
   "outputs": [],
   "source": [
    "path_way <- res_data$data %>% \n",
    "    arrange(desc(enrichment_ratio))\n",
    "file_path <- paste(path_save,'sarcopenia_down_developmental_','blood','.csv',sep = '')\n",
    "file_path\n",
    "write.csv(path_way,file_path)"
   ]
  },
  {
   "cell_type": "code",
   "execution_count": null,
   "id": "9bb69b17-28b6-4a02-88af-1ce23b5414cc",
   "metadata": {},
   "outputs": [],
   "source": [
    "res_data <- func_metaboanalisys(tmp.vec = metabolites_select,pb_use = 'predicted')\n",
    "options(repr.plot.width = 16, repr.plot.height = 8)#22\n",
    "res_data$plot"
   ]
  },
  {
   "cell_type": "code",
   "execution_count": null,
   "id": "17f6b0f9-69a7-49fe-a9ac-f936636a73fa",
   "metadata": {},
   "outputs": [],
   "source": [
    "path_way <- res_data$data %>% \n",
    "    arrange(desc(enrichment_ratio))\n",
    "file_path <- paste(path_save,'sarcopenia_down_developmental_','predicted','.csv',sep = '')\n",
    "file_path\n",
    "write.csv(path_way,file_path)"
   ]
  },
  {
   "cell_type": "code",
   "execution_count": null,
   "id": "e7062d7c-8d63-447b-87fa-daafe9e9c911",
   "metadata": {},
   "outputs": [],
   "source": [
    "res_data <- func_metaboanalisys(tmp.vec = metabolites_select,pb_use = 'kegg')"
   ]
  },
  {
   "cell_type": "code",
   "execution_count": null,
   "id": "d48bef68-c6b9-4c7a-846e-29994dcf6752",
   "metadata": {},
   "outputs": [],
   "source": [
    "options(repr.plot.width = 16, repr.plot.height = 16)#22\n",
    "res_data$plot"
   ]
  },
  {
   "cell_type": "code",
   "execution_count": null,
   "id": "30899dd5-a94e-47c8-a45f-447867b682a3",
   "metadata": {},
   "outputs": [],
   "source": [
    "path_way <- res_data$data %>% \n",
    "    arrange(desc(enrichment_ratio))\n",
    "file_path <- paste(path_save,'sarcopenia_down_developmental_','kegg','.csv',sep = '')\n",
    "file_path\n",
    "write.csv(path_way,file_path)"
   ]
  },
  {
   "cell_type": "code",
   "execution_count": null,
   "id": "d86bdb67-aa1d-4e70-abe3-032dd2e1cfd6",
   "metadata": {},
   "outputs": [],
   "source": [
    "metabolites_select <- up_validation %>% iconv(from = 'GBK',to = 'UTF-8')"
   ]
  },
  {
   "cell_type": "code",
   "execution_count": null,
   "id": "0e1794c2-707f-4a30-8df7-e268e65cf744",
   "metadata": {},
   "outputs": [],
   "source": [
    "pb_use = 'RaMP_pathway'\n",
    "res_data <- func_metaboanalisys(tmp.vec = metabolites_select,pb_use = pb_use)\n",
    "path_way <- res_data$data %>% \n",
    "    arrange(desc(enrichment_ratio))\n",
    "file_path <- paste(path_save,'sarcopenia_down_validation_',pb_use,'.csv',sep = '')\n",
    "file_path\n",
    "write.csv(path_way,file_path)\n",
    "pathway_metabolites <- res_data$pathway_metabolites\n",
    "file_path <- paste(path_save,'sarcopenia_down_validation_',pb_use,'_metabolites','.csv',sep = '')\n",
    "file_path\n",
    "write.csv(pathway_metabolites,file_path)\n",
    "options(repr.plot.width = 16, repr.plot.height = 10)#22\n",
    "res_data$plot"
   ]
  },
  {
   "cell_type": "code",
   "execution_count": null,
   "id": "abb2abac-7418-4bf8-b1e5-d7c77fe84df7",
   "metadata": {},
   "outputs": [],
   "source": [
    "res_data <- func_metaboanalisys(tmp.vec = metabolites_select,pb_use = 'smpdb_pathway')\n",
    "options(repr.plot.width = 16, repr.plot.height = 10)#22\n",
    "res_data$plot"
   ]
  },
  {
   "cell_type": "code",
   "execution_count": null,
   "id": "353b7d0d-0443-45b2-8c10-c68244be5dd9",
   "metadata": {},
   "outputs": [],
   "source": [
    "path_way <- res_data$data %>% \n",
    "    arrange(desc(enrichment_ratio))\n",
    "file_path <- paste(path_save,'sarcopenia_down_validation_','smpdb_pathway','.csv',sep = '')\n",
    "file_path\n",
    "write.csv(path_way,file_path)"
   ]
  },
  {
   "cell_type": "code",
   "execution_count": null,
   "id": "d2b739ff-ac24-454d-8a91-a65a5985b9ab",
   "metadata": {},
   "outputs": [],
   "source": [
    "res_data <- func_metaboanalisys(tmp.vec = metabolites_select,pb_use = 'blood')\n",
    "options(repr.plot.width = 16, repr.plot.height = 8)#22\n",
    "res_data$plot"
   ]
  },
  {
   "cell_type": "code",
   "execution_count": null,
   "id": "45efecfd-713e-4769-a8f5-0fb44e5f1ff4",
   "metadata": {},
   "outputs": [],
   "source": [
    "path_way <- res_data$data %>% \n",
    "    arrange(desc(enrichment_ratio))\n",
    "file_path <- paste(path_save,'sarcopenia_down_validation_','blood','.csv',sep = '')\n",
    "file_path\n",
    "write.csv(path_way,file_path)"
   ]
  },
  {
   "cell_type": "code",
   "execution_count": null,
   "id": "2634d431-8cbf-4e5b-86af-ef51615a8d4c",
   "metadata": {},
   "outputs": [],
   "source": [
    "res_data <- func_metaboanalisys(tmp.vec = metabolites_select,pb_use = 'predicted')\n",
    "options(repr.plot.width = 16, repr.plot.height = 18)#22\n",
    "res_data$plot"
   ]
  },
  {
   "cell_type": "code",
   "execution_count": null,
   "id": "f9303fc6-45b3-410b-909d-0a8978c99c92",
   "metadata": {},
   "outputs": [],
   "source": [
    "path_way <- res_data$data %>% \n",
    "    arrange(desc(enrichment_ratio))\n",
    "file_path <- paste(path_save,'sarcopenia_down_validation_','predicted','.csv',sep = '')\n",
    "file_path\n",
    "write.csv(path_way,file_path)"
   ]
  },
  {
   "cell_type": "code",
   "execution_count": null,
   "id": "63729b8c-89a2-42dd-9322-3d5fb52854e0",
   "metadata": {},
   "outputs": [],
   "source": [
    "res_data <- func_metaboanalisys(tmp.vec = metabolites_select,pb_use = 'kegg')"
   ]
  },
  {
   "cell_type": "code",
   "execution_count": null,
   "id": "5f5096d6-bd32-4321-bbca-ab2e7ec4448b",
   "metadata": {},
   "outputs": [],
   "source": [
    "options(repr.plot.width = 16, repr.plot.height = 10)#22\n",
    "res_data$plot"
   ]
  },
  {
   "cell_type": "code",
   "execution_count": null,
   "id": "049540b0-a384-41da-9ec5-3490afdd774d",
   "metadata": {},
   "outputs": [],
   "source": [
    "path_way <- res_data$data %>% \n",
    "    arrange(desc(enrichment_ratio))\n",
    "file_path <- paste(path_save,'sarcopenia_down_validation_','kegg','.csv',sep = '')\n",
    "file_path\n",
    "write.csv(path_way,file_path)"
   ]
  }
 ],
 "metadata": {
  "kernelspec": {
   "display_name": "R 4.4",
   "language": "R",
   "name": "ir44"
  },
  "language_info": {
   "codemirror_mode": "r",
   "file_extension": ".r",
   "mimetype": "text/x-r-source",
   "name": "R",
   "pygments_lexer": "r",
   "version": "4.4.1"
  }
 },
 "nbformat": 4,
 "nbformat_minor": 5
}
