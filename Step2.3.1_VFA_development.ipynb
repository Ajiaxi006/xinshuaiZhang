{
 "cells": [
  {
   "cell_type": "code",
   "execution_count": null,
   "id": "d84fa348-8365-45ff-ac08-685b43775ff8",
   "metadata": {},
   "outputs": [],
   "source": [
    "library(ropls)\n",
    "library(ggsci)\n",
    "library(Cairo)\n",
    "library(tidyverse)\n",
    "library(malbacR)\n",
    "library(pmartR)\n",
    "library(ggplot2)\n",
    "library(dplyr)\n",
    "library(tibble)\n",
    "library(tidyr)\n",
    "library(paletteer)\n",
    "library(extrafont)"
   ]
  },
  {
   "cell_type": "markdown",
   "id": "e27454f9-97c9-4043-b7a8-06bc7c7b253e",
   "metadata": {},
   "source": [
    "#### 设置分组标准"
   ]
  },
  {
   "cell_type": "code",
   "execution_count": null,
   "id": "ce7bd116-17c5-440c-8273-2ec3c0aec1f1",
   "metadata": {},
   "outputs": [],
   "source": [
    "group_standard <- 'VFA_group1'\n",
    "save_file_prex <- 'wilcox_VFA_group1'\n",
    "path_save <- paste('/mnt/data3/data_exp_0826/result/Development_Cohort_',save_file_prex,sep = '')\n",
    "dir.create(path_save,showWarnings = FALSE)\n",
    "path_save"
   ]
  },
  {
   "cell_type": "markdown",
   "id": "e6728700-ea9b-4185-981e-736a5b441b5a",
   "metadata": {},
   "source": [
    "#### 读取原始数据"
   ]
  },
  {
   "cell_type": "code",
   "execution_count": null,
   "id": "c34e6997-9e7e-46ac-b663-1dc1a91bb279",
   "metadata": {
    "scrolled": true
   },
   "outputs": [],
   "source": [
    "data_raw <- readRDS('/mnt/data3/data_exp_0826/result/amide_qcrfsc.rds')"
   ]
  },
  {
   "cell_type": "code",
   "execution_count": null,
   "id": "e77c2532-d49a-4816-834b-4fda0327af82",
   "metadata": {
    "scrolled": true
   },
   "outputs": [],
   "source": [
    "options(repr.matrix.max.rows = 20,repr.matrix.max.cols = 20)\n",
    "data_raw$e_data"
   ]
  },
  {
   "cell_type": "code",
   "execution_count": null,
   "id": "3ae9fbd6-9547-4f22-b0da-5e6002a4e720",
   "metadata": {},
   "outputs": [],
   "source": [
    "pmart_amide_norm <- data_raw"
   ]
  },
  {
   "cell_type": "code",
   "execution_count": null,
   "id": "d1409aa4-4a9e-4180-aca6-160d0cda5e63",
   "metadata": {},
   "outputs": [],
   "source": [
    "sampleMetadata <- pmart_amide_norm$f_data\n",
    "sampleMetadata %>% head()"
   ]
  },
  {
   "cell_type": "code",
   "execution_count": null,
   "id": "a2c272e7-4085-427c-806c-06d83bf363c6",
   "metadata": {},
   "outputs": [],
   "source": [
    "sampleMetadata$Sample %>% duplicated() %>% length()"
   ]
  },
  {
   "cell_type": "code",
   "execution_count": null,
   "id": "68c25583-c1ad-4e9e-979d-0df98ce0c0f7",
   "metadata": {},
   "outputs": [],
   "source": [
    "sampleMetadata$group_lv1 %>% unique()\n",
    "sampleMetadata$group_lv2 %>% unique()"
   ]
  },
  {
   "cell_type": "code",
   "execution_count": null,
   "id": "99f7ce68-18b4-42db-9c69-cc06d633d99f",
   "metadata": {
    "scrolled": true
   },
   "outputs": [],
   "source": [
    "sampleMetadata_use <- sampleMetadata %>%\n",
    "  filter(group_lv1 %in% c('Development Cohort'),group_lv2 == 'time_1')"
   ]
  },
  {
   "cell_type": "code",
   "execution_count": null,
   "id": "acd82ebd-b951-4306-b5e2-905a039e1f80",
   "metadata": {},
   "outputs": [],
   "source": [
    "sample_select <- sampleMetadata_use %>%\n",
    "  pull(Sample) %>% unique()\n",
    "sample_select %>% length()\n",
    "sample_select"
   ]
  },
  {
   "cell_type": "code",
   "execution_count": null,
   "id": "4622b6d6-3d39-4a42-ba7d-2dee74c3d2ea",
   "metadata": {
    "scrolled": true
   },
   "outputs": [],
   "source": [
    "dataMatrix_use <- pmart_amide_norm$e_data %>% \n",
    "  column_to_rownames('Molecule') %>% \n",
    "  t() %>% as.data.frame() %>% \n",
    "  rownames_to_column('Sample') %>% \n",
    "  filter(Sample %in% sample_select) %>% \n",
    "  column_to_rownames('Sample')\n",
    "dataMatrix_use %>% dim()\n",
    "dataMatrix_use %>% head()"
   ]
  },
  {
   "cell_type": "code",
   "execution_count": null,
   "id": "2ecdc806-e887-4725-8830-27417e2653b7",
   "metadata": {
    "scrolled": true
   },
   "outputs": [],
   "source": [
    "group_use <- sampleMetadata_use %>% \n",
    "  mutate(Sample = factor(Sample,levels = sample_select)) %>% \n",
    "  arrange(Sample) %>% \n",
    "  pull(all_of(group_standard))\n",
    "group_use %>% table()"
   ]
  },
  {
   "cell_type": "code",
   "execution_count": null,
   "id": "21307e9f-cca7-48d7-8650-1aa97821fa61",
   "metadata": {
    "scrolled": true
   },
   "outputs": [],
   "source": [
    "variableMetadata_use <- pmart_amide_norm$e_meta\n",
    "variableMetadata_use"
   ]
  },
  {
   "cell_type": "code",
   "execution_count": null,
   "id": "9505eb08-aa09-4544-9928-e97a9284bdf1",
   "metadata": {
    "scrolled": true
   },
   "outputs": [],
   "source": [
    "options(repr.plot.width = 20,repr.plot.height = 20)\n",
    "pca = opls(dataMatrix_use)"
   ]
  },
  {
   "cell_type": "code",
   "execution_count": null,
   "id": "91851c89-c6c4-4517-a39a-35a6e5e7743e",
   "metadata": {},
   "outputs": [],
   "source": [
    "dataMatrix_use %>% max()\n",
    "dataMatrix_use %>% min()\n",
    "group_use"
   ]
  },
  {
   "cell_type": "code",
   "execution_count": null,
   "id": "a5f05e52-1150-4582-a711-f79a3e444bc6",
   "metadata": {
    "scrolled": true
   },
   "outputs": [],
   "source": [
    "options(repr.plot.width = 20,repr.plot.height = 20)\n",
    "results_plsda <- list()\n",
    "for (i in 1:10) {\n",
    "  results_plsda[[i]] <- opls(dataMatrix_use, group_use, predI = i, orthoI = 0)\n",
    "  print(paste(\"orthoI =\", i))\n",
    "  print(results_plsda[[i]]@summaryDF)\n",
    "}\n",
    "\n",
    "best_model <- results_plsda[[which.max(sapply(results_plsda, function(x) x@summaryDF$`Q2(cum)`))]]\n"
   ]
  },
  {
   "cell_type": "code",
   "execution_count": null,
   "id": "62040772-9996-4820-b1a0-74cc4acf71b6",
   "metadata": {
    "scrolled": true
   },
   "outputs": [],
   "source": [
    "lapply(1:10,function(i){results_plsda[[i]]@summaryDF})"
   ]
  },
  {
   "cell_type": "code",
   "execution_count": null,
   "id": "5117b555-ad05-4b12-b109-764045a27227",
   "metadata": {
    "scrolled": true
   },
   "outputs": [],
   "source": [
    "plsda = opls(dataMatrix_use,group_use,predI = 10,orthoI = 0)\n"
   ]
  },
  {
   "cell_type": "code",
   "execution_count": null,
   "id": "2db7bf1d-83ae-4f7d-b3d0-8d8b155223f2",
   "metadata": {
    "scrolled": true
   },
   "outputs": [],
   "source": [
    "# sample scores plot\n",
    "sample.score = plsda@scoreMN %>% \n",
    "  as.data.frame() %>%\n",
    "  mutate(group_use = group_use)\n",
    "sample.score %>% head()"
   ]
  },
  {
   "cell_type": "code",
   "execution_count": null,
   "id": "aa420fef-7dc6-4038-b81a-c6a29ff15d3a",
   "metadata": {},
   "outputs": [],
   "source": [
    "options(repr.plot.height = 10,repr.plot.width = 12)\n",
    "ggplot(sample.score, aes(p1, p2, color = group_use)) +\n",
    "  geom_hline(yintercept = 0, linetype = 'dashed', size = 0.5) +\n",
    "  geom_vline(xintercept = 0, linetype = 'dashed', size = 0.5) +\n",
    "  geom_point(size = 5) +\n",
    "  # geom_point(aes(-10,-10), color = 'white') +\n",
    "  annotate(\"point\", x = -10, y = -10, color = \"white\") +\n",
    "  labs(x = 'P1(10.0%)',y = 'P2(9%)') +\n",
    "  stat_ellipse(level = 0.95, linetype = 'solid', \n",
    "               linewidth = 1, show.legend = FALSE) +\n",
    "  scale_color_manual(values = c('#008000','#FFA74F')) +\n",
    "  guides(color = guide_legend(override.aes = list(size = 5))) +\n",
    "  theme_bw() +\n",
    "  theme(legend.position = c(0.15,0.9),\n",
    "    legend.text = element_text(color = 'black',size = 20, family = 'Arial', face = 'plain'),\n",
    "    legend.title = element_text(size = 24),\n",
    "    panel.background = element_blank(),\n",
    "    panel.grid = element_blank(),\n",
    "    axis.text = element_text(color = 'black',size = 15, family = 'Arial', face = 'plain'),\n",
    "    axis.title = element_text(color = 'black',size = 15, family = 'Arial', face = 'plain'),\n",
    "    axis.ticks = element_line(color = 'black'))"
   ]
  },
  {
   "cell_type": "code",
   "execution_count": null,
   "id": "45fe9d4c-5932-42df-8a74-568cb36625ab",
   "metadata": {},
   "outputs": [],
   "source": [
    "vip.score = as.data.frame(plsda@vipVn)\n",
    "colnames(vip.score) = 'vip'\n",
    "vip.score$metabolites = rownames(vip.score)\n",
    "vip.score = vip.score[order(-vip.score$vip),]\n",
    "vip.score$metabolites = factor(vip.score$metabolites,\n",
    "                               levels = vip.score$metabolites)\n",
    " \n",
    "loading.score = plsda@loadingMN %>% as.data.frame()\n",
    "loading.score$metabolites = rownames(loading.score)\n",
    " \n",
    "all.score = merge(vip.score, loading.score, by = 'metabolites')\n",
    " \n",
    "all.score$cat = paste('A',1:nrow(all.score), sep = '')"
   ]
  },
  {
   "cell_type": "code",
   "execution_count": null,
   "id": "9b4f2b28-999f-4926-9964-1ea24ff98add",
   "metadata": {},
   "outputs": [],
   "source": [
    "options(repr.plot.width = 15,repr.plot.height = 6)\n",
    "ggplot(all.score[all.score$vip >= 1,], aes(cat, vip)) +\n",
    "  geom_segment(aes(x = cat, xend = cat,\n",
    "                   y = 0, yend = vip)) +\n",
    "  geom_point(shape = 21, size = 5, color = '#008000' ,fill = '#008000') +\n",
    "  annotate(geom = 'point',x=1,y=2.5, color = 'white') +\n",
    "  geom_hline(yintercept = 1, linetype = 'dashed') +\n",
    "  scale_y_continuous(expand = c(0,0)) +\n",
    "  labs(x = '', y = 'VIP value') +\n",
    "  theme_bw() +\n",
    "  theme(legend.position = 'none',\n",
    "        legend.text = element_text(color = 'black',size = 12, family = 'Arial', face = 'plain'),\n",
    "        panel.background = element_blank(),\n",
    "        panel.grid = element_blank(),\n",
    "        axis.text = element_text(color = 'black',size = 15, family = 'Arial', face = 'plain'),\n",
    "        axis.text.x = element_text(angle = 90),\n",
    "        axis.title = element_text(color = 'black',size = 15, family = 'Arial', face = 'plain'),\n",
    "        axis.ticks = element_line(color = 'black'),\n",
    "        axis.ticks.x = element_blank())"
   ]
  },
  {
   "cell_type": "markdown",
   "id": "3251bd68-f501-489a-903d-4640b343b475",
   "metadata": {},
   "source": [
    "#### oplsda"
   ]
  },
  {
   "cell_type": "code",
   "execution_count": null,
   "id": "572d1fe5-6376-4de4-9fb0-2242ad807645",
   "metadata": {
    "scrolled": true
   },
   "outputs": [],
   "source": [
    "options(repr.plot.width = 20,repr.plot.height = 20)\n",
    "results <- list()\n",
    "for (i in 0:7) {\n",
    "  results[[i+1]] <- opls(dataMatrix_use, group_use, predI = 1, orthoI = i)\n",
    "  print(paste(\"orthoI =\", i))\n",
    "  print(results[[i+1]]@summaryDF)\n",
    "}\n",
    "\n",
    "best_model <- results[[which.max(sapply(results, function(x) x@summaryDF$`Q2(cum)`))]]\n"
   ]
  },
  {
   "cell_type": "code",
   "execution_count": null,
   "id": "41464d5b-bba9-45c3-824c-a1befa2a523f",
   "metadata": {
    "scrolled": true
   },
   "outputs": [],
   "source": [
    "# OPLS-DA analysis\n",
    "options(repr.plot.width = 15,repr.plot.height = 15)\n",
    "dataMatrix_use %>% max()\n",
    "dataMatrix_use %>% min()\n",
    "oplsda = opls(dataMatrix_use, group_use, predI = 1, orthoI = 1)#,permI = 200"
   ]
  },
  {
   "cell_type": "code",
   "execution_count": null,
   "id": "1904b6c5-4588-4c59-853e-4e64f2ced7d1",
   "metadata": {},
   "outputs": [],
   "source": [
    "sample.score = oplsda@scoreMN %>% \n",
    "  as.data.frame() %>%\n",
    "  mutate(group_use = group_use,\n",
    "         o1 = oplsda@orthoScoreMN[,1])"
   ]
  },
  {
   "cell_type": "code",
   "execution_count": null,
   "id": "b25669d1-b17b-460b-8b2b-7d7b1360f73c",
   "metadata": {},
   "outputs": [],
   "source": [
    "sample.score"
   ]
  },
  {
   "cell_type": "code",
   "execution_count": null,
   "id": "c766bd7f-de15-4339-a5a9-67e9086fa524",
   "metadata": {},
   "outputs": [],
   "source": [
    "options(repr.plot.width = 10,repr.plot.height = 8)\n",
    "ggplot(sample.score, aes(p1, o1, color = group_use)) +\n",
    "  geom_hline(yintercept = 0, linetype = 'dashed', size = 0.5) +\n",
    "  geom_vline(xintercept = 0, linetype = 'dashed', size = 0.5) +\n",
    "  geom_point(size = 2) +\n",
    "  #geom_point(aes(-10,-10), color = 'white') +\n",
    "  labs(x = 'P1(5.0%)',y = 'to1') +\n",
    "  stat_ellipse(level = 0.95, linetype = 'solid', \n",
    "               size = 1, show.legend = FALSE) +\n",
    "  scale_color_manual(values = c('#008000','#FFA74F')) +\n",
    "  guides(color = guide_legend(override.aes = list(size = 5))) +\n",
    "  theme_bw() +\n",
    "  theme(legend.position = c(0.1,0.95),\n",
    "        legend.title = element_blank(),\n",
    "        legend.text = element_text(color = 'black',size = 12, family = 'Arial', face = 'plain'),\n",
    "        panel.background = element_blank(),\n",
    "        panel.grid = element_blank(),\n",
    "        axis.text = element_text(color = 'black',size = 15, family = 'Arial', face = 'plain'),\n",
    "        axis.title = element_text(color = 'black',size = 15, family = 'Arial', face = 'plain'),\n",
    "        axis.ticks = element_line(color = 'black'))"
   ]
  },
  {
   "cell_type": "code",
   "execution_count": null,
   "id": "5c4dee1b-2bea-410e-8eea-3f9955f9c124",
   "metadata": {},
   "outputs": [],
   "source": [
    "# VIP scores plot\n",
    "vip.score = as.data.frame(oplsda@vipVn)\n",
    "colnames(vip.score) = 'vip'\n",
    "vip.score$metabolites = rownames(vip.score)\n",
    "vip.score = vip.score[order(-vip.score$vip),]\n",
    "vip.score$metabolites = factor(vip.score$metabolites,\n",
    "                               levels = vip.score$metabolites)\n",
    "vip.score %>% head()"
   ]
  },
  {
   "cell_type": "code",
   "execution_count": null,
   "id": "fb83b314-e6f9-4f74-9b02-934449e44a60",
   "metadata": {},
   "outputs": [],
   "source": [
    "pvaVn <- apply(dataMatrix_use, 2,\n",
    "               function(feaVn) cor.test(group_use %>% as.factor() %>% as.numeric(), feaVn)[[\"p.value\"]])\n",
    "\n",
    "vipVn <- getVipVn(opls(dataMatrix_use, group_use,\n",
    "                       predI = 1, orthoI = 1,\n",
    "                       fig.pdfC = \"none\"))\n",
    "vipVn %>% head()"
   ]
  },
  {
   "cell_type": "code",
   "execution_count": null,
   "id": "0d383c87-2243-4ab2-a16c-3a3eb6e69472",
   "metadata": {
    "scrolled": true
   },
   "outputs": [],
   "source": [
    "# pvaVn <- apply(dataMatrix_use, 2,\n",
    "#                function(feaVn) cor.test(group_use %>% as.factor() %>% as.numeric(), feaVn)[[\"p.value\"]])\n",
    "# p.adj = p.adjust(pvaVn, method = 'BH')\n",
    "e_meta <- pmart_amide_norm$e_meta %>% as.data.frame() %>% \n",
    "    dplyr::rename(metabolites = Molecule)\n",
    "loading.score = oplsda@loadingMN %>% as.data.frame()\n",
    "loading.score$metabolites = rownames(loading.score)\n",
    "all.score  <-  merge(vip.score, loading.score, by = 'metabolites') %>% \n",
    "    # mutate(pvalue = pvaVn,p.adj = p.adj) %>% \n",
    "    left_join(e_meta ,by = 'metabolites')\n",
    "all.score$cat = paste('A',1:nrow(all.score), sep = '')\n",
    "all.score %>% dim()\n",
    "all.score %>% head()"
   ]
  },
  {
   "cell_type": "code",
   "execution_count": null,
   "id": "7e86ed5a-5723-4c1c-a6dd-1503f8d2c472",
   "metadata": {
    "scrolled": true
   },
   "outputs": [],
   "source": [
    "library(stringi)\n",
    "data_plot <- all.score %>% \n",
    "    filter(vip >= 1) %>% \n",
    "    arrange(desc(vip)) %>% \n",
    "    dplyr::slice(1:12,14:21) %>% \n",
    "    mutate(metabolites = stri_enc_toutf8(metabolites)) %>%\n",
    "    mutate(\n",
    "        metabolites = metabolites %>% str_wrap(width = 50,whitespace_only = FALSE)\n",
    "    ) %>% \n",
    "    mutate(metabolites = factor(metabolites,levels = metabolites %>% rev()))\n",
    "data_plot %>% dim()\n",
    "data_plot$level  %>% table()\n",
    "data_plot %>% head()"
   ]
  },
  {
   "cell_type": "code",
   "execution_count": null,
   "id": "29946dcc-6410-456c-870c-3e6e3da6a029",
   "metadata": {},
   "outputs": [],
   "source": [
    "options(repr.plot.width = 14,repr.plot.height = 15)\n",
    "ggplot(data_plot, aes(metabolites, vip)) +\n",
    "  geom_segment(aes(x = metabolites, xend = metabolites,\n",
    "                   y = 0, yend = vip)) +\n",
    "  geom_point(shape = 21, size = 5, color = '#008000' ,fill = '#008000') +\n",
    "  annotate(geom = 'point',x = 1,y = 2.5, color = 'white') +\n",
    "  geom_hline(yintercept = 1, linetype = 'dashed') +\n",
    "  scale_y_continuous(expand = c(0,0),limits = c(0,3.5)) +\n",
    "  labs(x = '', y = 'VIP value') +\n",
    "  coord_flip() +\n",
    "  theme_bw() +\n",
    "  theme(legend.position = 'none',\n",
    "        legend.text = element_text(color = 'black',size = 12, family = 'Arial', face = 'plain'),\n",
    "        panel.background = element_blank(),\n",
    "        panel.grid = element_blank(),\n",
    "        axis.text = element_text(color = 'black',size = 30, family = 'Arial', face = 'plain'),\n",
    "        axis.text.x = element_text(angle = 0,hjust = 1),\n",
    "        axis.title = element_text(color = 'black',size = 20, family = 'Arial', face = 'plain'),\n",
    "        axis.ticks = element_line(color = 'black'),\n",
    "        axis.ticks.x = element_blank())"
   ]
  },
  {
   "cell_type": "code",
   "execution_count": null,
   "id": "d287f574-938c-4472-984d-422c7e84a844",
   "metadata": {
    "scrolled": true
   },
   "outputs": [],
   "source": [
    "# volcano plot\n",
    "df = dataMatrix_use %>% as.data.frame()\n",
    "df$group_use = group_use\n",
    "df = df[order(df$group_use),]\n",
    "df = df %>% select(-c('group_use'))\n",
    "df"
   ]
  },
  {
   "cell_type": "code",
   "execution_count": null,
   "id": "2058e20c-dd7c-4401-8f96-189c0010480a",
   "metadata": {
    "scrolled": true
   },
   "outputs": [],
   "source": [
    "sample_select_m <- sampleMetadata_use$Sample[sampleMetadata_use[[group_standard]] == 'sarcopenia']\n",
    "sample_select_m_rowid <- match(sample_select_m,rownames(df))\n",
    "sample_select_f <- sampleMetadata_use$Sample[sampleMetadata_use[[group_standard]] == 'non-sarcopenia']\n",
    "sample_select_f_rowid <- match(sample_select_f,rownames(df))\n",
    "sample_select_m_rowid;sample_select_f_rowid"
   ]
  },
  {
   "cell_type": "code",
   "execution_count": null,
   "id": "4d5b00f7-d115-4da0-aa9b-7eea6c2eb835",
   "metadata": {},
   "outputs": [],
   "source": [
    "M.mean = apply(df[sample_select_m_rowid,],2,FUN = mean)\n",
    "F.mean = apply(df[sample_select_f_rowid,],2,FUN = mean)\n",
    "FC = M.mean - F.mean\n",
    "log2FC = FC\n",
    "# pvalue = apply(df, 2, function(x)\n",
    "#   {t.test(x[sample_select_m_rowid],x[sample_select_f_rowid])$p.value})\n",
    "pvalue = apply(df, 2, function(x)\n",
    " {wilcox.test(x[sample_select_m_rowid], x[sample_select_f_rowid])$p.value})\n",
    "\n",
    "p.adj = p.adjust(pvalue, method = 'BH')\n",
    "p.adj.log = -log10(p.adj)\n",
    "colcano.df = data.frame(FC,log2FC,pvalue,p.adj, p.adj.log)\n",
    "colcano.df$cat = ifelse(colcano.df$log2FC >= log2(1.2) & colcano.df$pvalue < 0.05,'Up',\n",
    "                        ifelse(colcano.df$log2FC <= log2(1/1.2) & colcano.df$pvalue < 0.05,'Down','NS'))\n",
    "colcano.df$cat %>% table()\n",
    "colcano.df %>% head()"
   ]
  },
  {
   "cell_type": "code",
   "execution_count": null,
   "id": "cb3b4446-29ca-477c-9e18-1cdd6890d294",
   "metadata": {
    "scrolled": true
   },
   "outputs": [],
   "source": [
    "e_meta <- pmart_amide_norm$e_meta %>% as.data.frame() %>% \n",
    "    dplyr::rename(metabolites = Molecule)\n",
    "loading.score = oplsda@loadingMN %>% as.data.frame()\n",
    "loading.score$metabolites = rownames(loading.score)\n",
    "all.score  <-  merge(vip.score, loading.score, by = 'metabolites') %>% \n",
    "    # mutate(pvalue = pvaVn,p.adj = p.adj) %>% \n",
    "    left_join(e_meta ,by = 'metabolites')\n",
    "all.score$cat = paste('A',1:nrow(all.score), sep = '')\n",
    "all.score %>% dim()\n",
    "all.score %>% head()"
   ]
  },
  {
   "cell_type": "code",
   "execution_count": null,
   "id": "71d94463-5cd5-449e-8579-98467e2c5dee",
   "metadata": {},
   "outputs": [],
   "source": [
    "options(repr.matrix.max.cols = 40)\n",
    "df_res  <-  colcano.df %>% \n",
    "    rownames_to_column('metabolites') %>% \n",
    "    left_join(all.score %>% dplyr::select(-c('cat')),by = 'metabolites') %>% \n",
    "    dplyr::select(c('HMDB','metabolites','Super.Class','Class','Sub.Class','level',\n",
    "              'log2FC','pvalue','p.adj','vip','p1','cat','Annotation','Reactome_id','Reactome_Description')) %>% \n",
    "    arrange(log2FC) %>% \n",
    "    mutate(\n",
    "        cat = case_when(\n",
    "            vip > 1 & log2FC >= log2(1.2) & pvalue < 0.05 ~ 'Up',\n",
    "            vip > 1 & log2FC < log2(1/1.2) & pvalue < 0.05 ~ 'Down',\n",
    "            vip > 1 & pvalue > 0.05~ 'vip_sig but p_value_NS',\n",
    "            TRUE ~ 'NS'\n",
    "        ),\n",
    "        cat = factor(cat,levels = c('Up','Down','vip_sig but p_value_NS','NS'))\n",
    "    ) %>% \n",
    "    arrange(cat,desc(log2FC)) %>% \n",
    "    as.data.frame()\n",
    "file_path <- paste(path_save,'/df_res_baseline_sarcopenia vs non-sarcopenia.csv',sep = '')\n",
    "cat(file_path)\n",
    "write.csv(df_res,file_path)\n",
    "df_res$cat %>% table()\n",
    "df_res %>% head()"
   ]
  },
  {
   "cell_type": "code",
   "execution_count": null,
   "id": "03077d66-4f8c-418b-8d75-f3068de47583",
   "metadata": {},
   "outputs": [],
   "source": [
    "options(repr.matrix.max.cols = 40)\n",
    "df_res  <-  colcano.df %>% \n",
    "    rownames_to_column('metabolites') %>% \n",
    "    left_join(all.score %>% select(-c('cat')),by = 'metabolites') %>% \n",
    "    arrange(log2FC) %>% \n",
    "    mutate(\n",
    "        cat = case_when(\n",
    "            vip > 1 & log2FC >= log2(1.2) & pvalue < 0.05 ~ 'Up',\n",
    "            vip > 1 & log2FC < log2(1/1.2) & pvalue < 0.05 ~ 'Down',\n",
    "            vip > 1 & pvalue > 0.05~ 'vip_sig but p_value_NS',\n",
    "            TRUE ~ 'NS'\n",
    "        ),\n",
    "        cat = factor(cat,levels = c('Up','Down','vip_sig but p_value_NS','NS'))\n",
    "    ) %>% \n",
    "    arrange(cat,desc(log2FC)) %>% \n",
    "    as.data.frame()\n",
    "file_path <- paste(path_save,'/df_res_baseline_sarcopenia vs non-sarcopenia_raw.csv',sep = '')\n",
    "cat(file_path)\n",
    "write.csv(df_res,file_path)"
   ]
  }
 ],
 "metadata": {
  "kernelspec": {
   "display_name": "R 4.4",
   "language": "R",
   "name": "ir44"
  },
  "language_info": {
   "codemirror_mode": "r",
   "file_extension": ".r",
   "mimetype": "text/x-r-source",
   "name": "R",
   "pygments_lexer": "r",
   "version": "4.4.1"
  }
 },
 "nbformat": 4,
 "nbformat_minor": 5
}
