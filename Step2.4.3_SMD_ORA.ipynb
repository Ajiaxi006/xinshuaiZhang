{
 "cells": [
  {
   "cell_type": "markdown",
   "id": "42b54a87-7cf3-4888-8116-df20b4e7bab7",
   "metadata": {},
   "source": [
    "# Step2按照不同队列间进行比较"
   ]
  },
  {
   "cell_type": "code",
   "execution_count": null,
   "id": "7a0e3e6d-8387-4a0d-af6a-501f82c3644c",
   "metadata": {},
   "outputs": [],
   "source": [
    "library(ropls)\n",
    "library(ggsci)\n",
    "library(Cairo)\n",
    "library(tidyverse)\n",
    "library(malbacR)\n",
    "library(pmartR)\n",
    "library(ggplot2)\n",
    "library(dplyr)\n",
    "library(tibble)\n",
    "library(tidyr)\n",
    "library(paletteer)\n",
    "library(extrafont)\n",
    "library(ggpubr)\n",
    "library(eulerr)\n",
    "my36colors <-c(\n",
    "  \"#1f77b4\",\"#d62728\",\"#ff7f0e\",\"#2ca02c\",\"#9467bd\",\"#8c564b\",\n",
    "  \"#e377c2\",\"#7f7f7f\",\"#17becf\",\"#aec7e8\",\"#ffbb78\",\n",
    "  \"#98df8a\",\"#ff9896\",\"#c5b0d5\",\"#c49c94\",\"#f7b6d2\",\"#c7c7c7\",\n",
    "  \"#dbdb8d\",\"#9edae5\",\"#7698b3\",\"#d6616b\",\"#a55194\",\"#ce6dbd\",\n",
    "  \"#756bb1\",\"#8c6d31\",\"#b5cf6b\",\"#7b4173\",\"#cedb9c\",\"#6b6ecf\",\n",
    "  \"#9c9ede\",\"#bd9e39\",\"#d9d9d9\",\"#ad494a\",\"#8ca252\",\"#e7ba52\"\n",
    ") "
   ]
  },
  {
   "cell_type": "code",
   "execution_count": null,
   "id": "c6734b65-6131-4074-a2a4-5e4ae9be560d",
   "metadata": {},
   "outputs": [],
   "source": [
    "group_standard <- 'SMD'\n",
    "save_file_prex <- 'wilcox_change_SMD_group2'\n",
    "group_cohort <- 'Validation Cohort'"
   ]
  },
  {
   "cell_type": "code",
   "execution_count": null,
   "id": "c37e7b7d-b74b-4100-a3b2-9fb2ebf9d33e",
   "metadata": {},
   "outputs": [],
   "source": [
    "path_save <- paste(\n",
    "    '/mnt/data3/data_exp_0826/result/pathway_wilcox_',group_standard,\n",
    "    '_group2/',sep = ''\n",
    ")\n",
    "dir.create(path_save,showWarnings = FALSE)\n",
    "path_save"
   ]
  },
  {
   "cell_type": "markdown",
   "id": "f20858d3-6fd7-4fbd-9ed2-2723506d636d",
   "metadata": {},
   "source": [
    "#### 发现队列中基线和验证队列基线计算到的差异代谢物"
   ]
  },
  {
   "cell_type": "code",
   "execution_count": null,
   "id": "ae0e1d04-df4a-4a63-a03d-1fafc2087c10",
   "metadata": {},
   "outputs": [],
   "source": [
    "file_path <- paste(\n",
    "    '/mnt/data3/data_exp_0826/result/Development_Cohort_wilcox_change_',group_standard,\n",
    "    '_group2/df_res_baseline_sarcopenia vs non-sarcopenia_raw.csv',sep = ''\n",
    ")\n",
    "data_smi_develop <- read.csv(\n",
    "    file_path,\n",
    "    row.names = 1) %>% \n",
    "    mutate(\n",
    "        cat = case_when(\n",
    "            vip > 1 & log2FC >= log2(1.2) & pvalue < 0.05 ~ 'Up',\n",
    "            vip > 1 & log2FC < log2(1/1.2) & pvalue < 0.05 ~ 'Down',\n",
    "            vip > 1 & pvalue > 0.05~ 'vip_sig but p_value_NS',\n",
    "            TRUE ~ 'NS'\n",
    "        ),\n",
    "        cat = factor(cat,levels = c('Up','Down','vip_sig but p_value_NS','NS'))\n",
    "    )\n",
    "data_smi_develop %>% head()"
   ]
  },
  {
   "cell_type": "code",
   "execution_count": null,
   "id": "ac9589e6-c8fd-4d0c-ae22-9bcc75454728",
   "metadata": {},
   "outputs": [],
   "source": [
    "file_path <- paste(\n",
    "    '/mnt/data3/data_exp_0826/result/Validation_Cohort_wilcox_change_',group_standard,\n",
    "    '_group2/df_res_baseline_sarcopenia vs non-sarcopenia_raw.csv',sep = ''\n",
    ")\n",
    "data_smi_validation <- read.csv(\n",
    "    file_path,\n",
    "    row.names = 1) %>% \n",
    "    mutate(\n",
    "        cat = case_when(\n",
    "            vip > 1 & log2FC >= log2(1.2) & pvalue < 0.05 ~ 'Up',\n",
    "            vip > 1 & log2FC < log2(1/1.2) & pvalue < 0.05 ~ 'Down',\n",
    "            vip > 1 & pvalue > 0.05~ 'vip_sig but p_value_NS',\n",
    "            TRUE ~ 'NS'\n",
    "        ),\n",
    "        cat = factor(cat,levels = c('Up','Down','vip_sig but p_value_NS','NS'))\n",
    "    )\n",
    "data_smi_validation %>% head()"
   ]
  },
  {
   "cell_type": "code",
   "execution_count": null,
   "id": "c5d4461d-08d2-4c8c-ad97-d5b579dbc249",
   "metadata": {},
   "outputs": [],
   "source": [
    "level_set <- data_smi_develop$level %>% unique()\n",
    "level_set"
   ]
  },
  {
   "cell_type": "markdown",
   "id": "7b78e474-fd93-486c-ac18-b47ed7697111",
   "metadata": {},
   "source": [
    "#### sarcopenia"
   ]
  },
  {
   "cell_type": "code",
   "execution_count": null,
   "id": "0abadd01-12fc-48e1-8686-d2f9ccac4eb6",
   "metadata": {},
   "outputs": [],
   "source": [
    "cat_use <- 'Up'\n",
    "data_smi_develop_sub <- data_smi_develop %>% \n",
    "    filter(cat == cat_use) %>% #,level == level_use\n",
    "    select(c('metabolites','log2FC','pvalue','vip')) %>% \n",
    "    rename_with(~ paste0(., \"_develop\"), -metabolites)\n",
    "data_smi_validation_sub <- data_smi_validation %>% \n",
    "    filter(cat == cat_use) %>% #,level == level_use\n",
    "    select(c('metabolites','level','log2FC','pvalue','cat','vip')) %>% \n",
    "    arrange(level,desc(abs(log2FC))) %>% \n",
    "    rename_with(~ paste0(., \"_validation\"), -c('metabolites','level','cat'))\n",
    "data_plot <- list(\n",
    "  `Developmental Cohort` = data_smi_develop_sub$metabolites %>% unique(),\n",
    "  `Validation Cohort` = data_smi_validation_sub$metabolites %>% unique()\n",
    ")"
   ]
  },
  {
   "cell_type": "code",
   "execution_count": null,
   "id": "dfc7435e-79cc-46de-9db0-a5abc800923a",
   "metadata": {},
   "outputs": [],
   "source": [
    "options(repr.plot.width = 15, repr.plot.height = 15)\n",
    "par(mar = c(5, 100, 4, 2))  \n",
    "p_venn <- plot(\n",
    "  euler(data_plot,shape = \"ellipse\"),\n",
    "  quantities = list(\n",
    "    type = c(\"percent\", \"counts\"),\n",
    "    col = \"black\",\n",
    "    font = 2,\n",
    "    cex = 2\n",
    "  ),\n",
    "  # fills = list(fill = my3color),\n",
    "  labels = list(\n",
    "    labels = names(data_plot) %>% str_remove(' Cohort'),\n",
    "    col = \"black\",\n",
    "    font = 3,\n",
    "    cex = 3\n",
    "  ),\n",
    "  edges = list(col = my36colors, lwd = 5, lty = 1),\n",
    "  main = list(label=c(\n",
    "      paste(\"Highly Expressed in \",group_standard,'-Decrease[change]',sep = '')\n",
    "  ),cex=3),\n",
    "  legend = list(\n",
    "    labels = names(data_plot),\n",
    "    font = 1,\n",
    "    cex = 2,\n",
    "    side = \"right\",\n",
    "    # x = 10,\n",
    "    x = 150,    \n",
    "    y = 3\n",
    "  )\n",
    ")\n",
    "p_venn"
   ]
  },
  {
   "cell_type": "code",
   "execution_count": null,
   "id": "39e23140-8ebe-4502-89d3-c1ebdd99d20b",
   "metadata": {},
   "outputs": [],
   "source": [
    "cat_use <- 'Up'\n",
    "data_smi_develop_sub <- data_smi_develop %>% \n",
    "    filter(cat == cat_use) %>% \n",
    "    select(c('metabolites','log2FC','pvalue','vip')) %>% \n",
    "    rename_with(~ paste0(., \"_develop\"), -metabolites)\n",
    "data_smi_validation_sub <- data_smi_validation %>% \n",
    "    filter(cat == cat_use) %>% #,level == level_use\n",
    "    select(c('metabolites','level','log2FC','pvalue','cat','vip')) %>% \n",
    "    arrange(level,desc(abs(log2FC))) %>% \n",
    "    rename_with(~ paste0(., \"_validation\"), -c('metabolites','level','cat'))\n",
    "data_res_up <- data_smi_validation_sub %>% \n",
    "    left_join(data_smi_develop_sub,by = 'metabolites') %>% \n",
    "    filter(!is.na(log2FC_develop)) %>% \n",
    "    select(c('metabolites','level','cat','log2FC_validation','pvalue_validation','vip_validation','log2FC_develop','pvalue_develop','vip_develop'))\n",
    "data_res_up"
   ]
  },
  {
   "cell_type": "code",
   "execution_count": null,
   "id": "ae8fe971-15d8-467d-8bc2-edb55ef5abca",
   "metadata": {},
   "outputs": [],
   "source": [
    "data_res_up$metabolites"
   ]
  },
  {
   "cell_type": "markdown",
   "id": "81a070c2-752e-45e6-bc61-730750ba5a38",
   "metadata": {},
   "source": [
    "#### non-sarcopenia"
   ]
  },
  {
   "cell_type": "code",
   "execution_count": null,
   "id": "adfaab76-0a31-4665-a511-be42104cdeb2",
   "metadata": {},
   "outputs": [],
   "source": [
    "cat_use <- 'Down'\n",
    "data_smi_develop_sub <- data_smi_develop %>% \n",
    "    filter(cat == cat_use) %>% #,level == level_use\n",
    "    select(c('metabolites','log2FC','pvalue','vip')) %>% \n",
    "    rename_with(~ paste0(., \"_develop\"), -metabolites)\n",
    "data_smi_validation_sub <- data_smi_validation %>% \n",
    "    filter(cat == cat_use) %>% #,level == level_use\n",
    "    select(c('metabolites','level','log2FC','pvalue','cat','vip')) %>% \n",
    "    arrange(level,desc(abs(log2FC))) %>% \n",
    "    rename_with(~ paste0(., \"_validation\"), -c('metabolites','level','cat'))\n",
    "data_plot <- list(\n",
    "  `Developmental Cohort` = data_smi_develop_sub$metabolites %>% unique(),\n",
    "  `Validation Cohort` = data_smi_validation_sub$metabolites %>% unique()\n",
    ")"
   ]
  },
  {
   "cell_type": "code",
   "execution_count": null,
   "id": "4e52203a-c836-443f-9009-4a38a8708cca",
   "metadata": {},
   "outputs": [],
   "source": [
    "options(repr.plot.width = 15, repr.plot.height = 15)\n",
    "par(mar = c(5, 100, 4, 2)) \n",
    "p_venn <- plot(\n",
    "  euler(data_plot,shape = \"ellipse\"),\n",
    "  quantities = list(\n",
    "    type = c(\"percent\", \"counts\"),\n",
    "    col = \"black\",\n",
    "    font = 2,\n",
    "    cex = 2\n",
    "  ),\n",
    "  labels = list(\n",
    "    labels = names(data_plot) %>% str_remove(' Cohort'),\n",
    "    col = \"black\",\n",
    "    font = 3,\n",
    "    cex = 3\n",
    "  ),\n",
    "  edges = list(col = my36colors, lwd = 5, lty = 1),\n",
    "  main = list(label=c(\n",
    "   paste(\"Highly Expressed in \",group_standard,'-Stable[change]',sep = '')   \n",
    "  ),cex=3),\n",
    "  legend = list(\n",
    "    labels = names(data_plot),\n",
    "    font = 1,\n",
    "    cex = 2,\n",
    "    side = \"right\",\n",
    "    # x = 10,\n",
    "    x = 150,    \n",
    "    y = 3\n",
    "  )\n",
    ")\n",
    "p_venn"
   ]
  },
  {
   "cell_type": "code",
   "execution_count": null,
   "id": "1244403f-2f90-4d0e-95b1-a74f93f671c9",
   "metadata": {},
   "outputs": [],
   "source": [
    "cat_use <- 'Down'\n",
    "data_smi_develop_sub <- data_smi_develop %>% \n",
    "    filter(cat == cat_use) %>% #,level == level_use\n",
    "    select(c('metabolites','log2FC','pvalue','vip')) %>% \n",
    "    rename_with(~ paste0(., \"_develop\"), -metabolites)\n",
    "data_smi_validation_sub <- data_smi_validation %>% \n",
    "    filter(cat == cat_use) %>% \n",
    "    select(c('metabolites','level','log2FC','pvalue','cat','vip')) %>% \n",
    "    arrange(level,desc(abs(log2FC))) %>% \n",
    "    rename_with(~ paste0(., \"_validation\"), -c('metabolites','level','cat'))\n",
    "# data_smi_change_up %>% head()\n",
    "data_res_down <- data_smi_validation_sub %>% \n",
    "    left_join(data_smi_develop_sub,by = 'metabolites') %>% \n",
    "    filter(!is.na(log2FC_develop)) %>% \n",
    "    select(c('metabolites','level','cat','log2FC_validation','pvalue_validation','vip_validation','log2FC_develop','pvalue_develop','vip_develop'))\n",
    "data_res_down"
   ]
  },
  {
   "cell_type": "code",
   "execution_count": null,
   "id": "65e4e8c9-7f5e-40a5-8fbd-3d1a8a72288d",
   "metadata": {},
   "outputs": [],
   "source": [
    ".on.public.web = FALSE\n",
    "CalculateHyperScore_self <- function (mSetObj = NA) {\n",
    "    mSetObj <- MetaboAnalystR:::.get.mSet(mSetObj)\n",
    "    if (mSetObj$analSet$type == \"msetssp\") {\n",
    "        ora.vec <- mSetObj$dataSet$cmpd\n",
    "    }else {\n",
    "        nm.map <- GetFinalNameMap(mSetObj)\n",
    "        valid.inx <- !(is.na(nm.map$hmdb) | duplicated(nm.map$hmdb))\n",
    "        ora.vec <- nm.map$hmdb[valid.inx]\n",
    "    }\n",
    "    q.size <- length(ora.vec)\n",
    "    if (all(is.na(ora.vec)) || q.size == 0) {\n",
    "        AddErrMsg(\"No valid HMDB compound names found!\")\n",
    "        return(0)\n",
    "    }\n",
    "    if (!.on.public.web & grepl(\"kegg\", mSetObj$analSet$msetlibname)) {\n",
    "        if (!exists(\"my.hyperscore.kegg\")) {\n",
    "            .load.scripts.on.demand(\"util_api.Rc\")\n",
    "        }\n",
    "        mSetObj$api$oraVec <- ora.vec\n",
    "        if (mSetObj$api$filter) {\n",
    "            mSetObj$api$filterData <- mSetObj$dataSet$metabo.filter.kegg\n",
    "            toSend <- list(mSet = mSetObj, libNm = mSetObj$api$libname, \n",
    "                filter = mSetObj$api$filter, oraVec = mSetObj$api$oraVec, \n",
    "                filterData = mSetObj$api$filterData, excludeNum = mSetObj$api$excludeNum)\n",
    "        }else {\n",
    "            toSend <- list(mSet = mSetObj, libNm = mSetObj$api$libname, \n",
    "                filter = mSetObj$api$filter, oraVec = mSetObj$api$oraVec, \n",
    "                excludeNum = mSetObj$api$excludeNum)\n",
    "        }\n",
    "        saveRDS(toSend, \"tosend.rds\")\n",
    "        return(my.hyperscore.kegg())\n",
    "    }\n",
    "    current.mset <- current.msetlib$member\n",
    "    if (mSetObj$dataSet$use.metabo.filter && !is.null(mSetObj$dataSet$metabo.filter.hmdb)) {\n",
    "        current.mset <- lapply(current.mset, function(x) {\n",
    "            x[x %in% mSetObj$dataSet$metabo.filter.hmdb]\n",
    "        })\n",
    "        mSetObj$dataSet$filtered.mset <- current.mset\n",
    "    }\n",
    "    set.size <- length(current.mset)\n",
    "    if (set.size == 1) {\n",
    "        AddErrMsg(\"Cannot perform enrichment analysis on a single metabolite set!\")\n",
    "        return(0)\n",
    "    }\n",
    "    my.univ <- unique(unlist(current.mset, use.names = FALSE))\n",
    "    if (!is.null(mSetObj$dataSet$metabo.filter.hmdb)) {\n",
    "        my.univ <- unique(mSetObj$dataSet$metabo.filter.hmdb)\n",
    "    }\n",
    "    uniq.count <- length(my.univ)\n",
    "    ora.vec <- ora.vec[ora.vec %in% my.univ]\n",
    "    q.size <- length(ora.vec)\n",
    "    hits <- lapply(current.mset, function(x) {\n",
    "        x[x %in% ora.vec]\n",
    "    })\n",
    "    hit.num <- unlist(lapply(hits, function(x) length(x)), use.names = FALSE)\n",
    "    if (sum(hit.num > 0) == 0) {\n",
    "        AddErrMsg(\"No match was found to the selected metabolite set library!\")\n",
    "        return(0)\n",
    "    }\n",
    "    set.num <- unlist(lapply(current.mset, length), use.names = FALSE)\n",
    "    res.mat <- matrix(NA, nrow = set.size, ncol = 6)\n",
    "    rownames(res.mat) <- names(current.mset)\n",
    "    colnames(res.mat) <- c(\"total\", \"expected\", \"hits\", \"Raw p\", \n",
    "        \"Holm p\", \"FDR\")\n",
    "    for (i in 1:set.size) {\n",
    "        res.mat[i, 1] <- set.num[i]\n",
    "        res.mat[i, 2] <- q.size * (set.num[i]/uniq.count)\n",
    "        res.mat[i, 3] <- hit.num[i]\n",
    "        res.mat[i, 4] <- phyper(hit.num[i] - 1, set.num[i], uniq.count - \n",
    "            set.num[i], q.size, lower.tail = F)\n",
    "    }\n",
    "    res.mat[, 5] <- p.adjust(res.mat[, 4], \"holm\")\n",
    "    res.mat[, 6] <- p.adjust(res.mat[, 4], \"fdr\")\n",
    "    res.mat <- res.mat %>% as.data.frame() %>% filter(hits > 0) %>% arrange(desc(names(.)[4]))\n",
    "    # res.mat <- res.mat[hit.num > 0, ]\n",
    "    ord.inx <- order(res.mat[, 4])\n",
    "    mSetObj$analSet$ora.mat <- signif(res.mat[ord.inx, ], 3)\n",
    "    mSetObj$analSet$ora.hits <- hits\n",
    "    MetaboAnalystR:::fast.write.csv(mSetObj$analSet$ora.mat, file = \"msea_ora_result.csv\")\n",
    "    return(MetaboAnalystR:::.set.mSet(mSetObj))\n",
    "}\n",
    "func_metaboanalisys <- function (tmp.vec, pb_use = \"smpdb_pathway\", p_use = \"Raw p\") {\n",
    "    library(MetaboAnalystR)\n",
    "    mSet <- InitDataObjects(\"conc\", \"msetora\", FALSE)\n",
    "    mSet <- Setup.MapData(mSet, tmp.vec)\n",
    "    mSet <- CrossReferencing(mSet, \"name\")\n",
    "    mSet$name.map\n",
    "    mSet <- CreateMappingResultTable(mSet)\n",
    "    if (!grepl(\"kegg\", pb_use, ignore.case = TRUE)) {\n",
    "        mSet <- SetMetabolomeFilter(mSet, F)\n",
    "        data_res <- SetCurrentMsetLib(mSet, pb_use, 0)\n",
    "        data_res <- CalculateHyperScore_self(data_res)\n",
    "        mSetObj <- data_res\n",
    "        res_metabolites <- lapply(1:length(mSetObj$analSet$ora.hits),FUN = function(x){\n",
    "            if(length(mSetObj$analSet$ora.hits[[x]])>0){\n",
    "                metabolites_all <- mSetObj$analSet$ora.hits[[x]]\n",
    "                pathwayname <- mSetObj$analSet$ora.hits[x] %>% names()\n",
    "                tmp <- data.frame(\n",
    "                    pathwayname = pathwayname,\n",
    "                    metabolites_all = paste(metabolites_all,collapse = ';')\n",
    "                )\n",
    "                return(tmp)\n",
    "            }\n",
    "        }) %>% Filter(Negate(is.null), .) %>% \n",
    "            do.call(rbind,.)\n",
    "        folds <- mSetObj$analSet$ora.mat[, 3]/mSetObj$analSet$ora.mat[,2]\n",
    "        names(folds) <- MetaboAnalystR:::GetShortNames(rownames(mSetObj$analSet$ora.mat))\n",
    "        pvals <- mSetObj$analSet$ora.mat[, 4]\n",
    "        data_plot <- data.frame(pathway = folds %>% names() %>% \n",
    "            as.factor(), enrichment_ratio = folds %>% as.numeric(), \n",
    "            hits = mSetObj$analSet$ora.mat[, 3], pvalue = pvals) %>% \n",
    "            arrange(enrichment_ratio) %>% mutate(pathway = pathway %>% \n",
    "            factor(levels = pathway %>% unique()), pvalue = -log10(pvalue))\n",
    "        data_plot %>% head()\n",
    "        value_min <- data_plot[[ncol(data_plot)]] %>% min() %>% \n",
    "            {\n",
    "                . * 100\n",
    "            } %>% ceiling() %>% {\n",
    "            ./100\n",
    "        }\n",
    "        value_max <- data_plot[[ncol(data_plot)]] %>% max() %>% \n",
    "            {\n",
    "                . * 100\n",
    "            } %>% floor() %>% {\n",
    "            ./100\n",
    "        }\n",
    "        value_middle <- (value_min + (value_max - value_min)/2) %>% \n",
    "            round(., digits = 1)\n",
    "        plot_res <- ggplot(data = data_plot, aes(x = enrichment_ratio, \n",
    "            y = pathway, fill = .data[[names(data_plot)[ncol(data_plot)]]])) + \n",
    "            geom_bar(stat = \"identity\") + geom_text(aes(x = enrichment_ratio + \n",
    "            max(enrichment_ratio) * 0.05, label = hits), size = 10, \n",
    "            hjust = 1) + geom_text(data = data_plot[data_plot$pvalue > \n",
    "            (-log10(0.05)), ], aes(x = enrichment_ratio + max(enrichment_ratio) * \n",
    "            0.05, label = hits), color = \"red\", size = 10, hjust = 1) + \n",
    "            scale_x_continuous(expand = c(0.01, 0)) + scale_fill_gradient2(low = \"white\", \n",
    "            mid = \"#AAC0CF\", high = \"#2B5C8A\", breaks = c(value_min, \n",
    "                value_middle, value_max)) + labs(fill = \"-Log10(Pvalue)\") + \n",
    "            theme_classic() + theme(plot.margin = margin(l = 10), \n",
    "            axis.text = element_text(size = 20), axis.text.y = element_text(size = 30, \n",
    "                angle = 0, hjust = 1, vjust = 0.5), axis.title = element_text(size = 24, \n",
    "                hjust = 0.5, vjust = 1), axis.title.y = element_blank(), \n",
    "            legend.position = \"right\", legend.title = element_text(size = 24, \n",
    "                margin = margin(b = 20)), legend.text = element_text(size = 20), \n",
    "            )\n",
    "    }\n",
    "    else {\n",
    "        mSet <- InitDataObjects(\"conc\", \"msetora\", FALSE)\n",
    "        mSet <- Setup.MapData(mSet, tmp.vec)\n",
    "        mSet <- CrossReferencing(mSet, \"name\")\n",
    "        mSet <- CreateMappingResultTable(mSet)\n",
    "        mSet <- SetMetabolomeFilter(mSet, F)\n",
    "        nm.map <- GetFinalNameMap(mSet)\n",
    "        valid.inx <- !(is.na(nm.map$hmdb) | duplicated(nm.map$hmdb))\n",
    "        ora.vec <- nm.map$hmdb[valid.inx]\n",
    "        q.size <- length(ora.vec)\n",
    "        if (all(is.na(ora.vec)) || q.size == 0) {\n",
    "            AddErrMsg(\"No valid HMDB compound names found!\")\n",
    "            return(0)\n",
    "        }\n",
    "        list_kegg_all <- readRDS(\"/mnt/data/jupyter_code/代谢组学/全谱代谢组分析/list_kegg_all.rds\")\n",
    "        current.mset <- list_kegg_all\n",
    "        set.size <- length(current.mset)\n",
    "        if (set.size == 1) {\n",
    "            AddErrMsg(\"Cannot perform enrichment analysis on a single metabolite set!\")\n",
    "            return(0)\n",
    "        }\n",
    "        set.size <- length(current.mset)\n",
    "        if (set.size == 1) {\n",
    "            AddErrMsg(\"Cannot perform enrichment analysis on a single metabolite set!\")\n",
    "            return(0)\n",
    "        }\n",
    "        my.univ <- unique(unlist(current.mset, use.names = FALSE))\n",
    "        if (!is.null(mSet$dataSet$metabo.filter.hmdb)) {\n",
    "            my.univ <- unique(mSet$dataSet$metabo.filter.hmdb)\n",
    "        }\n",
    "        uniq.count <- length(my.univ)\n",
    "        ora.vec <- ora.vec[ora.vec %in% my.univ]\n",
    "        q.size <- length(ora.vec)\n",
    "        hits <- lapply(current.mset, function(x) {\n",
    "            x[x %in% ora.vec]\n",
    "        })\n",
    "        #比对的分子导出\n",
    "        res_metabolites <- lapply(1:length(hits),FUN = function(x){\n",
    "            if(length(hits[[x]])>0){\n",
    "                metabolites_all <- hits[[x]]\n",
    "                pathwayname <- hits[x] %>% names()\n",
    "                tmp <- data.frame(\n",
    "                    pathwayname = pathwayname,\n",
    "                    metabolites_all = paste(metabolites_all,collapse = ';')\n",
    "                )\n",
    "                return(tmp)\n",
    "            }\n",
    "        }) %>% Filter(Negate(is.null), .) %>% \n",
    "            do.call(rbind,.)\n",
    "        hit.num <- unlist(lapply(hits, function(x) length(x)), \n",
    "            use.names = FALSE)\n",
    "        if (sum(hit.num > 0) == 0) {\n",
    "            AddErrMsg(\"No match was found to the selected metabolite set library!\")\n",
    "            return(0)\n",
    "        }\n",
    "        set.num <- unlist(lapply(current.mset, length), use.names = FALSE)\n",
    "        res.mat <- matrix(NA, nrow = set.size, ncol = 6)\n",
    "        rownames(res.mat) <- names(current.mset)\n",
    "        colnames(res.mat) <- c(\"total\", \"expected\", \"hits\", \"Raw p\", \n",
    "            \"Holm p\", \"FDR\")\n",
    "        for (i in 1:set.size) {\n",
    "            res.mat[i, 1] <- set.num[i]\n",
    "            res.mat[i, 2] <- q.size * (set.num[i]/uniq.count)\n",
    "            res.mat[i, 3] <- hit.num[i]\n",
    "            res.mat[i, 4] <- phyper(hit.num[i] - 1, set.num[i], \n",
    "                uniq.count - set.num[i], q.size, lower.tail = F)\n",
    "        }\n",
    "        res.mat[, 5] <- p.adjust(res.mat[, 4], \"holm\")\n",
    "        res.mat[, 6] <- p.adjust(res.mat[, 4], \"fdr\")\n",
    "        res.mat <- res.mat %>% as.data.frame() %>% filter(hits > \n",
    "            0) %>% arrange(desc(names(.)[4]))\n",
    "        p_label <- ifelse(p_use == \"Raw p\", \"Pvalue\", \"P.adj\")\n",
    "        data_plot <- signif(res.mat, 3) %>% as.data.frame() %>% \n",
    "            mutate(enrichment_ratio = hits/expected) %>% rownames_to_column(\"pathway\") %>% \n",
    "            arrange(enrichment_ratio) %>% mutate(pathway = pathway %>% \n",
    "            str_remove_all(\" - Homo sapiens \\\\(human\\\\)\"), pathway = factor(pathway, \n",
    "            levels = pathway %>% unique()), `:=`(!!paste0(\"-log10(\", \n",
    "            p_label, \")\"), -log10(!!sym(p_use))))\n",
    "        value_min <- data_plot[[ncol(data_plot)]] %>% min() %>% \n",
    "            {\n",
    "                . * 100\n",
    "            } %>% ceiling() %>% {\n",
    "            ./100\n",
    "        }\n",
    "        value_max <- data_plot[[ncol(data_plot)]] %>% max() %>% \n",
    "            {\n",
    "                . * 100\n",
    "            } %>% floor() %>% {\n",
    "            ./100\n",
    "        }\n",
    "        value_middle <- (value_min + (value_max - value_min)/2) %>% \n",
    "            round(., digits = 1)\n",
    "        plot_res <- ggplot(data = data_plot, aes(x = enrichment_ratio, \n",
    "            y = pathway, fill = .data[[names(data_plot)[ncol(data_plot)]]])) + \n",
    "            geom_bar(stat = \"identity\") + geom_text(aes(x = enrichment_ratio + \n",
    "            max(enrichment_ratio) * 0.05, label = hits), size = 10, \n",
    "            hjust = 1) + geom_text(data = data_plot[data_plot[[names(data_plot)[ncol(data_plot)]]] > \n",
    "            (-log10(0.05)), ], aes(x = enrichment_ratio + max(enrichment_ratio) * \n",
    "            0.05, label = hits), color = \"red\", size = 10, hjust = 1) + \n",
    "            scale_x_continuous(expand = c(0.01, 0)) + scale_fill_gradient2(low = \"white\", \n",
    "            mid = \"#AAC0CF\", high = \"#2B5C8A\", breaks = c(value_min, \n",
    "                value_middle, value_max)) + labs(fill = \"-Log10(P.adj)\") + \n",
    "            theme_classic() + theme(plot.margin = margin(l = 10), \n",
    "            axis.text = element_text(size = 20), axis.text.y = element_text(size = 30, \n",
    "                angle = 0, hjust = 1, vjust = 0.5), axis.title = element_text(size = 24, \n",
    "                hjust = 0.5, vjust = 1), axis.title.y = element_blank(), \n",
    "            legend.position = \"right\", legend.title = element_text(size = 24, \n",
    "                margin = margin(b = 20)), legend.text = element_text(size = 20), \n",
    "            )\n",
    "    }\n",
    "    return(list(plot = plot_res, data = data_plot,pathway_metabolites = res_metabolites))\n",
    "}"
   ]
  },
  {
   "cell_type": "code",
   "execution_count": null,
   "id": "19f66950-d597-42cd-8e39-80dc64a4ae37",
   "metadata": {},
   "outputs": [],
   "source": [
    "file_path <- paste(\n",
    "    '/mnt/data3/data_exp_0826/result/Validation_Cohort_wilcox_change_',group_standard,\n",
    "    '_group2/df_res_baseline_sarcopenia vs non-sarcopenia_raw.csv',sep = ''\n",
    ")\n",
    "df_res_Validation  <- read.csv(file_path,row.names = 1) %>% \n",
    "    mutate(\n",
    "        cat = case_when(\n",
    "            vip > 1 & log2FC >= log2(1.2) & pvalue < 0.05 ~ 'Up',\n",
    "            vip > 1 & log2FC < log2(1/1.2) & pvalue < 0.05 ~ 'Down',\n",
    "            vip > 1 & pvalue > 0.05 ~ 'vip_sig but p_value_NS',\n",
    "            TRUE ~ 'NS'\n",
    "        ),\n",
    "        cat = factor(cat,levels = c('Up','Down','vip_sig but p_value_NS','NS'))\n",
    "    ) %>% \n",
    "    arrange(cat,desc(log2FC)) %>% \n",
    "    as.data.frame()\n",
    "file_path <- paste(\n",
    "    '/mnt/data3/data_exp_0826/result/Development_Cohort_wilcox_change_',group_standard,\n",
    "    '_group2/df_res_baseline_sarcopenia vs non-sarcopenia_raw.csv',sep = ''\n",
    ")\n",
    "df_res_developmental  <- read.csv(file_path,row.names = 1) %>% \n",
    "    mutate(\n",
    "        cat = case_when(\n",
    "            vip > 1 & log2FC >= log2(1.2) & pvalue < 0.05 ~ 'Up',\n",
    "            vip > 1 & log2FC < log2(1/1.2) & pvalue < 0.05 ~ 'Down',\n",
    "            vip > 1 & pvalue > 0.05 ~ 'vip_sig but p_value_NS',\n",
    "            TRUE ~ 'NS'\n",
    "        ),\n",
    "        cat = factor(cat,levels = c('Up','Down','vip_sig but p_value_NS','NS'))\n",
    "    ) %>% \n",
    "    arrange(cat,desc(log2FC)) %>% \n",
    "    as.data.frame()"
   ]
  },
  {
   "cell_type": "code",
   "execution_count": null,
   "id": "eaa64e49-1b5a-44a5-b9f3-5890250a4940",
   "metadata": {},
   "outputs": [],
   "source": [
    "up_validation <- df_res_Validation %>% \n",
    "    filter(cat == 'Up') %>% \n",
    "    pull(metabolites)\n",
    "up_validation %>% length()\n",
    "up_developmental <- df_res_developmental %>% \n",
    "    filter(cat == 'Up') %>% \n",
    "    pull(metabolites)\n",
    "up_developmental %>% length()"
   ]
  },
  {
   "cell_type": "code",
   "execution_count": null,
   "id": "3f19ce51-3ef6-4631-82df-d95a5a4a1f9e",
   "metadata": {},
   "outputs": [],
   "source": [
    "metabolites_select <- up_developmental %>% iconv(from = 'GBK',to = 'UTF-8')"
   ]
  },
  {
   "cell_type": "code",
   "execution_count": null,
   "id": "ef37cd68-2434-4fa5-a02b-a50b8aa4ed56",
   "metadata": {},
   "outputs": [],
   "source": [
    "pb_use = 'RaMP_pathway'\n",
    "res_data <- func_metaboanalisys(tmp.vec = metabolites_select,pb_use = 'RaMP_pathway')\n",
    "path_way <- res_data$data %>% \n",
    "    arrange(desc(enrichment_ratio))\n",
    "file_path <- paste(path_save,'Decrease_up_developmental_',pb_use,'.csv',sep = '')\n",
    "file_path\n",
    "write.csv(path_way,file_path)\n",
    "pathway_metabolites <- res_data$pathway_metabolites\n",
    "file_path <- paste(path_save,'Decrease_up_developmental_',pb_use,'_metabolites','.csv',sep = '')\n",
    "file_path\n",
    "write.csv(pathway_metabolites,file_path)\n",
    "options(repr.plot.width = 16, repr.plot.height = 10)#22\n",
    "res_data$plot"
   ]
  },
  {
   "cell_type": "code",
   "execution_count": null,
   "id": "f457325e-f141-47cf-8c2c-bbf081c28d3e",
   "metadata": {},
   "outputs": [],
   "source": [
    "res_data <- func_metaboanalisys(tmp.vec = metabolites_select,pb_use = 'smpdb_pathway')\n",
    "path_way <- res_data$data %>% \n",
    "    arrange(desc(enrichment_ratio))\n",
    "file_path <- paste(path_save,'Decrease_up_developmental_','smpdb_pathway','.csv',sep = '')\n",
    "file_path\n",
    "write.csv(path_way,file_path)\n",
    "options(repr.plot.width = 16, repr.plot.height = 15)#22\n",
    "res_data$plot"
   ]
  },
  {
   "cell_type": "code",
   "execution_count": null,
   "id": "4ed4f1fc-dd28-4c68-89b6-b906e57a3a3d",
   "metadata": {},
   "outputs": [],
   "source": [
    "res_data <- func_metaboanalisys(tmp.vec = metabolites_select,pb_use = 'predicted')\n",
    "options(repr.plot.width = 16, repr.plot.height = 8)#22\n",
    "res_data$plot"
   ]
  },
  {
   "cell_type": "code",
   "execution_count": null,
   "id": "fe7e0642-af36-4699-b8bd-63a46e16aafe",
   "metadata": {},
   "outputs": [],
   "source": [
    "path_way <- res_data$data %>% \n",
    "    arrange(desc(enrichment_ratio))\n",
    "file_path <- paste(path_save,'Decrease_up_developmental_','predicted','.csv',sep = '')\n",
    "file_path\n",
    "write.csv(path_way,file_path)"
   ]
  },
  {
   "cell_type": "code",
   "execution_count": null,
   "id": "1edf34e5-970a-4015-a4cd-070475b2044f",
   "metadata": {},
   "outputs": [],
   "source": [
    "res_data <- func_metaboanalisys(tmp.vec = metabolites_select,pb_use = 'blood')\n",
    "options(repr.plot.width = 16, repr.plot.height = 12)#22\n",
    "res_data$plot"
   ]
  },
  {
   "cell_type": "code",
   "execution_count": null,
   "id": "5378bb63-3145-414e-be7a-cb02bf44b0f8",
   "metadata": {},
   "outputs": [],
   "source": [
    "path_way <- res_data$data %>% \n",
    "    arrange(desc(enrichment_ratio))\n",
    "file_path <- paste(path_save,'Decrease_up_developmental_','blood','.csv',sep = '')\n",
    "file_path\n",
    "write.csv(path_way,file_path)"
   ]
  },
  {
   "cell_type": "code",
   "execution_count": null,
   "id": "10d138d3-2574-4594-b990-f039d0e9b5e9",
   "metadata": {},
   "outputs": [],
   "source": [
    "res_data <- func_metaboanalisys(tmp.vec = metabolites_select,pb_use = 'kegg')"
   ]
  },
  {
   "cell_type": "code",
   "execution_count": null,
   "id": "d34b79d3-eb77-4cf8-aa94-581d61952f72",
   "metadata": {},
   "outputs": [],
   "source": [
    "options(repr.plot.width = 16, repr.plot.height = 10)#22\n",
    "res_data$plot"
   ]
  },
  {
   "cell_type": "code",
   "execution_count": null,
   "id": "518901f9-168c-4edf-aaf7-897446eafafc",
   "metadata": {},
   "outputs": [],
   "source": [
    "path_way <- res_data$data %>% \n",
    "    arrange(desc(enrichment_ratio))\n",
    "file_path <- paste(path_save,'Decrease_up_developmental_','kegg','.csv',sep = '')\n",
    "file_path\n",
    "write.csv(path_way,file_path)"
   ]
  },
  {
   "cell_type": "code",
   "execution_count": null,
   "id": "495278ce-f1a9-4f55-8a8f-598278e9f07c",
   "metadata": {},
   "outputs": [],
   "source": [
    "metabolites_select <- up_validation"
   ]
  },
  {
   "cell_type": "code",
   "execution_count": null,
   "id": "1d9b1873-4866-4489-87b8-23ff0e80b12d",
   "metadata": {},
   "outputs": [],
   "source": [
    "pb_use = 'RaMP_pathway'\n",
    "res_data <- func_metaboanalisys(tmp.vec = metabolites_select,pb_use = pb_use)\n",
    "path_way <- res_data$data %>% \n",
    "    arrange(desc(enrichment_ratio))\n",
    "file_path <- paste(path_save,'Decrease_up_validation_',pb_use,'.csv',sep = '')\n",
    "file_path\n",
    "write.csv(path_way,file_path)\n",
    "pathway_metabolites <- res_data$pathway_metabolites\n",
    "file_path <- paste(path_save,'Decrease_up_validation_',pb_use,'_metabolites','.csv',sep = '')\n",
    "file_path\n",
    "write.csv(pathway_metabolites,file_path)\n",
    "options(repr.plot.width = 16, repr.plot.height = 10)#22\n",
    "res_data$plot"
   ]
  },
  {
   "cell_type": "code",
   "execution_count": null,
   "id": "26ab851b-9791-409d-9a0f-29b73339e506",
   "metadata": {},
   "outputs": [],
   "source": [
    "res_data <- func_metaboanalisys(tmp.vec = metabolites_select,pb_use = 'smpdb_pathway')\n",
    "options(repr.plot.width = 16, repr.plot.height = 10)#22\n",
    "res_data$plot"
   ]
  },
  {
   "cell_type": "code",
   "execution_count": null,
   "id": "59ce98c9-d287-4b0a-a4a9-ba2851abcfb4",
   "metadata": {},
   "outputs": [],
   "source": [
    "path_way <- res_data$data %>% \n",
    "    arrange(desc(enrichment_ratio))\n",
    "file_path <- paste(path_save,'Decrease_up_validation_','smpdb_pathway','.csv',sep = '')\n",
    "file_path\n",
    "write.csv(path_way,file_path)"
   ]
  },
  {
   "cell_type": "code",
   "execution_count": null,
   "id": "264229d2-e243-4c2e-b0b0-742e36a221e5",
   "metadata": {},
   "outputs": [],
   "source": [
    "# res_data <- func_metaboanalisys(tmp.vec = metabolites_select,pb_use = 'predicted')\n",
    "# options(repr.plot.width = 16, repr.plot.height = 18)#22\n",
    "# res_data$plot"
   ]
  },
  {
   "cell_type": "code",
   "execution_count": null,
   "id": "a7d71f4e-eb6b-49f9-b3c3-70e8031bba20",
   "metadata": {},
   "outputs": [],
   "source": [
    "# path_way <- res_data$data %>% \n",
    "#     arrange(desc(enrichment_ratio))\n",
    "# file_path <- paste(path_save,'validation_','predicted','.csv',sep = '')\n",
    "# file_path\n",
    "# write.csv(path_way,file_path)"
   ]
  },
  {
   "cell_type": "code",
   "execution_count": null,
   "id": "0145aaab-84c1-47ab-bbcc-e0a0b545c289",
   "metadata": {},
   "outputs": [],
   "source": [
    "res_data <- func_metaboanalisys(tmp.vec = metabolites_select,pb_use = 'blood')\n",
    "options(repr.plot.width = 16, repr.plot.height = 8)#22\n",
    "res_data$plot"
   ]
  },
  {
   "cell_type": "code",
   "execution_count": null,
   "id": "ba76043d-636a-452d-b17b-7aa8867d0426",
   "metadata": {},
   "outputs": [],
   "source": [
    "path_way <- res_data$data %>% \n",
    "    arrange(desc(enrichment_ratio))\n",
    "file_path <- paste(path_save,'Decrease_up_validation_','blood','.csv',sep = '')\n",
    "file_path\n",
    "write.csv(path_way,file_path)"
   ]
  },
  {
   "cell_type": "code",
   "execution_count": null,
   "id": "e63262ca-63d8-4050-8f47-819f52da7cd7",
   "metadata": {},
   "outputs": [],
   "source": [
    "res_data <- func_metaboanalisys(tmp.vec = metabolites_select,pb_use = 'kegg')"
   ]
  },
  {
   "cell_type": "code",
   "execution_count": null,
   "id": "212dab08-6b6d-48a0-9f78-cc5efa8613a2",
   "metadata": {},
   "outputs": [],
   "source": [
    "options(repr.plot.width = 16, repr.plot.height = 10)#22\n",
    "res_data$plot"
   ]
  },
  {
   "cell_type": "code",
   "execution_count": null,
   "id": "4a9bded8-fbff-4d1a-9489-6c941db6171b",
   "metadata": {},
   "outputs": [],
   "source": [
    "path_way <- res_data$data %>% \n",
    "    arrange(desc(enrichment_ratio))\n",
    "file_path <- paste(path_save,'Decrease_up_validation_','kegg','.csv',sep = '')\n",
    "file_path\n",
    "write.csv(path_way,file_path)"
   ]
  },
  {
   "cell_type": "code",
   "execution_count": null,
   "id": "f0e4cd38-b7a9-427a-b797-4f7e777d9bea",
   "metadata": {},
   "outputs": [],
   "source": [
    "up_validation <- df_res_Validation %>% \n",
    "    filter(cat == 'Down') %>% \n",
    "    pull(metabolites)\n",
    "up_validation %>% length()\n",
    "up_developmental <- df_res_developmental %>% \n",
    "    filter(cat == 'Down') %>% \n",
    "    pull(metabolites)\n",
    "up_developmental %>% length()"
   ]
  },
  {
   "cell_type": "code",
   "execution_count": null,
   "id": "8f63baaf-2db5-4ff0-9f33-866d31c5edca",
   "metadata": {},
   "outputs": [],
   "source": [
    "metabolites_select <- up_developmental %>% iconv(from = 'GBK',to = 'UTF-8')"
   ]
  },
  {
   "cell_type": "code",
   "execution_count": null,
   "id": "da86f4af-2316-4239-8c9d-266e8f5d37bd",
   "metadata": {},
   "outputs": [],
   "source": [
    "pb_use = 'RaMP_pathway'\n",
    "res_data <- func_metaboanalisys(tmp.vec = metabolites_select,pb_use = pb_use)\n",
    "path_way <- res_data$data %>% \n",
    "    arrange(desc(enrichment_ratio))\n",
    "file_path <- paste(path_save,'Decrease_down_developmental_',pb_use,'.csv',sep = '')\n",
    "file_path\n",
    "write.csv(path_way,file_path)\n",
    "pathway_metabolites <- res_data$pathway_metabolites\n",
    "file_path <- paste(path_save,'Decrease_down_developmental_',pb_use,'_metabolites','.csv',sep = '')\n",
    "file_path\n",
    "write.csv(pathway_metabolites,file_path)\n",
    "options(repr.plot.width = 16, repr.plot.height = 10)#22\n",
    "res_data$plot"
   ]
  },
  {
   "cell_type": "code",
   "execution_count": null,
   "id": "d5580777-269e-4edd-a7b5-a765cfe55df5",
   "metadata": {},
   "outputs": [],
   "source": [
    "res_data <- func_metaboanalisys(tmp.vec = metabolites_select,pb_use = 'smpdb_pathway')\n",
    "path_way <- res_data$data %>% \n",
    "    arrange(desc(enrichment_ratio))\n",
    "file_path <- paste(path_save,'Decrease_down_developmental_','smpdb_pathway','.csv',sep = '')\n",
    "file_path\n",
    "write.csv(path_way,file_path)\n",
    "options(repr.plot.width = 16, repr.plot.height = 10)#22\n",
    "res_data$plot"
   ]
  },
  {
   "cell_type": "code",
   "execution_count": null,
   "id": "e3f6e5f3-e5e2-441f-82a8-da1f8455fe65",
   "metadata": {
    "scrolled": true
   },
   "outputs": [],
   "source": [
    "res_data <- func_metaboanalisys(tmp.vec = metabolites_select,pb_use = 'blood')\n",
    "options(repr.plot.width = 16, repr.plot.height = 24)#22\n",
    "res_data$plot"
   ]
  },
  {
   "cell_type": "code",
   "execution_count": null,
   "id": "122d0cc2-c6c0-43a1-a6d3-58d4c726516f",
   "metadata": {},
   "outputs": [],
   "source": [
    "path_way <- res_data$data %>% \n",
    "    arrange(desc(enrichment_ratio))\n",
    "file_path <- paste(path_save,'Decrease_down_developmental_','blood','.csv',sep = '')\n",
    "file_path\n",
    "write.csv(path_way,file_path)"
   ]
  },
  {
   "cell_type": "code",
   "execution_count": null,
   "id": "89ce6713-3b05-408d-ae02-27096250c970",
   "metadata": {},
   "outputs": [],
   "source": [
    "res_data <- func_metaboanalisys(tmp.vec = metabolites_select,pb_use = 'predicted')\n",
    "options(repr.plot.width = 16, repr.plot.height = 8)#22\n",
    "res_data$plot"
   ]
  },
  {
   "cell_type": "code",
   "execution_count": null,
   "id": "5f490c64-3f5f-453f-9dc0-7451363bda9f",
   "metadata": {},
   "outputs": [],
   "source": [
    "path_way <- res_data$data %>% \n",
    "    arrange(desc(enrichment_ratio))\n",
    "file_path <- paste(path_save,'Decrease_down_developmental_','predicted','.csv',sep = '')\n",
    "file_path\n",
    "write.csv(path_way,file_path)"
   ]
  },
  {
   "cell_type": "code",
   "execution_count": null,
   "id": "b8dfc2b3-8b5a-4efa-a65e-664fa2f0a447",
   "metadata": {},
   "outputs": [],
   "source": [
    "res_data <- func_metaboanalisys(tmp.vec = metabolites_select,pb_use = 'kegg')"
   ]
  },
  {
   "cell_type": "code",
   "execution_count": null,
   "id": "893ce537-ba17-4c63-8a46-0c2215b66bb6",
   "metadata": {},
   "outputs": [],
   "source": [
    "options(repr.plot.width = 16, repr.plot.height = 16)#22\n",
    "res_data$plot"
   ]
  },
  {
   "cell_type": "code",
   "execution_count": null,
   "id": "82a27b8e-406d-4d72-a499-69b8be96547a",
   "metadata": {},
   "outputs": [],
   "source": [
    "path_way <- res_data$data %>% \n",
    "    arrange(desc(enrichment_ratio))\n",
    "file_path <- paste(path_save,'Decrease_down_developmental_','kegg','.csv',sep = '')\n",
    "file_path\n",
    "write.csv(path_way,file_path)"
   ]
  },
  {
   "cell_type": "code",
   "execution_count": null,
   "id": "c19cb99e-fa1f-44b4-991a-cbfabf22503f",
   "metadata": {},
   "outputs": [],
   "source": [
    "metabolites_select <- up_validation %>% iconv(from = 'GBK',to = 'UTF-8')"
   ]
  },
  {
   "cell_type": "code",
   "execution_count": null,
   "id": "fa303bbc-b0fb-419f-9b0c-8c9eadb0d815",
   "metadata": {},
   "outputs": [],
   "source": [
    "pb_use = 'RaMP_pathway'\n",
    "res_data <- func_metaboanalisys(tmp.vec = metabolites_select,pb_use = pb_use)\n",
    "path_way <- res_data$data %>% \n",
    "    arrange(desc(enrichment_ratio))\n",
    "file_path <- paste(path_save,'Decrease_down_validation_',pb_use,'.csv',sep = '')\n",
    "file_path\n",
    "write.csv(path_way,file_path)\n",
    "pathway_metabolites <- res_data$pathway_metabolites\n",
    "file_path <- paste(path_save,'Decrease_down_validation_',pb_use,'_metabolites','.csv',sep = '')\n",
    "file_path\n",
    "write.csv(pathway_metabolites,file_path)\n",
    "options(repr.plot.width = 16, repr.plot.height = 10)#22\n",
    "res_data$plot"
   ]
  },
  {
   "cell_type": "code",
   "execution_count": null,
   "id": "e142afe6-7e4c-4246-b80b-7b3f431431a1",
   "metadata": {},
   "outputs": [],
   "source": [
    "res_data <- func_metaboanalisys(tmp.vec = metabolites_select,pb_use = 'smpdb_pathway')\n",
    "options(repr.plot.width = 16, repr.plot.height = 10)#22\n",
    "res_data$plot"
   ]
  },
  {
   "cell_type": "code",
   "execution_count": null,
   "id": "8655dbc6-fb93-4c56-bd2f-fe40226b7404",
   "metadata": {},
   "outputs": [],
   "source": [
    "path_way <- res_data$data %>% \n",
    "    arrange(desc(enrichment_ratio))\n",
    "file_path <- paste(path_save,'Decrease_down_validation_','smpdb_pathway','.csv',sep = '')\n",
    "file_path\n",
    "write.csv(path_way,file_path)"
   ]
  },
  {
   "cell_type": "code",
   "execution_count": null,
   "id": "44529c2b-aaf0-493f-9e67-36778e83ef43",
   "metadata": {},
   "outputs": [],
   "source": [
    "res_data <- func_metaboanalisys(tmp.vec = metabolites_select,pb_use = 'blood')\n",
    "options(repr.plot.width = 16, repr.plot.height = 8)#22\n",
    "res_data$plot"
   ]
  },
  {
   "cell_type": "code",
   "execution_count": null,
   "id": "e088a177-34ac-47b3-9b10-91a86445a377",
   "metadata": {},
   "outputs": [],
   "source": [
    "path_way <- res_data$data %>% \n",
    "    arrange(desc(enrichment_ratio))\n",
    "file_path <- paste(path_save,'Decrease_down_validation_','blood','.csv',sep = '')\n",
    "file_path\n",
    "write.csv(path_way,file_path)"
   ]
  },
  {
   "cell_type": "code",
   "execution_count": null,
   "id": "731bad0f-9c79-4ebe-8f05-776a8e191d34",
   "metadata": {},
   "outputs": [],
   "source": [
    "res_data <- func_metaboanalisys(tmp.vec = metabolites_select,pb_use = 'predicted')\n",
    "options(repr.plot.width = 16, repr.plot.height = 18)#22\n",
    "res_data$plot"
   ]
  },
  {
   "cell_type": "code",
   "execution_count": null,
   "id": "a5192f6e-9509-4604-a49e-7260580877af",
   "metadata": {},
   "outputs": [],
   "source": [
    "path_way <- res_data$data %>% \n",
    "    arrange(desc(enrichment_ratio))\n",
    "file_path <- paste(path_save,'Decrease_down_validation_','predicted','.csv',sep = '')\n",
    "file_path\n",
    "write.csv(path_way,file_path)"
   ]
  },
  {
   "cell_type": "code",
   "execution_count": null,
   "id": "e873b6c8-fd02-4e97-a1ea-5292694e6af7",
   "metadata": {},
   "outputs": [],
   "source": [
    "res_data <- func_metaboanalisys(tmp.vec = metabolites_select,pb_use = 'kegg')"
   ]
  },
  {
   "cell_type": "code",
   "execution_count": null,
   "id": "887753c9-52e6-4eb5-97cd-6b54940c9ff1",
   "metadata": {},
   "outputs": [],
   "source": [
    "options(repr.plot.width = 16, repr.plot.height = 10)#22\n",
    "res_data$plot"
   ]
  },
  {
   "cell_type": "code",
   "execution_count": null,
   "id": "5f28715f-ec96-4249-b3a4-815c7d852166",
   "metadata": {},
   "outputs": [],
   "source": [
    "path_way <- res_data$data %>% \n",
    "    arrange(desc(enrichment_ratio))\n",
    "file_path <- paste(path_save,'Decrease_down_validation_','kegg','.csv',sep = '')\n",
    "file_path\n",
    "write.csv(path_way,file_path)"
   ]
  },
  {
   "cell_type": "code",
   "execution_count": null,
   "id": "e40a9d5a-7966-4db5-ab1a-4bfd14adcdf2",
   "metadata": {
    "scrolled": true
   },
   "outputs": [],
   "source": [
    "file_paths <-list(\n",
    "    '/mnt/data3/data_exp_0826/result/pathway_wilcox_SMD_group2/Decrease_down_developmental_RaMP_pathway.csv',\n",
    "    '/mnt/data3/data_exp_0826/result/pathway_wilcox_SMD_group2/Decrease_down_validation_RaMP_pathway.csv'\n",
    ")\n",
    "library(stringr)\n",
    "data_metabolites <- lapply(file_paths, function(file_path){\n",
    "  file_name <- file_path %>% str_split('/') %>% unlist() %>% .[length(.)]\n",
    "  cat = file_name %>% str_split('_') %>% unlist() %>% .[2]\n",
    "  group = file_name %>% str_split('_') %>% unlist() %>% .[3]\n",
    "  data <- read.csv(file_path,row.names = 1) %>% \n",
    "    mutate(\n",
    "        group = group,cat = cat\n",
    "    ) %>% \n",
    "    mutate(cat = 'Down')\n",
    "}) %>% \n",
    "  do.call(rbind,.) %>% \n",
    "  group_by(pathway) %>% \n",
    "  filter(length(unique(group))>1) %>% \n",
    "  ungroup()\n",
    "library(purrr)\n",
    "data_pathway <- data_metabolites %>% \n",
    "    group_split(group) %>%  \n",
    "    purrr::reduce(function(x, y) {\n",
    "      x <-  x %>% select(-c('group','cat'))\n",
    "      y <-  y %>% select(-c('group','cat'))\n",
    "      full_join(x, y, by = 'pathway', suffix = c('_development','_validation')) \n",
    "    }) %>% \n",
    "    mutate(\n",
    "        cat = 'Down'\n",
    "    )\n",
    "pathway_select_down <- data_pathway$pathway\n",
    "data_pathway"
   ]
  },
  {
   "cell_type": "code",
   "execution_count": null,
   "id": "b8f72ad9-bfdd-416f-b1a1-decb02e2502e",
   "metadata": {
    "scrolled": true
   },
   "outputs": [],
   "source": [
    "file_paths <-list(\n",
    "    '/mnt/data3/data_exp_0826/result/pathway_wilcox_SMD_group2/Decrease_down_developmental_RaMP_pathway_metabolites.csv',\n",
    "    '/mnt/data3/data_exp_0826/result/pathway_wilcox_SMD_group2/Decrease_down_validation_RaMP_pathway_metabolites.csv'\n",
    ")\n",
    "library(stringr)\n",
    "data_metabolites <- lapply(file_paths, function(file_path){\n",
    "  file_name <- file_path %>% str_split('/') %>% unlist() %>% .[length(.)]\n",
    "  cat = file_name %>% str_split('_') %>% unlist() %>% .[2]\n",
    "  group = file_name %>% str_split('_') %>% unlist() %>% .[3]\n",
    "  data <- read.csv(file_path,row.names = 1) %>% \n",
    "    mutate(\n",
    "        group = group,cat = cat\n",
    "    )\n",
    "}) %>% \n",
    "  do.call(rbind,.) %>% \n",
    "  rename(pathway = pathwayname)\n",
    "library(purrr)\n",
    "data_metabolites <- data_metabolites %>% \n",
    "    group_split(group) %>% \n",
    "    purrr::reduce(function(x, y) {\n",
    "      x <-  x %>% select(-c('group','cat'))\n",
    "      y <-  y %>% select(-c('group','cat'))\n",
    "      full_join(x, y, by = 'pathway', suffix = c('_development','_validation'))  \n",
    "    }) %>% \n",
    "    mutate(\n",
    "    group = 'Down'\n",
    "    )\n",
    "data_metabolites"
   ]
  },
  {
   "cell_type": "code",
   "execution_count": null,
   "id": "ed69c606-7684-4639-bfbf-ec3c79a14e3d",
   "metadata": {
    "scrolled": true
   },
   "outputs": [],
   "source": [
    "data_pathway_metabolites <- data_pathway %>% \n",
    "    left_join(data_metabolites,by = 'pathway') %>% \n",
    "    select(-c('hits_development','hits_validation','group')) %>% \n",
    "    select(c('pathway','enrichment_ratio_development','pvalue_development','enrichment_ratio_validation','pvalue_validation','metabolites_all_development','metabolites_all_validation','cat')) %>% \n",
    "    mutate(\n",
    "        group = case_when(\n",
    "          pvalue_development > (-log10(0.05)) & pvalue_validation > (-log10(0.05)) ~ 'Double',\n",
    "          pvalue_development > (-log10(0.05)) ~ 'Development',\n",
    "          pvalue_validation > (-log10(0.05))~ 'validation',\n",
    "          TRUE ~ 'NS'\n",
    "        ),\n",
    "        group = factor(group,levels = c('Double','Development','validation','NS'))\n",
    "      ) %>% \n",
    "    arrange(group)\n",
    "data_pathway_metabolites"
   ]
  },
  {
   "cell_type": "markdown",
   "id": "155dce41-c690-4631-b2cb-11ea969b8951",
   "metadata": {},
   "source": [
    "### 上调"
   ]
  },
  {
   "cell_type": "code",
   "execution_count": null,
   "id": "a730f58f-5ca8-4c2a-91ee-43d3d1a40d8f",
   "metadata": {
    "scrolled": true
   },
   "outputs": [],
   "source": [
    "file_paths <-list(\n",
    "    '/mnt/data3/data_exp_0826/result/pathway_wilcox_SMD_group2/Decrease_up_developmental_RaMP_pathway.csv',\n",
    "    '/mnt/data3/data_exp_0826/result/pathway_wilcox_SMD_group2/Decrease_up_validation_RaMP_pathway.csv'\n",
    ")\n",
    "library(stringr)\n",
    "data_metabolites <- lapply(file_paths, function(file_path){\n",
    "  file_name <- file_path %>% str_split('/') %>% unlist() %>% .[length(.)]\n",
    "  cat = file_name %>% str_split('_') %>% unlist() %>% .[2]\n",
    "  group = file_name %>% str_split('_') %>% unlist() %>% .[3]\n",
    "  data <- read.csv(file_path,row.names = 1) %>% \n",
    "    mutate(\n",
    "        group = group,cat = cat\n",
    "    ) %>% \n",
    "    mutate(cat = 'Down')\n",
    "}) %>% \n",
    "  do.call(rbind,.) %>% \n",
    "  group_by(pathway) %>% \n",
    "  filter(length(unique(group))>1) %>% \n",
    "  ungroup()\n",
    "library(purrr)\n",
    "data_pathway <- data_metabolites %>% \n",
    "    group_split(group) %>% \n",
    "    purrr::reduce(function(x, y) {\n",
    "      x <-  x %>% select(-c('group','cat'))\n",
    "      y <-  y %>% select(-c('group','cat'))\n",
    "      full_join(x, y, by = 'pathway', suffix = c('_development','_validation'))  \n",
    "    }) %>% \n",
    "    mutate(\n",
    "        cat = 'Up'\n",
    "    )\n",
    "pathway_select_down <- data_pathway$pathway\n",
    "data_pathway"
   ]
  },
  {
   "cell_type": "code",
   "execution_count": null,
   "id": "c3d8a671-1156-400c-b640-5860d99a33b2",
   "metadata": {
    "scrolled": true
   },
   "outputs": [],
   "source": [
    "file_paths <-list(\n",
    "    '/mnt/data3/data_exp_0826/result/pathway_wilcox_SMD_group2/Decrease_up_developmental_RaMP_pathway_metabolites.csv',\n",
    "    '/mnt/data3/data_exp_0826/result/pathway_wilcox_SMD_group2/Decrease_up_validation_RaMP_pathway_metabolites.csv'\n",
    ")\n",
    "library(stringr)\n",
    "data_metabolites <- lapply(file_paths, function(file_path){\n",
    "  file_name <- file_path %>% str_split('/') %>% unlist() %>% .[length(.)]\n",
    "  cat = file_name %>% str_split('_') %>% unlist() %>% .[2]\n",
    "  group = file_name %>% str_split('_') %>% unlist() %>% .[3]\n",
    "  data <- read.csv(file_path,row.names = 1) %>% \n",
    "    mutate(\n",
    "        group = group,cat = cat\n",
    "    )\n",
    "}) %>% \n",
    "  do.call(rbind,.) %>% \n",
    "  rename(pathway = pathwayname)\n",
    "library(purrr)\n",
    "data_metabolites <- data_metabolites %>% \n",
    "    group_split(group) %>%  \n",
    "    purrr::reduce(function(x, y) {\n",
    "      x <-  x %>% select(-c('group','cat'))\n",
    "      y <-  y %>% select(-c('group','cat'))\n",
    "      full_join(x, y, by = 'pathway', suffix = c('_development','_validation'))  # 根据 Pathway 进行合并\n",
    "    }) %>% \n",
    "    mutate(\n",
    "    group = 'Up'\n",
    "    )\n",
    "data_metabolites"
   ]
  },
  {
   "cell_type": "code",
   "execution_count": null,
   "id": "af9b4dce-1959-4bdc-9a1a-9ed1b26ef2bb",
   "metadata": {},
   "outputs": [],
   "source": [
    "data_pathway_metabolites <- data_pathway %>% \n",
    "    left_join(data_metabolites,by = 'pathway') %>% \n",
    "    select(-c('hits_development','hits_validation','group')) %>% \n",
    "    select(c('pathway','enrichment_ratio_development','pvalue_development','enrichment_ratio_validation','pvalue_validation','metabolites_all_development','metabolites_all_validation','cat')) %>% \n",
    "    mutate(\n",
    "        group = case_when(\n",
    "          pvalue_development > (-log10(0.05)) & pvalue_validation > (-log10(0.05)) ~ 'Double',\n",
    "          pvalue_development > (-log10(0.05)) ~ 'Development',\n",
    "          pvalue_validation > (-log10(0.05)) ~ 'validation',\n",
    "          TRUE ~ 'NS'\n",
    "        ),\n",
    "        group = factor(group,levels = c('Double','Development','validation','NS'))\n",
    "      ) %>% \n",
    "    arrange(group)\n",
    "data_pathway_metabolites"
   ]
  },
  {
   "cell_type": "code",
   "execution_count": null,
   "id": "3c690aeb-1a83-4536-861b-3c5951f8ff90",
   "metadata": {
    "scrolled": true
   },
   "outputs": [],
   "source": [
    "data_pathway_metabolites_up <- read.csv('/mnt/data3/data_exp_0826/result/figure_use/SMD-up-pathway-metabolites.csv',row.names = 1)\n",
    "data_pathway_metabolites_down <- read.csv('/mnt/data3/data_exp_0826/result/figure_use/SMD-down-pathway-metabolites.csv',row.names = 1)\n",
    "data_pathway_metabolites <- rbind(\n",
    "    data_pathway_metabolites_up,data_pathway_metabolites_down\n",
    ")\n",
    "write.csv(data_pathway_metabolites,'/mnt/data3/data_exp_0826/result/figure_use/SMD-all-pathway-metabolites.csv')\n",
    "data_pathway_metabolites"
   ]
  }
 ],
 "metadata": {
  "kernelspec": {
   "display_name": "R 4.4",
   "language": "R",
   "name": "ir44"
  },
  "language_info": {
   "codemirror_mode": "r",
   "file_extension": ".r",
   "mimetype": "text/x-r-source",
   "name": "R",
   "pygments_lexer": "r",
   "version": "4.4.1"
  }
 },
 "nbformat": 4,
 "nbformat_minor": 5
}
